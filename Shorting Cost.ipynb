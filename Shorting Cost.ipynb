{
 "cells": [
  {
   "cell_type": "markdown",
   "metadata": {},
   "source": [
    "### Importing the required libraries and dataset"
   ]
  },
  {
   "cell_type": "code",
   "execution_count": 1,
   "metadata": {},
   "outputs": [],
   "source": [
    "import pandas as pd\n",
    "import numpy as np\n",
    "import scipy.stats as st"
   ]
  },
  {
   "cell_type": "code",
   "execution_count": 2,
   "metadata": {},
   "outputs": [],
   "source": [
    "data=pd.read_excel(r\"D:\\Elahe\\MSF\\Thesis\\Datasets\\sample.xlsx\")"
   ]
  },
  {
   "cell_type": "markdown",
   "metadata": {},
   "source": [
    "#### Calculating daily return and shorting daily return for bull, bear and index"
   ]
  },
  {
   "cell_type": "code",
   "execution_count": 3,
   "metadata": {},
   "outputs": [],
   "source": [
    "def daily_return (price, ticker):\n",
    "    daily_return = [\".\"]\n",
    "    for i in range (1, len(price)):\n",
    "        if ticker[i]==ticker[i-1]:\n",
    "            daily_return.append((price[i]-price[i-1])/price[i-1])\n",
    "        else:\n",
    "            daily_return.append(\".\")\n",
    "    return daily_return"
   ]
  },
  {
   "cell_type": "code",
   "execution_count": 4,
   "metadata": {},
   "outputs": [],
   "source": [
    "def short_daily_return (daily_return, cost):\n",
    "    daily_cost=(cost+1)**(1/254)-1\n",
    "    short_return=[]\n",
    "    for i in range (len(daily_return)):\n",
    "        if daily_return[i] != \".\":\n",
    "            short_return.append((daily_return[i]*-1)-daily_cost)\n",
    "        else:\n",
    "            short_return.append(\".\")\n",
    "    return short_return"
   ]
  },
  {
   "cell_type": "markdown",
   "metadata": {},
   "source": [
    "#### Calculating cumulative return"
   ]
  },
  {
   "cell_type": "code",
   "execution_count": 5,
   "metadata": {},
   "outputs": [],
   "source": [
    "def Cumulative_Return (daily_return, period):\n",
    "    Cumulative_Return=[]\n",
    "    for i in range (len(daily_return)):\n",
    "        if daily_return[i]==\".\":\n",
    "            Cumulative_Return.append(\".\")\n",
    "        elif daily_return[i-1]==\".\":\n",
    "            Cumulative_Return.append(daily_return[i]-1)\n",
    "        elif period[i-1]==period[i]:\n",
    "            Cumulative_Return.append(Cumulative_Return[i-1]*(daily_return[i]-1))\n",
    "        else:\n",
    "            Cumulative_Return.append(daily_return[i]-1)\n",
    "    for j in range (len(Cumulative_Return)):\n",
    "        if Cumulative_Return[j]!=\".\":\n",
    "            Cumulative_Return[j]=1-abs(Cumulative_Return[j])\n",
    "    return Cumulative_Return"
   ]
  },
  {
   "cell_type": "markdown",
   "metadata": {},
   "source": [
    "#### Calculating sharpe ratio"
   ]
  },
  {
   "cell_type": "code",
   "execution_count": 6,
   "metadata": {},
   "outputs": [],
   "source": [
    "def Sharpe_Ratio (daily_return, Rf, period):\n",
    "    Partial_Data=[]\n",
    "    Sharpe_Ratio=[]\n",
    "    for i in range (len(daily_return)):\n",
    "        if daily_return[i]==\".\":\n",
    "            Sharpe_Ratio.append(\".\")\n",
    "        elif i == len(daily_return)-1:\n",
    "            Partial_Data.append(daily_return[i]-Rf[i])\n",
    "            Sharpe_Ratio.append(np.mean(Partial_Data)/np.std(Partial_Data))\n",
    "        elif period[i]==period[i+1]:\n",
    "            Partial_Data.append(daily_return[i]-Rf[i])\n",
    "            Sharpe_Ratio.append(\".\")\n",
    "        else:\n",
    "            Partial_Data.append(daily_return[i]-Rf[i])\n",
    "            Sharpe_Ratio.append(np.mean(Partial_Data)/np.std(Partial_Data))\n",
    "            Partial_Data=[]\n",
    "    return Sharpe_Ratio"
   ]
  },
  {
   "cell_type": "markdown",
   "metadata": {},
   "source": [
    "#### Calculating Sortino ratio"
   ]
  },
  {
   "cell_type": "code",
   "execution_count": 7,
   "metadata": {},
   "outputs": [],
   "source": [
    "def Sortino_Ratio (daily_return, Rf, period):\n",
    "    Partial_Data=[]\n",
    "    negative_return=[]\n",
    "    Sortino_Ratio=[]\n",
    "    for i in range (len(daily_return)):\n",
    "        if daily_return[i]==\".\":\n",
    "            Sortino_Ratio.append(\".\")\n",
    "        elif i == len(daily_return)-1:\n",
    "            Partial_Data.append(daily_return[i]-Rf[i])\n",
    "            if daily_return[i]-Rf[i]<0:\n",
    "                negative_return.append((daily_return[i]-Rf[i])**2)\n",
    "            Sortino_Ratio.append(np.mean(Partial_Data)/((np.sum(negative_return)/len(negative_return))**(1/2)))\n",
    "        elif period[i]==period[i+1]:\n",
    "            Partial_Data.append(daily_return[i]-Rf[i])\n",
    "            Sortino_Ratio.append(\".\")\n",
    "            if daily_return[i]-Rf[i]<0:\n",
    "                negative_return.append((daily_return[i]-Rf[i])**2)\n",
    "        else:\n",
    "            Partial_Data.append(daily_return[i]-Rf[i])\n",
    "            if daily_return[i]-Rf[i]<0:\n",
    "                negative_return.append((daily_return[i]-Rf[i])**2)\n",
    "            Sortino_Ratio.append(np.mean(Partial_Data)/((np.sum(negative_return)/len(negative_return))**(1/2)))\n",
    "            Partial_Data=[]\n",
    "            negative_return=[]\n",
    "    return Sortino_Ratio"
   ]
  },
  {
   "cell_type": "markdown",
   "metadata": {},
   "source": [
    "#### Calculating analytical VaR"
   ]
  },
  {
   "cell_type": "code",
   "execution_count": 8,
   "metadata": {},
   "outputs": [],
   "source": [
    "def Analytical_VaR (daily_return, period):\n",
    "    Partial_Data=[]\n",
    "    Analytical_VaR=[]\n",
    "    for i in range (len(daily_return)):\n",
    "        if daily_return[i]==\".\":\n",
    "            Analytical_VaR.append(\".\")\n",
    "        elif i == len(daily_return)-1:\n",
    "            Partial_Data.append(daily_return[i])\n",
    "            Analytical_VaR.append(np.mean(Partial_Data)-(1.65*np.std(Partial_Data)))\n",
    "        elif period[i]==period[i+1]:\n",
    "            Partial_Data.append(daily_return[i])\n",
    "            Analytical_VaR.append(\".\")\n",
    "        else:\n",
    "            Partial_Data.append(daily_return[i])\n",
    "            Analytical_VaR.append(np.mean(Partial_Data)-(1.65*np.std(Partial_Data)))\n",
    "            Partial_Data=[]\n",
    "    return Analytical_VaR"
   ]
  },
  {
   "cell_type": "markdown",
   "metadata": {},
   "source": [
    "#### Calculating VaR"
   ]
  },
  {
   "cell_type": "code",
   "execution_count": 9,
   "metadata": {},
   "outputs": [],
   "source": [
    "def VaR (daily_return, period):\n",
    "    Partial_Data=[]\n",
    "    VaR=[]\n",
    "    for i in range (len(daily_return)):\n",
    "        if daily_return[i]==\".\":\n",
    "            VaR.append(\".\")\n",
    "        elif i == len(daily_return)-1:\n",
    "            Partial_Data.append(daily_return[i])\n",
    "            Partial_Data.sort()\n",
    "            VaR.append(Partial_Data[round(0.05*len(Partial_Data))-1])\n",
    "        elif period[i]==period[i+1]:\n",
    "            Partial_Data.append(daily_return[i])\n",
    "            VaR.append(\".\")\n",
    "        else:\n",
    "            Partial_Data.append(daily_return[i])\n",
    "            Partial_Data.sort()\n",
    "            VaR.append(Partial_Data[round(0.05*len(Partial_Data))-1])\n",
    "            Partial_Data=[]\n",
    "    return VaR"
   ]
  },
  {
   "cell_type": "markdown",
   "metadata": {},
   "source": [
    "#### Calculating expected VaR"
   ]
  },
  {
   "cell_type": "code",
   "execution_count": 10,
   "metadata": {},
   "outputs": [],
   "source": [
    "def Expected_VaR (daily_return, period):\n",
    "    Partial_Data=[]\n",
    "    Expected_VaR=[]\n",
    "    Sum_Left_Tail=0\n",
    "    for i in range (len(daily_return)):\n",
    "        if daily_return[i]==\".\":\n",
    "            Expected_VaR.append(\".\")\n",
    "        elif i == len(daily_return)-1:\n",
    "            Partial_Data.append(daily_return[i])\n",
    "            Partial_Data.sort()\n",
    "            for j in range(round(0.05*len(Partial_Data))):\n",
    "                Sum_Left_Tail+=Partial_Data[j]\n",
    "            Expected_VaR.append(Sum_Left_Tail/round(0.05*len(Partial_Data)))\n",
    "        elif period[i]==period[i+1]:\n",
    "            Partial_Data.append(daily_return[i])\n",
    "            Expected_VaR.append(\".\")\n",
    "        else:\n",
    "            Partial_Data.append(daily_return[i])\n",
    "            Partial_Data.sort()\n",
    "            for j in range(round(0.05*len(Partial_Data))):\n",
    "                Sum_Left_Tail+=Partial_Data[j]\n",
    "            Expected_VaR.append(Sum_Left_Tail/round(0.05*len(Partial_Data)))\n",
    "            Partial_Data=[]\n",
    "            Sum_Left_Tail=0\n",
    "    return Expected_VaR"
   ]
  },
  {
   "cell_type": "markdown",
   "metadata": {},
   "source": [
    "#### Creating portfolios and finding the best strategy"
   ]
  },
  {
   "cell_type": "code",
   "execution_count": 11,
   "metadata": {},
   "outputs": [],
   "source": [
    "def Portfolio (Bull_Return, Bear_Return, Bull_Weight, Bear_Weight):\n",
    "    portfolio_return=[]\n",
    "    for i in range (len(Bull_Return)):\n",
    "        if Bull_Return[i] != \".\":\n",
    "            portfolio_return.append((Bull_Return[i]*Bull_Weight)+(Bear_Return[i]*Bear_Weight))\n",
    "        else:\n",
    "            portfolio_return.append(\".\")\n",
    "    return portfolio_return"
   ]
  },
  {
   "cell_type": "code",
   "execution_count": 12,
   "metadata": {},
   "outputs": [],
   "source": [
    "def Best_Strategy (P1,P2,P3,P4,P5,P6,P7):\n",
    "    Highest_Return=[]\n",
    "    Best_Strategy=[]\n",
    "    for i in range (len(P1)):\n",
    "        if P1[i]!=\".\":\n",
    "            Highest_Return.append(max(P1[i],P2[i],P3[i],P4[i],P5[i],P6[i],P7[i]))\n",
    "            if max(P1[i],P2[i],P3[i],P4[i],P5[i],P6[i],P7[i]) == P1[i]:\n",
    "                Best_Strategy.append(\"1:0\")\n",
    "            elif max(P1[i],P2[i],P3[i],P4[i],P5[i],P6[i],P7[i]) == P2[i]:\n",
    "                Best_Strategy.append(\"0.75:0.25\")\n",
    "            elif max(P1[i],P2[i],P3[i],P4[i],P5[i],P6[i],P7[i]) == P3[i]:\n",
    "                Best_Strategy.append(\"0.67:0.33\")\n",
    "            elif max(P1[i],P2[i],P3[i],P4[i],P5[i],P6[i],P7[i]) == P4[i]:\n",
    "                Best_Strategy.append(\"0.5:0.5\")\n",
    "            elif max(P1[i],P2[i],P3[i],P4[i],P5[i],P6[i],P7[i]) == P5[i]:\n",
    "                Best_Strategy.append(\"0.33:0.67\")\n",
    "            elif max(P1[i],P2[i],P3[i],P4[i],P5[i],P6[i],P7[i]) == P6[i]:\n",
    "                Best_Strategy.append(\"0.25:0.75\")\n",
    "            elif max(P1[i],P2[i],P3[i],P4[i],P5[i],P6[i],P7[i]) == P7[i]:\n",
    "                Best_Strategy.append(\"0:1\")\n",
    "        else:\n",
    "            Highest_Return.append(\".\")\n",
    "            Best_Strategy.append(\".\")\n",
    "    return Highest_Return, Best_Strategy"
   ]
  },
  {
   "cell_type": "markdown",
   "metadata": {},
   "source": [
    "### Removing empty observations"
   ]
  },
  {
   "cell_type": "code",
   "execution_count": 13,
   "metadata": {},
   "outputs": [],
   "source": [
    "def Remove_Character (dataset, list_name, Character):\n",
    "    removal_rows=[]\n",
    "    for i in range (len(list_name)):\n",
    "        if list_name[i]==Character:\n",
    "            removal_rows.append(i)\n",
    "    dataset=dataset.drop(removal_rows)\n",
    "    dataset=dataset.reset_index()\n",
    "    return dataset"
   ]
  },
  {
   "cell_type": "markdown",
   "metadata": {},
   "source": [
    "### Defining a main function to call all functions at the same time"
   ]
  },
  {
   "cell_type": "code",
   "execution_count": 14,
   "metadata": {},
   "outputs": [],
   "source": [
    "def Main_Function (data, cost, period):\n",
    "    \n",
    "    # Calculating daily returns\n",
    "    data[\"Bull Return\"]=daily_return(data[\"Bull Price\"],data[\"Code\"])\n",
    "    data[\"Bear Return\"]=daily_return(data[\"Bear Price\"],data[\"Code\"])\n",
    "    data[\"Index Return\"]=daily_return(data[\"Index Price\"],data[\"Code\"])\n",
    "    \n",
    "    # Calculating shorting daily returns\n",
    "    data[\"Bull Short Return \"+str(cost*100)+\"%\"]=short_daily_return(data[\"Bull Return\"],cost)\n",
    "    data[\"Bear Short Return \"+str(cost*100)+\"%\"]=short_daily_return(data[\"Bear Return\"],cost)\n",
    "    \n",
    "    # Calculating cumulative return\n",
    "    data[\"Index CuRe\"]=Cumulative_Return(data[\"Index Return\"],data[period])\n",
    "    data[\"Bull Short CuRe \"+str(cost*100)+\"%\"]=Cumulative_Return(data[\"Bull Short Return \"+str(cost*100)+\"%\"],data[period])\n",
    "    data[\"Bear Short CuRe \"+str(cost*100)+\"%\"]=Cumulative_Return(data[\"Bear Short Return \"+str(cost*100)+\"%\"],data[period])\n",
    "    \n",
    "    # Calculating Sharpe ratio\n",
    "    data[\"Index Sharpe Ratio\"]=Sharpe_Ratio(data[\"Index Return\"],data[\"Rf\"],data[period])\n",
    "    data[\"Bull Short Sharpe Ratio \"+str(cost*100)+\"%\"]=Sharpe_Ratio(data[\"Bull Short Return \"+str(cost*100)+\"%\"],data[\"Rf\"],data[period])\n",
    "    data[\"Bear Short Sharpe Ratio \"+str(cost*100)+\"%\"]=Sharpe_Ratio(data[\"Bear Short Return \"+str(cost*100)+\"%\"],data[\"Rf\"],data[period])\n",
    "    \n",
    "    # Calculating Sortino ratio\n",
    "    data[\"Index Sortino Ratio\"]=Sortino_Ratio(data[\"Index Return\"],data[\"Rf\"],data[period])\n",
    "    data[\"Bull Short Sortino Ratio \"+str(cost*100)+\"%\"]=Sortino_Ratio(data[\"Bull Short Return \"+str(cost*100)+\"%\"],data[\"Rf\"],data[period])\n",
    "    data[\"Bear Short Sortino Ratio \"+str(cost*100)+\"%\"]=Sortino_Ratio(data[\"Bear Short Return \"+str(cost*100)+\"%\"],data[\"Rf\"],data[period])\n",
    "    \n",
    "    # Calculating Analytical VaR\n",
    "    data[\"Index Analytical VaR\"]=Analytical_VaR(data[\"Index Return\"],data[period])\n",
    "    data[\"Bull Short Analytical VaR \"+str(cost*100)+\"%\"]=Analytical_VaR(data[\"Bull Short Return \"+str(cost*100)+\"%\"],data[period])\n",
    "    data[\"Bear Short Analytical VaR \"+str(cost*100)+\"%\"]=Analytical_VaR(data[\"Bear Short Return \"+str(cost*100)+\"%\"],data[period])\n",
    "    \n",
    "    # Calculating VaR\n",
    "    data[\"Index VaR\"]=VaR(data[\"Index Return\"],data[period])\n",
    "    data[\"Bull Short VaR \"+str(cost*100)+\"%\"]=VaR(data[\"Bull Short Return \"+str(cost*100)+\"%\"],data[period])\n",
    "    data[\"Bear Short VaR \"+str(cost*100)+\"%\"]=VaR(data[\"Bear Short Return \"+str(cost*100)+\"%\"],data[period])\n",
    "    \n",
    "    # Calculating Expected VaR\n",
    "    data[\"Index Expected VaR\"]=Expected_VaR(data[\"Index Return\"],data[period])\n",
    "    data[\"Bull Short Expected VaR \"+str(cost*100)+\"%\"]=Expected_VaR(data[\"Bull Short Return \"+str(cost*100)+\"%\"],data[period])\n",
    "    data[\"Bear Short Expected VaR \"+str(cost*100)+\"%\"]=Expected_VaR(data[\"Bear Short Return \"+str(cost*100)+\"%\"],data[period])\n",
    "    \n",
    "    # Calculating Best strategy using cumulative return results\n",
    "    data[\"CuRe-Portfolio Short 1:0 \"+str(cost*100)+\"%\"]=Portfolio(data[\"Bull Short CuRe \"+str(cost*100)+\"%\"],data[\"Bear Short CuRe \"+str(cost*100)+\"%\"],1,0)\n",
    "    data[\"CuRe-Portfolio Short 0.75:0.25 \"+str(cost*100)+\"%\"]=Portfolio(data[\"Bull Short CuRe \"+str(cost*100)+\"%\"],data[\"Bear Short CuRe \"+str(cost*100)+\"%\"],0.75,0.25)\n",
    "    data[\"CuRe-Portfolio Short 0.67:0.33 \"+str(cost*100)+\"%\"]=Portfolio(data[\"Bull Short CuRe \"+str(cost*100)+\"%\"],data[\"Bear Short CuRe \"+str(cost*100)+\"%\"],0.67,0.33)\n",
    "    data[\"CuRe-Portfolio Short 0.5:0.5 \"+str(cost*100)+\"%\"]=Portfolio(data[\"Bull Short CuRe \"+str(cost*100)+\"%\"],data[\"Bear Short CuRe \"+str(cost*100)+\"%\"],0.5,0.5)\n",
    "    data[\"CuRe-Portfolio Short 0.33:0.67 \"+str(cost*100)+\"%\"]=Portfolio(data[\"Bull Short CuRe \"+str(cost*100)+\"%\"],data[\"Bear Short CuRe \"+str(cost*100)+\"%\"],0.33,0.67)\n",
    "    data[\"CuRe-Portfolio Short 0.25:0.75 \"+str(cost*100)+\"%\"]=Portfolio(data[\"Bull Short CuRe \"+str(cost*100)+\"%\"],data[\"Bear Short CuRe \"+str(cost*100)+\"%\"],0.25,0.75)\n",
    "    data[\"CuRe-Portfolio Short 0:1 \"+str(cost*100)+\"%\"]=Portfolio(data[\"Bull Short CuRe \"+str(cost*100)+\"%\"],data[\"Bear Short CuRe \"+str(cost*100)+\"%\"],0,1)\n",
    "    \n",
    "    # Calculating Best strategy using Sharpe ratio results\n",
    "    data[\"Sharpe Ratio-Portfolio Short 1:0 \"+str(cost*100)+\"%\"]=Portfolio(data[\"Bull Short Sharpe Ratio \"+str(cost*100)+\"%\"],data[\"Bear Short Sharpe Ratio \"+str(cost*100)+\"%\"],1,0)\n",
    "    data[\"Sharpe Ratio-Portfolio Short 0.75:0.25 \"+str(cost*100)+\"%\"]=Portfolio(data[\"Bull Short Sharpe Ratio \"+str(cost*100)+\"%\"],data[\"Bear Short Sharpe Ratio \"+str(cost*100)+\"%\"],0.75,0.25)\n",
    "    data[\"Sharpe Ratio-Portfolio Short 0.67:0.33 \"+str(cost*100)+\"%\"]=Portfolio(data[\"Bull Short Sharpe Ratio \"+str(cost*100)+\"%\"],data[\"Bear Short Sharpe Ratio \"+str(cost*100)+\"%\"],0.67,0.33)\n",
    "    data[\"Sharpe Ratio-Portfolio Short 0.5:0.5 \"+str(cost*100)+\"%\"]=Portfolio(data[\"Bull Short Sharpe Ratio \"+str(cost*100)+\"%\"],data[\"Bear Short Sharpe Ratio \"+str(cost*100)+\"%\"],0.5,0.5)\n",
    "    data[\"Sharpe Ratio-Portfolio Short 0.33:0.67 \"+str(cost*100)+\"%\"]=Portfolio(data[\"Bull Short Sharpe Ratio \"+str(cost*100)+\"%\"],data[\"Bear Short Sharpe Ratio \"+str(cost*100)+\"%\"],0.33,0.67)\n",
    "    data[\"Sharpe Ratio-Portfolio Short 0.25:0.75 \"+str(cost*100)+\"%\"]=Portfolio(data[\"Bull Short Sharpe Ratio \"+str(cost*100)+\"%\"],data[\"Bear Short Sharpe Ratio \"+str(cost*100)+\"%\"],0.25,0.75)\n",
    "    data[\"Sharpe Ratio-Portfolio Short 0:1 \"+str(cost*100)+\"%\"]=Portfolio(data[\"Bull Short Sharpe Ratio \"+str(cost*100)+\"%\"],data[\"Bear Short Sharpe Ratio \"+str(cost*100)+\"%\"],0,1)\n",
    "    \n",
    "    # Calculating Best strategy using Sortino ratio results\n",
    "    data[\"Sortino Ratio-Portfolio Short 1:0 \"+str(cost*100)+\"%\"]=Portfolio(data[\"Bull Short Sortino Ratio \"+str(cost*100)+\"%\"],data[\"Bear Short Sortino Ratio \"+str(cost*100)+\"%\"],1,0)\n",
    "    data[\"Sortino Ratio-Portfolio Short 0.75:0.25 \"+str(cost*100)+\"%\"]=Portfolio(data[\"Bull Short Sortino Ratio \"+str(cost*100)+\"%\"],data[\"Bear Short Sortino Ratio \"+str(cost*100)+\"%\"],0.75,0.25)\n",
    "    data[\"Sortino Ratio-Portfolio Short 0.67:0.33 \"+str(cost*100)+\"%\"]=Portfolio(data[\"Bull Short Sortino Ratio \"+str(cost*100)+\"%\"],data[\"Bear Short Sortino Ratio \"+str(cost*100)+\"%\"],0.67,0.33)\n",
    "    data[\"Sortino Ratio-Portfolio Short 0.5:0.5 \"+str(cost*100)+\"%\"]=Portfolio(data[\"Bull Short Sortino Ratio \"+str(cost*100)+\"%\"],data[\"Bear Short Sortino Ratio \"+str(cost*100)+\"%\"],0.5,0.5)\n",
    "    data[\"Sortino Ratio-Portfolio Short 0.33:0.67 \"+str(cost*100)+\"%\"]=Portfolio(data[\"Bull Short Sortino Ratio \"+str(cost*100)+\"%\"],data[\"Bear Short Sortino Ratio \"+str(cost*100)+\"%\"],0.33,0.67)\n",
    "    data[\"Sortino Ratio-Portfolio Short 0.25:0.75 \"+str(cost*100)+\"%\"]=Portfolio(data[\"Bull Short Sortino Ratio \"+str(cost*100)+\"%\"],data[\"Bear Short Sortino Ratio \"+str(cost*100)+\"%\"],0.25,0.75)\n",
    "    data[\"Sortino Ratio-Portfolio Short 0:1 \"+str(cost*100)+\"%\"]=Portfolio(data[\"Bull Short Sortino Ratio \"+str(cost*100)+\"%\"],data[\"Bear Short Sortino Ratio \"+str(cost*100)+\"%\"],0,1)\n",
    "    \n",
    "    # Calculating Best strategy using expected VaR results\n",
    "    data[\"Expected VaR-Portfolio Short 1:0 \"+str(cost*100)+\"%\"]=Portfolio(data[\"Bull Short Expected VaR \"+str(cost*100)+\"%\"],data[\"Bear Short Expected VaR \"+str(cost*100)+\"%\"],1,0)\n",
    "    data[\"Expected VaR-Portfolio Short 0.75:0.25 \"+str(cost*100)+\"%\"]=Portfolio(data[\"Bull Short Expected VaR \"+str(cost*100)+\"%\"],data[\"Bear Short Expected VaR \"+str(cost*100)+\"%\"],0.75,0.25)\n",
    "    data[\"Expected VaR-Portfolio Short 0.67:0.33 \"+str(cost*100)+\"%\"]=Portfolio(data[\"Bull Short Expected VaR \"+str(cost*100)+\"%\"],data[\"Bear Short Expected VaR \"+str(cost*100)+\"%\"],0.67,0.33)\n",
    "    data[\"Expected VaR-Portfolio Short 0.5:0.5 \"+str(cost*100)+\"%\"]=Portfolio(data[\"Bull Short Expected VaR \"+str(cost*100)+\"%\"],data[\"Bear Short Expected VaR \"+str(cost*100)+\"%\"],0.5,0.5)\n",
    "    data[\"Expected VaR-Portfolio Short 0.33:0.67 \"+str(cost*100)+\"%\"]=Portfolio(data[\"Bull Short Expected VaR \"+str(cost*100)+\"%\"],data[\"Bear Short Expected VaR \"+str(cost*100)+\"%\"],0.33,0.67)\n",
    "    data[\"Expected VaR-Portfolio Short 0.25:0.75 \"+str(cost*100)+\"%\"]=Portfolio(data[\"Bull Short Expected VaR \"+str(cost*100)+\"%\"],data[\"Bear Short Expected VaR \"+str(cost*100)+\"%\"],0.25,0.75)\n",
    "    data[\"Expected VaR-Portfolio Short 0:1 \"+str(cost*100)+\"%\"]=Portfolio(data[\"Bull Short Expected VaR \"+str(cost*100)+\"%\"],data[\"Bear Short Expected VaR \"+str(cost*100)+\"%\"],0,1)"
   ]
  },
  {
   "cell_type": "markdown",
   "metadata": {},
   "source": [
    "### Creating two datasets: quarterly analysis and annual analysis"
   ]
  },
  {
   "cell_type": "code",
   "execution_count": 15,
   "metadata": {},
   "outputs": [],
   "source": [
    "data_quarter=data.copy()\n",
    "data_yearly=data.copy()"
   ]
  },
  {
   "cell_type": "markdown",
   "metadata": {},
   "source": [
    "### Calculating all portfolios using different shorting costs"
   ]
  },
  {
   "cell_type": "markdown",
   "metadata": {},
   "source": [
    "##### There are three measurments cumulative return, Sharpe ratio and Sortino ratio"
   ]
  },
  {
   "cell_type": "markdown",
   "metadata": {},
   "source": [
    "##### Cumulative return:\n",
    "for quarterly data\n",
    "at 15% cost : the difference is not significant in 5% but it is significant in 10% (at 14% the cost is significant at 5%)\n",
    "at 16% cost: the difference is not significant at 10% anymore (it is significant for 15%)\n",
    "at 21% cost: the absolute difference becomes negative (at 20% it is positive).\n",
    "For year the values 16% (not significant at 95% but significant at 90%), 17% (not significant in 90% anymore), 21% cost the absolute difference becomes negative."
   ]
  },
  {
   "cell_type": "code",
   "execution_count": 16,
   "metadata": {},
   "outputs": [],
   "source": [
    "Main_Function(data_quarter, 0.14, \"Quarter\")\n",
    "Main_Function(data_quarter, 0.15, \"Quarter\")\n",
    "Main_Function(data_quarter, 0.20, \"Quarter\")"
   ]
  },
  {
   "cell_type": "code",
   "execution_count": 17,
   "metadata": {},
   "outputs": [],
   "source": [
    "Main_Function(data_yearly, 0.15, \"Year\")\n",
    "Main_Function(data_yearly, 0.16, \"Year\")\n",
    "Main_Function(data_yearly, 0.20, \"Year\")"
   ]
  },
  {
   "cell_type": "markdown",
   "metadata": {},
   "source": [
    "#### Sharpe ratio : \n",
    "for quarterly data\n",
    "at 0 cost : the difference is not significant in 95% but it is significant in 90% (p-value is 0.08)\n",
    "at 0.2% cost: the difference is not significant at 90% anymore (it is significant for 0.1% at 90% p-value is 0.098)\n",
    "at 4% cost: the absolute difference becomes negative (3% is positive).\n",
    "For yearly data, the differnece is not significant at 0 cost (not in 95% or 90%). The absolute difference becomse negative at 5% cost (at 4% it is positive)."
   ]
  },
  {
   "cell_type": "code",
   "execution_count": 18,
   "metadata": {},
   "outputs": [],
   "source": [
    "Main_Function(data_quarter, 0, \"Quarter\")\n",
    "Main_Function(data_quarter, 0.001, \"Quarter\")\n",
    "Main_Function(data_quarter, 0.03, \"Quarter\")"
   ]
  },
  {
   "cell_type": "code",
   "execution_count": 19,
   "metadata": {},
   "outputs": [],
   "source": [
    "Main_Function(data_yearly, 0.04, \"Year\")"
   ]
  },
  {
   "cell_type": "markdown",
   "metadata": {},
   "source": [
    "###### Sortino ratio : \n",
    "for quarterly data\n",
    "at 0.7% cost : the difference is not significant in 95% but it is significant in 10% (at 0.6% the cost is significant at 95%)\n",
    "at 2% cost: the difference is not significant at 10% anymore (it is significant in 1%)\n",
    "at 6% cost: the absolute difference becomes negative (5% is positive but so small)\n",
    "For yearly data at zero cost it is significant at 90% of consfidence. It is not significant at 95% when the cost increases to 0.006. The absolute difference becomes negative at 5% cost."
   ]
  },
  {
   "cell_type": "code",
   "execution_count": 20,
   "metadata": {},
   "outputs": [],
   "source": [
    "Main_Function(data_quarter, 0.006, \"Quarter\")\n",
    "Main_Function(data_quarter, 0.01, \"Quarter\")\n",
    "Main_Function(data_quarter, 0.05, \"Quarter\")"
   ]
  },
  {
   "cell_type": "code",
   "execution_count": 21,
   "metadata": {},
   "outputs": [],
   "source": [
    "Main_Function(data_yearly, 0, \"Year\")\n",
    "Main_Function(data_yearly, 0.005, \"Year\")\n",
    "Main_Function(data_yearly, 0.04, \"Year\")"
   ]
  },
  {
   "cell_type": "code",
   "execution_count": 22,
   "metadata": {},
   "outputs": [],
   "source": [
    "data_quarter=Remove_Character(data_quarter, data_quarter[\"Sortino Ratio-Portfolio Short 0:1 5.0%\"], \".\")\n",
    "data_yearly=Remove_Character(data_yearly, data_yearly[\"Sortino Ratio-Portfolio Short 0:1 4.0%\"], \".\")"
   ]
  },
  {
   "cell_type": "markdown",
   "metadata": {},
   "source": [
    "### Comparing the means of portfolios with indices"
   ]
  },
  {
   "cell_type": "code",
   "execution_count": 23,
   "metadata": {},
   "outputs": [],
   "source": [
    "def print_means_difference (dataset, investment, measurment, cost):\n",
    "    Name = measurment +\"-Portfolio \"+investment\n",
    "    print(\n",
    "        np.mean(dataset[Name +\" 1:0 \"+str(cost*100)+\"%\"])- np.mean(dataset[\"Index \"+measurment]),\n",
    "        np.mean(dataset[Name + \" 0.75:0.25 \"+str(cost*100)+\"%\"])- np.mean(dataset[\"Index \"+measurment]),\n",
    "        np.mean(dataset[Name + \" 0.67:0.33 \"+str(cost*100)+\"%\"])- np.mean(dataset[\"Index \"+measurment]),\n",
    "        np.mean(dataset[Name + \" 0.5:0.5 \"+str(cost*100)+\"%\"])- np.mean(dataset[\"Index \"+measurment]),\n",
    "        np.mean(dataset[Name + \" 0.33:0.67 \"+str(cost*100)+\"%\"])- np.mean(dataset[\"Index \"+measurment]),\n",
    "        np.mean(dataset[Name + \" 0.25:0.75 \"+str(cost*100)+\"%\"])- np.mean(dataset[\"Index \"+measurment]),\n",
    "        np.mean(dataset[Name +\" 0:1 \"+str(cost*100)+\"%\"])- np.mean(dataset[\"Index \"+measurment]),\n",
    "        sep='\\n')"
   ]
  },
  {
   "cell_type": "code",
   "execution_count": 24,
   "metadata": {
    "scrolled": true
   },
   "outputs": [
    {
     "name": "stdout",
     "output_type": "stream",
     "text": [
      "-0.11473828328322622\n",
      "-0.08269265441507026\n",
      "-0.07243805317726018\n",
      "-0.05064702554691418\n",
      "-0.028855997916568062\n",
      "-0.018601396678758125\n",
      "0.013444232189397935\n"
     ]
    }
   ],
   "source": [
    "print_means_difference(data_quarter,\"Short\",\"CuRe\",0.14)"
   ]
  },
  {
   "cell_type": "code",
   "execution_count": 25,
   "metadata": {
    "scrolled": false
   },
   "outputs": [
    {
     "name": "stdout",
     "output_type": "stream",
     "text": [
      "-0.11718481011836024\n",
      "-0.08506864614501639\n",
      "-0.0747914736735465\n",
      "-0.05295248217167277\n",
      "-0.031113490669798988\n",
      "-0.02083631819832899\n",
      "0.011279845775014778\n"
     ]
    }
   ],
   "source": [
    "print_means_difference(data_quarter,\"Short\",\"CuRe\",0.15)"
   ]
  },
  {
   "cell_type": "code",
   "execution_count": 26,
   "metadata": {
    "scrolled": true
   },
   "outputs": [
    {
     "name": "stdout",
     "output_type": "stream",
     "text": [
      "-0.12918560521482292\n",
      "-0.09672349218125653\n",
      "-0.08633561601051525\n",
      "-0.06426137914768998\n",
      "-0.042187142284864795\n",
      "-0.031799266114123544\n",
      "0.0006628469194429124\n"
     ]
    }
   ],
   "source": [
    "print_means_difference(data_quarter,\"Short\",\"CuRe\",0.20)"
   ]
  },
  {
   "cell_type": "code",
   "execution_count": 27,
   "metadata": {
    "scrolled": true
   },
   "outputs": [
    {
     "name": "stdout",
     "output_type": "stream",
     "text": [
      "-0.4818004953947907\n",
      "-0.35048883625923566\n",
      "-0.308469105335858\n",
      "-0.21917717712368068\n",
      "-0.12988524891150327\n",
      "-0.08786551798812568\n",
      "0.043446141147429285\n"
     ]
    }
   ],
   "source": [
    "print_means_difference(data_yearly,\"Short\",\"CuRe\",0.15)"
   ]
  },
  {
   "cell_type": "code",
   "execution_count": 28,
   "metadata": {
    "scrolled": true
   },
   "outputs": [
    {
     "name": "stdout",
     "output_type": "stream",
     "text": [
      "-0.4941742499024258\n",
      "-0.361694037570219\n",
      "-0.3193003696239126\n",
      "-0.22921382523801193\n",
      "-0.13912728085211118\n",
      "-0.09673361290580497\n",
      "0.03574659942640196\n"
     ]
    }
   ],
   "source": [
    "print_means_difference(data_yearly,\"Short\",\"CuRe\",0.16)"
   ]
  },
  {
   "cell_type": "code",
   "execution_count": 29,
   "metadata": {
    "scrolled": true
   },
   "outputs": [
    {
     "name": "stdout",
     "output_type": "stream",
     "text": [
      "-0.5436972185080048\n",
      "-0.40654046537797184\n",
      "-0.3626503043763612\n",
      "-0.26938371224793867\n",
      "-0.17611712011951586\n",
      "-0.1322269591179052\n",
      "0.004929794012128105\n"
     ]
    }
   ],
   "source": [
    "print_means_difference(data_yearly,\"Short\",\"CuRe\",0.20)"
   ]
  },
  {
   "cell_type": "code",
   "execution_count": 30,
   "metadata": {},
   "outputs": [
    {
     "name": "stdout",
     "output_type": "stream",
     "text": [
      "-0.1052960351619063\n",
      "-0.07717909257723508\n",
      "-0.0681816709501403\n",
      "-0.049062149992563864\n",
      "-0.029942629034987435\n",
      "-0.020945207407892658\n",
      "0.0071717351767785695\n"
     ]
    }
   ],
   "source": [
    "print_means_difference(data_quarter,\"Short\",\"Sharpe Ratio\",0.001)"
   ]
  },
  {
   "cell_type": "code",
   "execution_count": 31,
   "metadata": {
    "scrolled": false
   },
   "outputs": [
    {
     "name": "stdout",
     "output_type": "stream",
     "text": [
      "-0.11095794506534287\n",
      "-0.08284343831984772\n",
      "-0.07384679616128934\n",
      "-0.05472893157435269\n",
      "-0.035611066987416035\n",
      "-0.02661442482885767\n",
      "0.001500081916637544\n"
     ]
    }
   ],
   "source": [
    "print_means_difference(data_quarter,\"Short\",\"Sharpe Ratio\",0.03)"
   ]
  },
  {
   "cell_type": "code",
   "execution_count": 32,
   "metadata": {
    "scrolled": true
   },
   "outputs": [
    {
     "name": "stdout",
     "output_type": "stream",
     "text": [
      "-0.08788011040707067\n",
      "-0.065856581255307\n",
      "-0.05880905192674263\n",
      "-0.043833052103543324\n",
      "-0.028857052280344027\n",
      "-0.021809522951779636\n",
      "0.00021400619998403203\n"
     ]
    }
   ],
   "source": [
    "print_means_difference(data_yearly,\"Short\",\"Sharpe Ratio\",0.04)"
   ]
  },
  {
   "cell_type": "code",
   "execution_count": 33,
   "metadata": {
    "scrolled": true
   },
   "outputs": [
    {
     "name": "stdout",
     "output_type": "stream",
     "text": [
      "-0.1071350643693207\n",
      "-0.07760395667772428\n",
      "-0.0681540022164134\n",
      "-0.04807284898612779\n",
      "-0.027991695755842184\n",
      "-0.018541741294531344\n",
      "0.010989366397065152\n"
     ]
    }
   ],
   "source": [
    "print_means_difference(data_quarter,\"Short\",\"Sortino Ratio\",0.006)"
   ]
  },
  {
   "cell_type": "code",
   "execution_count": 48,
   "metadata": {},
   "outputs": [
    {
     "name": "stdout",
     "output_type": "stream",
     "text": [
      "-0.10912676660266936\n",
      "-0.07965916562978714\n",
      "-0.07022953331846483\n",
      "-0.05019156465690487\n",
      "-0.03015359599534487\n",
      "-0.02072396368402258\n",
      "0.008743637288859706\n"
     ]
    }
   ],
   "source": [
    "print_means_difference(data_quarter,\"Short\",\"Sortino Ratio\",0.01)"
   ]
  },
  {
   "cell_type": "code",
   "execution_count": 49,
   "metadata": {},
   "outputs": [
    {
     "name": "stdout",
     "output_type": "stream",
     "text": [
      "-0.11688135511904035\n",
      "-0.08763248635445889\n",
      "-0.07827284834979278\n",
      "-0.058383617589877326\n",
      "-0.03849438682996184\n",
      "-0.029134748825295768\n",
      "0.00011411993928581166\n"
     ]
    }
   ],
   "source": [
    "print_means_difference(data_quarter,\"Short\",\"Sortino Ratio\",0.05)"
   ]
  },
  {
   "cell_type": "code",
   "execution_count": 50,
   "metadata": {},
   "outputs": [
    {
     "name": "stdout",
     "output_type": "stream",
     "text": [
      "-0.08260899226072384\n",
      "-0.059974142775838846\n",
      "-0.05273099094067567\n",
      "-0.03733929329095386\n",
      "-0.02194759564123207\n",
      "-0.014704443806068876\n",
      "0.007930405678816095\n"
     ]
    }
   ],
   "source": [
    "print_means_difference(data_yearly,\"Short\",\"Sortino Ratio\",0.005)"
   ]
  },
  {
   "cell_type": "code",
   "execution_count": 51,
   "metadata": {},
   "outputs": [
    {
     "name": "stdout",
     "output_type": "stream",
     "text": [
      "-0.08901233819512194\n",
      "-0.06643850365666085\n",
      "-0.059214876604353345\n",
      "-0.04386466911819983\n",
      "-0.02851446163204631\n",
      "-0.021290834579738797\n",
      "0.0012829999587222266\n"
     ]
    }
   ],
   "source": [
    "print_means_difference(data_yearly,\"Short\",\"Sortino Ratio\",0.04)"
   ]
  },
  {
   "cell_type": "markdown",
   "metadata": {},
   "source": [
    "### Statistically comparing the means of portfolios with indices"
   ]
  },
  {
   "cell_type": "code",
   "execution_count": 34,
   "metadata": {},
   "outputs": [],
   "source": [
    "def print_compare_means (dataset, investment, measurment, cost):\n",
    "    Name = measurment +\"-Portfolio \"+investment\n",
    "    print(\n",
    "        st.ttest_ind(dataset[Name +\" 1:0 \"+str(cost*100)+\"%\"].to_numpy(), dataset[\"Index \"+measurment].to_numpy(), equal_var=True),\n",
    "        st.ttest_ind(dataset[Name + \" 0.75:0.25 \"+str(cost*100)+\"%\"].to_numpy(), dataset[\"Index \"+measurment].to_numpy(), equal_var=True),\n",
    "        st.ttest_ind(dataset[Name + \" 0.67:0.33 \"+str(cost*100)+\"%\"].to_numpy(), dataset[\"Index \"+measurment].to_numpy(), equal_var=True),\n",
    "        st.ttest_ind(dataset[Name + \" 0.5:0.5 \"+str(cost*100)+\"%\"].to_numpy(), dataset[\"Index \"+measurment].to_numpy(), equal_var=True),\n",
    "        st.ttest_ind(dataset[Name + \" 0.33:0.67 \"+str(cost*100)+\"%\"].to_numpy(), dataset[\"Index \"+measurment].to_numpy(), equal_var=True),\n",
    "        st.ttest_ind(dataset[Name + \" 0.25:0.75 \"+str(cost*100)+\"%\"].to_numpy(), dataset[\"Index \"+measurment].to_numpy(), equal_var=True),\n",
    "        st.ttest_ind(dataset[Name + \" 0:1 \"+str(cost*100)+\"%\"].to_numpy(), dataset[\"Index \"+measurment].to_numpy(), equal_var=True),\n",
    "        sep='\\n')"
   ]
  },
  {
   "cell_type": "code",
   "execution_count": 35,
   "metadata": {
    "scrolled": true
   },
   "outputs": [
    {
     "name": "stdout",
     "output_type": "stream",
     "text": [
      "Ttest_indResult(statistic=-17.228972442079083, pvalue=1.1786823319610528e-63)\n",
      "Ttest_indResult(statistic=-19.680057243382528, pvalue=1.9473241023499703e-81)\n",
      "Ttest_indResult(statistic=-20.326558637278257, pvalue=1.9542337344893415e-86)\n",
      "Ttest_indResult(statistic=-17.969438097557997, pvalue=7.940149098956482e-69)\n",
      "Ttest_indResult(statistic=-8.68423216041974, pvalue=6.002914081852266e-18)\n",
      "Ttest_indResult(statistic=-4.768682185649574, pvalue=1.938072288380017e-06)\n",
      "Ttest_indResult(statistic=2.1399192701989533, pvalue=0.03243751489740063)\n"
     ]
    }
   ],
   "source": [
    "print_compare_means(data_quarter,\"Short\",\"CuRe\",0.14)"
   ]
  },
  {
   "cell_type": "code",
   "execution_count": 36,
   "metadata": {
    "scrolled": false
   },
   "outputs": [
    {
     "name": "stdout",
     "output_type": "stream",
     "text": [
      "Ttest_indResult(statistic=-17.563023612881647, pvalue=5.758223796608115e-66)\n",
      "Ttest_indResult(statistic=-20.21665200788841, pvalue=1.4108684414690457e-85)\n",
      "Ttest_indResult(statistic=-20.96333621381971, pvalue=1.767750867960772e-91)\n",
      "Ttest_indResult(statistic=-18.778167974446554, pvalue=1.1255250351848301e-74)\n",
      "Ttest_indResult(statistic=-9.354373837714732, pvalue=1.543519643317034e-20)\n",
      "Ttest_indResult(statistic=-5.334534016695113, pvalue=1.0252831253837828e-07)\n",
      "Ttest_indResult(statistic=1.792045391642872, pvalue=0.07322115182238112)\n"
     ]
    }
   ],
   "source": [
    "print_compare_means(data_quarter,\"Short\",\"CuRe\",0.15)"
   ]
  },
  {
   "cell_type": "code",
   "execution_count": 37,
   "metadata": {
    "scrolled": true
   },
   "outputs": [
    {
     "name": "stdout",
     "output_type": "stream",
     "text": [
      "Ttest_indResult(statistic=-19.183332842197544, pvalue=1.1078169834884772e-77)\n",
      "Ttest_indResult(statistic=-22.82644035792562, pvalue=6.796243823144954e-107)\n",
      "Ttest_indResult(statistic=-24.065867081370524, pvalue=1.1489737408124963e-117)\n",
      "Ttest_indResult(statistic=-22.733439015489598, pvalue=4.210142864632363e-106)\n",
      "Ttest_indResult(statistic=-12.622297576483705, pvalue=1.1341736421138794e-35)\n",
      "Ttest_indResult(statistic=-8.088431599317317, pvalue=8.521388638872793e-16)\n",
      "Ttest_indResult(statistic=0.10434624744985417, pvalue=0.9169011875236561)\n"
     ]
    }
   ],
   "source": [
    "print_compare_means(data_quarter,\"Short\",\"CuRe\",0.20)"
   ]
  },
  {
   "cell_type": "code",
   "execution_count": 38,
   "metadata": {
    "scrolled": true
   },
   "outputs": [
    {
     "name": "stdout",
     "output_type": "stream",
     "text": [
      "Ttest_indResult(statistic=-16.90901107889538, pvalue=5.619768831764018e-55)\n",
      "Ttest_indResult(statistic=-18.36314427675152, pvalue=5.43639294356943e-63)\n",
      "Ttest_indResult(statistic=-18.747326446316343, pvalue=3.7406256952514274e-65)\n",
      "Ttest_indResult(statistic=-17.784661954191844, pvalue=9.06399564825229e-60)\n",
      "Ttest_indResult(statistic=-10.908527727123849, pvalue=6.632281649486203e-26)\n",
      "Ttest_indResult(statistic=-6.648799542918358, pvalue=5.5108086120644885e-11)\n",
      "Ttest_indResult(statistic=2.0888889476797172, pvalue=0.03703723357597978)\n"
     ]
    }
   ],
   "source": [
    "print_compare_means(data_yearly,\"Short\",\"CuRe\",0.15)"
   ]
  },
  {
   "cell_type": "code",
   "execution_count": 39,
   "metadata": {
    "scrolled": true
   },
   "outputs": [
    {
     "name": "stdout",
     "output_type": "stream",
     "text": [
      "Ttest_indResult(statistic=-17.203283966177693, pvalue=1.4163784698855559e-56)\n",
      "Ttest_indResult(statistic=-18.814673177967506, pvalue=1.5563978250598334e-65)\n",
      "Ttest_indResult(statistic=-19.277972304365264, pvalue=3.6200059003002627e-68)\n",
      "Ttest_indResult(statistic=-18.509355036625987, pvalue=8.211316909567908e-64)\n",
      "Ttest_indResult(statistic=-11.631504679463184, pvalue=5.622609671970557e-29)\n",
      "Ttest_indResult(statistic=-7.280539498164117, pvalue=8.043711156452217e-13)\n",
      "Ttest_indResult(statistic=1.705900266746679, pvalue=0.0884197087822546)\n"
     ]
    }
   ],
   "source": [
    "print_compare_means(data_yearly,\"Short\",\"CuRe\",0.16)"
   ]
  },
  {
   "cell_type": "code",
   "execution_count": 40,
   "metadata": {
    "scrolled": false
   },
   "outputs": [
    {
     "name": "stdout",
     "output_type": "stream",
     "text": [
      "Ttest_indResult(statistic=-18.333998200777163, pvalue=7.918519159909384e-63)\n",
      "Ttest_indResult(statistic=-20.55674032507444, pvalue=1.5066902151748566e-75)\n",
      "Ttest_indResult(statistic=-21.330816703532065, pvalue=4.3743320172295304e-80)\n",
      "Ttest_indResult(statistic=-21.3373125327148, pvalue=4.005370835393158e-80)\n",
      "Ttest_indResult(statistic=-14.45769050750495, pvalue=3.316668216860867e-42)\n",
      "Ttest_indResult(statistic=-9.740779943504805, pvalue=2.993753834456793e-21)\n",
      "Ttest_indResult(statistic=0.22843078117094623, pvalue=0.8193704767375394)\n"
     ]
    }
   ],
   "source": [
    "print_compare_means(data_yearly,\"Short\",\"CuRe\",0.20)"
   ]
  },
  {
   "cell_type": "code",
   "execution_count": 41,
   "metadata": {
    "scrolled": true
   },
   "outputs": [
    {
     "name": "stdout",
     "output_type": "stream",
     "text": [
      "Ttest_indResult(statistic=-24.214244023645872, pvalue=5.550236072705431e-119)\n",
      "Ttest_indResult(statistic=-22.372605797708548, pvalue=4.734415085861328e-103)\n",
      "Ttest_indResult(statistic=-20.900127826585877, pvalue=5.666489250068481e-91)\n",
      "Ttest_indResult(statistic=-15.872844562119111, pvalue=1.186851814186163e-54)\n",
      "Ttest_indResult(statistic=-9.187481945765619, pvalue=7.08189009667499e-20)\n",
      "Ttest_indResult(statistic=-6.079404121491263, pvalue=1.3503002290223804e-09)\n",
      "Ttest_indResult(statistic=1.6519143919487143, pvalue=0.09865116918772526)\n"
     ]
    }
   ],
   "source": [
    "print_compare_means(data_quarter,\"Short\",\"Sharpe Ratio\",0.001)"
   ]
  },
  {
   "cell_type": "code",
   "execution_count": 42,
   "metadata": {},
   "outputs": [
    {
     "name": "stdout",
     "output_type": "stream",
     "text": [
      "Ttest_indResult(statistic=-25.438372327280618, pvalue=4.7816360189331785e-130)\n",
      "Ttest_indResult(statistic=-23.950612494850006, pvalue=1.1986673673254566e-116)\n",
      "Ttest_indResult(statistic=-22.586743860273543, pvalue=7.394154901399464e-105)\n",
      "Ttest_indResult(statistic=-17.6947718529784, pvalue=6.899781486822199e-67)\n",
      "Ttest_indResult(statistic=-10.938084931658636, pvalue=2.3251756457366782e-27)\n",
      "Ttest_indResult(statistic=-7.737291313969879, pvalue=1.3555804716646316e-14)\n",
      "Ttest_indResult(statistic=0.3463263389829757, pvalue=0.7291204900176285)\n"
     ]
    }
   ],
   "source": [
    "print_compare_means(data_quarter,\"Short\",\"Sharpe Ratio\",0.03)"
   ]
  },
  {
   "cell_type": "code",
   "execution_count": 43,
   "metadata": {
    "scrolled": true
   },
   "outputs": [
    {
     "name": "stdout",
     "output_type": "stream",
     "text": [
      "Ttest_indResult(statistic=-18.8507034652742, pvalue=9.731291617628294e-66)\n",
      "Ttest_indResult(statistic=-17.849422880839477, pvalue=3.969498428781813e-60)\n",
      "Ttest_indResult(statistic=-16.882648009666145, pvalue=7.803867420064912e-55)\n",
      "Ttest_indResult(statistic=-13.341498392109234, pvalue=9.141949942169718e-37)\n",
      "Ttest_indResult(statistic=-8.363107884731967, pvalue=2.7500208103058815e-16)\n",
      "Ttest_indResult(statistic=-5.985315302180512, pvalue=3.2744234169615355e-09)\n",
      "Ttest_indResult(statistic=0.04663044331614151, pvalue=0.9628195530250037)\n"
     ]
    }
   ],
   "source": [
    "print_compare_means(data_yearly,\"Short\",\"Sharpe Ratio\",0.04)"
   ]
  },
  {
   "cell_type": "code",
   "execution_count": 52,
   "metadata": {
    "scrolled": true
   },
   "outputs": [
    {
     "name": "stdout",
     "output_type": "stream",
     "text": [
      "Ttest_indResult(statistic=-23.54517792458238, pvalue=4.307105712062726e-113)\n",
      "Ttest_indResult(statistic=-21.3726213256963, pvalue=8.79059678517838e-95)\n",
      "Ttest_indResult(statistic=-19.761443956894944, pvalue=4.645822753744505e-82)\n",
      "Ttest_indResult(statistic=-14.56797986847694, pvalue=1.3967712223842526e-46)\n",
      "Ttest_indResult(statistic=-8.085499203810015, pvalue=8.72470364821661e-16)\n",
      "Ttest_indResult(statistic=-5.166212940755753, pvalue=2.5367472872767205e-07)\n",
      "Ttest_indResult(statistic=1.988228413399132, pvalue=0.0468724095011657)\n"
     ]
    }
   ],
   "source": [
    "print_compare_means(data_quarter,\"Short\",\"Sortino Ratio\",0.006)"
   ]
  },
  {
   "cell_type": "code",
   "execution_count": 53,
   "metadata": {},
   "outputs": [
    {
     "name": "stdout",
     "output_type": "stream",
     "text": [
      "Ttest_indResult(statistic=-23.721529637473733, pvalue=1.2383296462329638e-114)\n",
      "Ttest_indResult(statistic=-21.593822591158222, pvalue=1.3768943864546818e-96)\n",
      "Ttest_indResult(statistic=-19.996494479529627, pvalue=7.218436098970524e-84)\n",
      "Ttest_indResult(statistic=-14.820606309291989, pvalue=4.255657456306416e-48)\n",
      "Ttest_indResult(statistic=-8.32880171668978, pvalue=1.2004973564081437e-16)\n",
      "Ttest_indResult(statistic=-5.397047253600479, pvalue=7.27391347766537e-08)\n",
      "Ttest_indResult(statistic=1.8061713919857678, pvalue=0.07098649947454448)\n"
     ]
    }
   ],
   "source": [
    "print_compare_means(data_quarter,\"Short\",\"Sortino Ratio\",0.01)"
   ]
  },
  {
   "cell_type": "code",
   "execution_count": 54,
   "metadata": {},
   "outputs": [
    {
     "name": "stdout",
     "output_type": "stream",
     "text": [
      "Ttest_indResult(statistic=-25.43285567841415, pvalue=5.373463458018023e-130)\n",
      "Ttest_indResult(statistic=-23.73759005053918, pvalue=8.955042145704404e-115)\n",
      "Ttest_indResult(statistic=-22.27442062955142, pvalue=3.157590414159794e-102)\n",
      "Ttest_indResult(statistic=-17.27244815561532, pvalue=5.924796061540631e-64)\n",
      "Ttest_indResult(statistic=-10.697899212008744, pvalue=2.909419096611678e-26)\n",
      "Ttest_indResult(statistic=-7.648421737487747, pvalue=2.68136249522298e-14)\n",
      "Ttest_indResult(statistic=0.023856140841234524, pvalue=0.9809688622585997)\n"
     ]
    }
   ],
   "source": [
    "print_compare_means(data_quarter,\"Short\",\"Sortino Ratio\",0.05)"
   ]
  },
  {
   "cell_type": "code",
   "execution_count": 55,
   "metadata": {},
   "outputs": [
    {
     "name": "stdout",
     "output_type": "stream",
     "text": [
      "Ttest_indResult(statistic=-17.514589902577136, pvalue=2.7972267159010944e-58)\n",
      "Ttest_indResult(statistic=-16.181027559308774, pvalue=4.448690401201176e-51)\n",
      "Ttest_indResult(statistic=-15.08310410529649, pvalue=2.3066558406774204e-45)\n",
      "Ttest_indResult(statistic=-11.286442165686054, pvalue=1.7116100750230305e-27)\n",
      "Ttest_indResult(statistic=-6.2552329973026675, pvalue=6.498337554237039e-10)\n",
      "Ttest_indResult(statistic=-3.9485813695623837, pvalue=8.56325804967621e-05)\n",
      "Ttest_indResult(statistic=1.6716274813516634, pvalue=0.09499381396399237)\n"
     ]
    }
   ],
   "source": [
    "print_compare_means(data_yearly,\"Short\",\"Sortino Ratio\",0.005)"
   ]
  },
  {
   "cell_type": "code",
   "execution_count": 56,
   "metadata": {},
   "outputs": [
    {
     "name": "stdout",
     "output_type": "stream",
     "text": [
      "Ttest_indResult(statistic=-18.805500095600426, pvalue=1.753967882906587e-65)\n",
      "Ttest_indResult(statistic=-17.839376364666474, pvalue=4.512316041706401e-60)\n",
      "Ttest_indResult(statistic=-16.866068065356195, pvalue=9.592548900659056e-55)\n",
      "Ttest_indResult(statistic=-13.25168842634653, pvalue=2.4388350903543636e-36)\n",
      "Ttest_indResult(statistic=-8.16817042005832, pvalue=1.2375093209395702e-15)\n",
      "Ttest_indResult(statistic=-5.75963402804656, pvalue=1.2071734442247572e-08)\n",
      "Ttest_indResult(statistic=0.2735792288121754, pvalue=0.7844795065777931)\n"
     ]
    }
   ],
   "source": [
    "print_compare_means(data_yearly,\"Short\",\"Sortino Ratio\",0.04)"
   ]
  }
 ],
 "metadata": {
  "kernelspec": {
   "display_name": "Python 3",
   "language": "python",
   "name": "python3"
  },
  "language_info": {
   "codemirror_mode": {
    "name": "ipython",
    "version": 3
   },
   "file_extension": ".py",
   "mimetype": "text/x-python",
   "name": "python",
   "nbconvert_exporter": "python",
   "pygments_lexer": "ipython3",
   "version": "3.8.5"
  }
 },
 "nbformat": 4,
 "nbformat_minor": 4
}
