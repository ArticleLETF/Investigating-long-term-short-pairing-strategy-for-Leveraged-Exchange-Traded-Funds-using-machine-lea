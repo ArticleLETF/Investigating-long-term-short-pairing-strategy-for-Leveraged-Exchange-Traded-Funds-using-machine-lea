{
 "cells": [
  {
   "cell_type": "markdown",
   "metadata": {},
   "source": [
    "### Importing the required libraries and dataset"
   ]
  },
  {
   "cell_type": "code",
   "execution_count": 1,
   "metadata": {},
   "outputs": [],
   "source": [
    "import pandas as pd\n",
    "import numpy as np\n",
    "import scipy.stats as st"
   ]
  },
  {
   "cell_type": "code",
   "execution_count": 2,
   "metadata": {},
   "outputs": [],
   "source": [
    "data=pd.read_excel(r\"D:\\Elahe\\MSF\\Thesis\\Datasets\\sample.xlsx\")"
   ]
  },
  {
   "cell_type": "markdown",
   "metadata": {},
   "source": [
    "#### Defining a division function"
   ]
  },
  {
   "cell_type": "code",
   "execution_count": 3,
   "metadata": {},
   "outputs": [],
   "source": [
    "def Division (numerator,denominator):\n",
    "    result=[]\n",
    "    for i in range (len(numerator)):\n",
    "        if numerator[i]!=\".\" and denominator[i]!=0 and denominator[i]!=\".\":\n",
    "            result.append(numerator[i]/denominator[i])\n",
    "        else:\n",
    "            result.append(\".\")\n",
    "    return result"
   ]
  },
  {
   "cell_type": "markdown",
   "metadata": {},
   "source": [
    "#### Calculating daily return and shorting daily return for bull, bear and index"
   ]
  },
  {
   "cell_type": "code",
   "execution_count": 4,
   "metadata": {},
   "outputs": [],
   "source": [
    "def daily_return (price, ticker):\n",
    "    daily_return = [\".\"]\n",
    "    for i in range (1, len(price)):\n",
    "        if ticker[i]==ticker[i-1]:\n",
    "            daily_return.append((price[i]-price[i-1])/price[i-1])\n",
    "        else:\n",
    "            daily_return.append(\".\")\n",
    "    return daily_return"
   ]
  },
  {
   "cell_type": "code",
   "execution_count": 5,
   "metadata": {},
   "outputs": [],
   "source": [
    "def short_daily_return (daily_return):\n",
    "    short_return=[]\n",
    "    for i in range (len(daily_return)):\n",
    "        if daily_return[i] != \".\":\n",
    "            short_return.append((daily_return[i]*-1))\n",
    "        else:\n",
    "            short_return.append(\".\")\n",
    "    return short_return"
   ]
  },
  {
   "cell_type": "markdown",
   "metadata": {},
   "source": [
    "#### Calculating cumulative return"
   ]
  },
  {
   "cell_type": "code",
   "execution_count": 6,
   "metadata": {},
   "outputs": [],
   "source": [
    "def Cumulative_Long_Return (daily_return, period):\n",
    "    Cumulative_Return=[]\n",
    "    for i in range (len(daily_return)):\n",
    "        if daily_return[i]==\".\":\n",
    "            Cumulative_Return.append(\".\")\n",
    "        elif daily_return[i-1]==\".\":\n",
    "            Cumulative_Return.append(daily_return[i]+1)\n",
    "        elif period[i-1]==period[i]:\n",
    "            Cumulative_Return.append(Cumulative_Return[i-1]*(daily_return[i]+1))\n",
    "        else:\n",
    "            Cumulative_Return.append(daily_return[i]+1)\n",
    "    for j in range (len(Cumulative_Return)):\n",
    "        if Cumulative_Return[j]!=\".\":\n",
    "            Cumulative_Return[j]=Cumulative_Return[j]-1\n",
    "    return Cumulative_Return"
   ]
  },
  {
   "cell_type": "code",
   "execution_count": 7,
   "metadata": {},
   "outputs": [],
   "source": [
    "def Cumulative_Short_Return (daily_return, period):\n",
    "    Cumulative_Return=[]\n",
    "    for i in range (len(daily_return)):\n",
    "        if daily_return[i]==\".\":\n",
    "            Cumulative_Return.append(\".\")\n",
    "        elif daily_return[i-1]==\".\":\n",
    "            Cumulative_Return.append(daily_return[i]-1)\n",
    "        elif period[i-1]==period[i]:\n",
    "            Cumulative_Return.append(Cumulative_Return[i-1]*(daily_return[i]-1))\n",
    "        else:\n",
    "            Cumulative_Return.append(daily_return[i]-1)\n",
    "    for j in range (len(Cumulative_Return)):\n",
    "        if Cumulative_Return[j]!=\".\":\n",
    "            Cumulative_Return[j]=1-abs(Cumulative_Return[j])\n",
    "    return Cumulative_Return"
   ]
  },
  {
   "cell_type": "markdown",
   "metadata": {},
   "source": [
    "#### Calculating sharpe ratio"
   ]
  },
  {
   "cell_type": "code",
   "execution_count": 8,
   "metadata": {},
   "outputs": [],
   "source": [
    "def Sharpe_Ratio (daily_return, Rf, period):\n",
    "    Partial_Data=[]\n",
    "    Sharpe_Ratio=[]\n",
    "    for i in range (len(daily_return)):\n",
    "        if daily_return[i]==\".\":\n",
    "            Sharpe_Ratio.append(\".\")\n",
    "        elif i == len(daily_return)-1:\n",
    "            Partial_Data.append(daily_return[i]-Rf[i])\n",
    "            Sharpe_Ratio.append(np.mean(Partial_Data)/np.std(Partial_Data))\n",
    "        elif period[i]==period[i+1]:\n",
    "            Partial_Data.append(daily_return[i]-Rf[i])\n",
    "            Sharpe_Ratio.append(\".\")\n",
    "        else:\n",
    "            Partial_Data.append(daily_return[i]-Rf[i])\n",
    "            Sharpe_Ratio.append(np.mean(Partial_Data)/np.std(Partial_Data))\n",
    "            Partial_Data=[]\n",
    "    return Sharpe_Ratio"
   ]
  },
  {
   "cell_type": "markdown",
   "metadata": {},
   "source": [
    "#### Calculating Sortino ratio"
   ]
  },
  {
   "cell_type": "code",
   "execution_count": 9,
   "metadata": {},
   "outputs": [],
   "source": [
    "def Sortino_Ratio (daily_return, Rf, period):\n",
    "    Partial_Data=[]\n",
    "    negative_return=[]\n",
    "    Sortino_Ratio=[]\n",
    "    for i in range (len(daily_return)):\n",
    "        if daily_return[i]==\".\":\n",
    "            Sortino_Ratio.append(\".\")\n",
    "        elif i == len(daily_return)-1:\n",
    "            Partial_Data.append(daily_return[i]-Rf[i])\n",
    "            if daily_return[i]-Rf[i]<0:\n",
    "                negative_return.append((daily_return[i]-Rf[i])**2)\n",
    "            Sortino_Ratio.append(np.mean(Partial_Data)/((np.sum(negative_return)/len(negative_return))**(1/2)))\n",
    "        elif period[i]==period[i+1]:\n",
    "            Partial_Data.append(daily_return[i]-Rf[i])\n",
    "            Sortino_Ratio.append(\".\")\n",
    "            if daily_return[i]-Rf[i]<0:\n",
    "                negative_return.append((daily_return[i]-Rf[i])**2)\n",
    "        else:\n",
    "            Partial_Data.append(daily_return[i]-Rf[i])\n",
    "            if daily_return[i]-Rf[i]<0:\n",
    "                negative_return.append((daily_return[i]-Rf[i])**2)\n",
    "            Sortino_Ratio.append(np.mean(Partial_Data)/((np.sum(negative_return)/len(negative_return))**(1/2)))\n",
    "            Partial_Data=[]\n",
    "            negative_return=[]\n",
    "    return Sortino_Ratio"
   ]
  },
  {
   "cell_type": "markdown",
   "metadata": {},
   "source": [
    "#### Calculating analytical VaR"
   ]
  },
  {
   "cell_type": "code",
   "execution_count": 10,
   "metadata": {},
   "outputs": [],
   "source": [
    "def Analytical_VaR (daily_return, period):\n",
    "    Partial_Data=[]\n",
    "    Analytical_VaR=[]\n",
    "    for i in range (len(daily_return)):\n",
    "        if daily_return[i]==\".\":\n",
    "            Analytical_VaR.append(\".\")\n",
    "        elif i == len(daily_return)-1:\n",
    "            Partial_Data.append(daily_return[i])\n",
    "            Analytical_VaR.append(np.mean(Partial_Data)-(1.65*np.std(Partial_Data)))\n",
    "        elif period[i]==period[i+1]:\n",
    "            Partial_Data.append(daily_return[i])\n",
    "            Analytical_VaR.append(\".\")\n",
    "        else:\n",
    "            Partial_Data.append(daily_return[i])\n",
    "            Analytical_VaR.append(np.mean(Partial_Data)-(1.65*np.std(Partial_Data)))\n",
    "            Partial_Data=[]\n",
    "    return Analytical_VaR"
   ]
  },
  {
   "cell_type": "markdown",
   "metadata": {},
   "source": [
    "#### Calculating VaR"
   ]
  },
  {
   "cell_type": "code",
   "execution_count": 11,
   "metadata": {},
   "outputs": [],
   "source": [
    "def VaR (daily_return, period):\n",
    "    Partial_Data=[]\n",
    "    VaR=[]\n",
    "    for i in range (len(daily_return)):\n",
    "        if daily_return[i]==\".\":\n",
    "            VaR.append(\".\")\n",
    "        elif i == len(daily_return)-1:\n",
    "            Partial_Data.append(daily_return[i])\n",
    "            Partial_Data.sort()\n",
    "            VaR.append(Partial_Data[round(0.05*len(Partial_Data))-1])\n",
    "        elif period[i]==period[i+1]:\n",
    "            Partial_Data.append(daily_return[i])\n",
    "            VaR.append(\".\")\n",
    "        else:\n",
    "            Partial_Data.append(daily_return[i])\n",
    "            Partial_Data.sort()\n",
    "            VaR.append(Partial_Data[round(0.05*len(Partial_Data))-1])\n",
    "            Partial_Data=[]\n",
    "    return VaR"
   ]
  },
  {
   "cell_type": "markdown",
   "metadata": {},
   "source": [
    "#### Calculating expected VaR"
   ]
  },
  {
   "cell_type": "code",
   "execution_count": 12,
   "metadata": {},
   "outputs": [],
   "source": [
    "def Expected_VaR (daily_return, period):\n",
    "    Partial_Data=[]\n",
    "    Expected_VaR=[]\n",
    "    Sum_Left_Tail=0\n",
    "    for i in range (len(daily_return)):\n",
    "        if daily_return[i]==\".\":\n",
    "            Expected_VaR.append(\".\")\n",
    "        elif i == len(daily_return)-1:\n",
    "            Partial_Data.append(daily_return[i])\n",
    "            Partial_Data.sort()\n",
    "            for j in range(round(0.05*len(Partial_Data))):\n",
    "                Sum_Left_Tail+=Partial_Data[j]\n",
    "            Expected_VaR.append(Sum_Left_Tail/round(0.05*len(Partial_Data)))\n",
    "        elif period[i]==period[i+1]:\n",
    "            Partial_Data.append(daily_return[i])\n",
    "            Expected_VaR.append(\".\")\n",
    "        else:\n",
    "            Partial_Data.append(daily_return[i])\n",
    "            Partial_Data.sort()\n",
    "            for j in range(round(0.05*len(Partial_Data))):\n",
    "                Sum_Left_Tail+=Partial_Data[j]\n",
    "            Expected_VaR.append(Sum_Left_Tail/round(0.05*len(Partial_Data)))\n",
    "            Partial_Data=[]\n",
    "            Sum_Left_Tail=0\n",
    "    return Expected_VaR"
   ]
  },
  {
   "cell_type": "markdown",
   "metadata": {},
   "source": [
    "#### Creating portfolios and finding the best strategy"
   ]
  },
  {
   "cell_type": "code",
   "execution_count": 13,
   "metadata": {},
   "outputs": [],
   "source": [
    "def Portfolio (Bull_Return, Bear_Return, Bull_Weight, Bear_Weight):\n",
    "    portfolio_return=[]\n",
    "    for i in range (len(Bull_Return)):\n",
    "        if Bull_Return[i] != \".\":\n",
    "            portfolio_return.append((Bull_Return[i]*Bull_Weight)+(Bear_Return[i]*Bear_Weight))\n",
    "        else:\n",
    "            portfolio_return.append(\".\")\n",
    "    return portfolio_return"
   ]
  },
  {
   "cell_type": "code",
   "execution_count": 14,
   "metadata": {},
   "outputs": [],
   "source": [
    "def Best_Strategy (P1,P2,P3,P4,P5,P6,P7):\n",
    "    Highest_Return=[]\n",
    "    Best_Strategy=[]\n",
    "    for i in range (len(P1)):\n",
    "        if P1[i]!=\".\":\n",
    "            Highest_Return.append(max(P1[i],P2[i],P3[i],P4[i],P5[i],P6[i],P7[i]))\n",
    "            if max(P1[i],P2[i],P3[i],P4[i],P5[i],P6[i],P7[i]) == P1[i]:\n",
    "                Best_Strategy.append(\"1:0\")\n",
    "            elif max(P1[i],P2[i],P3[i],P4[i],P5[i],P6[i],P7[i]) == P2[i]:\n",
    "                Best_Strategy.append(\"0.75:0.25\")\n",
    "            elif max(P1[i],P2[i],P3[i],P4[i],P5[i],P6[i],P7[i]) == P3[i]:\n",
    "                Best_Strategy.append(\"0.67:0.33\")\n",
    "            elif max(P1[i],P2[i],P3[i],P4[i],P5[i],P6[i],P7[i]) == P4[i]:\n",
    "                Best_Strategy.append(\"0.5:0.5\")\n",
    "            elif max(P1[i],P2[i],P3[i],P4[i],P5[i],P6[i],P7[i]) == P5[i]:\n",
    "                Best_Strategy.append(\"0.33:0.67\")\n",
    "            elif max(P1[i],P2[i],P3[i],P4[i],P5[i],P6[i],P7[i]) == P6[i]:\n",
    "                Best_Strategy.append(\"0.25:0.75\")\n",
    "            elif max(P1[i],P2[i],P3[i],P4[i],P5[i],P6[i],P7[i]) == P7[i]:\n",
    "                Best_Strategy.append(\"0:1\")\n",
    "        else:\n",
    "            Highest_Return.append(\".\")\n",
    "            Best_Strategy.append(\".\")\n",
    "    return Highest_Return, Best_Strategy"
   ]
  },
  {
   "cell_type": "markdown",
   "metadata": {},
   "source": [
    "### Removing empty observations"
   ]
  },
  {
   "cell_type": "code",
   "execution_count": 15,
   "metadata": {},
   "outputs": [],
   "source": [
    "def Remove_Character (dataset, list_name, Character):\n",
    "    removal_rows=[]\n",
    "    for i in range (len(list_name)):\n",
    "        if list_name[i]==Character:\n",
    "            removal_rows.append(i)\n",
    "    dataset=dataset.drop(removal_rows)\n",
    "    dataset=dataset.reset_index()\n",
    "    return dataset"
   ]
  },
  {
   "cell_type": "markdown",
   "metadata": {},
   "source": [
    "### Defining a main function to call all functions at the same time"
   ]
  },
  {
   "cell_type": "code",
   "execution_count": 16,
   "metadata": {},
   "outputs": [],
   "source": [
    "def Main_Function (data, period, investment):\n",
    "    \n",
    "    # Calculating daily returns\n",
    "    data[\"Bull Return Long\"]=daily_return(data[\"Bull Price\"],data[\"Code\"])\n",
    "    data[\"Bear Return Long\"]=daily_return(data[\"Bear Price\"],data[\"Code\"])\n",
    "    data[\"Index Return\"]=daily_return(data[\"Index Price\"],data[\"Code\"])\n",
    "    \n",
    "    # Calculating short daily returns\n",
    "    data[\"Bull Return Short\"]=short_daily_return(data[\"Bull Return Long\"])\n",
    "    data[\"Bear Return Short\"]=short_daily_return(data[\"Bear Return Long\"])\n",
    "    \n",
    "    # Calculating cumulative return\n",
    "    if investment == \"Long\":\n",
    "        data[\"Index CuRe\"]=Cumulative_Long_Return(data[\"Index Return\"],data[period])\n",
    "        data[\"Bull CuRe \"+investment]=Cumulative_Long_Return(data[\"Bull Return \"+investment],data[period])\n",
    "        data[\"Bear CuRe \"+investment]=Cumulative_Long_Return(data[\"Bear Return \"+investment],data[period])\n",
    "    else:        \n",
    "        data[\"Bull CuRe \"+investment]=Cumulative_Short_Return(data[\"Bull Return \"+investment],data[period])\n",
    "        data[\"Bear CuRe \"+investment]=Cumulative_Short_Return(data[\"Bear Return \"+investment],data[period])\n",
    "\n",
    "    # Calculating Sharpe ratio\n",
    "    data[\"Index Sharpe\"]=Sharpe_Ratio(data[\"Index Return\"],data[\"Rf\"],data[period])\n",
    "    data[\"Bull Sharpe Ratio \"+investment]=Sharpe_Ratio(data[\"Bull Return \"+investment],data[\"Rf\"],data[period])\n",
    "    data[\"Bear Sharpe Ratio \"+investment]=Sharpe_Ratio(data[\"Bear Return \"+investment],data[\"Rf\"],data[period])\n",
    "    \n",
    "    # Calculating Sortino ratio\n",
    "    data[\"Index Sortino\"]=Sortino_Ratio(data[\"Index Return\"],data[\"Rf\"],data[period])\n",
    "    data[\"Bull Sortino Ratio \"+investment]=Sortino_Ratio(data[\"Bull Return \"+investment],data[\"Rf\"],data[period])\n",
    "    data[\"Bear Sortino Ratio \"+investment]=Sortino_Ratio(data[\"Bear Return \"+investment],data[\"Rf\"],data[period])\n",
    "    \n",
    "    # Calculating Analytical VaR\n",
    "    data[\"Index Analytical VaR\"]=Analytical_VaR(data[\"Index Return\"],data[period])\n",
    "    data[\"Bull Analytical VaR \"+investment]=Analytical_VaR(data[\"Bull Return \"+investment],data[period])\n",
    "    data[\"Bear Analytical VaR \"+investment]=Analytical_VaR(data[\"Bear Return \"+investment],data[period])\n",
    "    \n",
    "    # Calculating VaR\n",
    "    data[\"Index VaR\"]=VaR(data[\"Index Return\"],data[period])\n",
    "    data[\"Bull VaR \"+investment]=VaR(data[\"Bull Return \"+investment],data[period])\n",
    "    data[\"Bear VaR \"+investment]=VaR(data[\"Bear Return \"+investment],data[period])\n",
    "    \n",
    "    # Calculating Expected VaR\n",
    "    data[\"Index EVaR\"]=Expected_VaR(data[\"Index Return\"],data[period])\n",
    "    data[\"Bull Expected VaR \"+investment]=Expected_VaR(data[\"Bull Return \"+investment],data[period])\n",
    "    data[\"Bear Expected VaR \"+investment]=Expected_VaR(data[\"Bear Return \"+investment],data[period])\n",
    "    \n",
    "    # Calculating the return of each strategy using cumulative return results\n",
    "    data[\"CuRe-Portfolio 1:0 \"+investment]=Portfolio(data[\"Bull CuRe \"+investment],data[\"Bear CuRe \"+investment],1,0)\n",
    "    data[\"CuRe-Portfolio 0.75:0.25 \"+investment]=Portfolio(data[\"Bull CuRe \"+investment],data[\"Bear CuRe \"+investment],0.75,0.25)\n",
    "    data[\"CuRe-Portfolio 0.67:0.33 \"+investment]=Portfolio(data[\"Bull CuRe \"+investment],data[\"Bear CuRe \"+investment],0.67,0.33)\n",
    "    data[\"CuRe-Portfolio 0.5:0.5 \"+investment]=Portfolio(data[\"Bull CuRe \"+investment],data[\"Bear CuRe \"+investment],0.5,0.5)\n",
    "    data[\"CuRe-Portfolio 0.33:0.67 \"+investment]=Portfolio(data[\"Bull CuRe \"+investment],data[\"Bear CuRe \"+investment],0.33,0.67)\n",
    "    data[\"CuRe-Portfolio 0.25:0.75 \"+investment]=Portfolio(data[\"Bull CuRe \"+investment],data[\"Bear CuRe \"+investment],0.25,0.75)\n",
    "    data[\"CuRe-Portfolio 0:1 \"+investment]=Portfolio(data[\"Bull CuRe \"+investment],data[\"Bear CuRe \"+investment],0,1)\n",
    "    \n",
    "    # Finding the best strategy using cumulative return results\n",
    "    data[\"CuRe-Portfolio Highest_Return \"+investment], data[\"CuRe-Portfolio Best_Strategy \"+investment] = Best_Strategy(\n",
    "    data[\"CuRe-Portfolio 1:0 \"+investment],data[\"CuRe-Portfolio 0.75:0.25 \"+investment], data[\"CuRe-Portfolio 0.67:0.33 \"+investment], \n",
    "    data[\"CuRe-Portfolio 0.5:0.5 \"+investment],data[\"CuRe-Portfolio 0.33:0.67 \"+investment],data[\"CuRe-Portfolio 0.25:0.75 \"+investment]\n",
    "    , data[\"CuRe-Portfolio 0:1 \"+investment])\n",
    "    \n",
    "    # Calculating the return of each strategy using using Sharpe ratio results\n",
    "    data[\"Sharpe-Portfolio 1:0 \"+investment]=Portfolio(data[\"Bull Sharpe Ratio \"+investment],data[\"Bear Sharpe Ratio \"+investment],1,0)\n",
    "    data[\"Sharpe-Portfolio 0.75:0.25 \"+investment]=Portfolio(data[\"Bull Sharpe Ratio \"+investment],data[\"Bear Sharpe Ratio \"+investment],0.75,0.25)\n",
    "    data[\"Sharpe-Portfolio 0.67:0.33 \"+investment]=Portfolio(data[\"Bull Sharpe Ratio \"+investment],data[\"Bear Sharpe Ratio \"+investment],0.67,0.33)\n",
    "    data[\"Sharpe-Portfolio 0.5:0.5 \"+investment]=Portfolio(data[\"Bull Sharpe Ratio \"+investment],data[\"Bear Sharpe Ratio \"+investment],0.5,0.5)\n",
    "    data[\"Sharpe-Portfolio 0.33:0.67 \"+investment]=Portfolio(data[\"Bull Sharpe Ratio \"+investment],data[\"Bear Sharpe Ratio \"+investment],0.33,0.67)\n",
    "    data[\"Sharpe-Portfolio 0.25:0.75 \"+investment]=Portfolio(data[\"Bull Sharpe Ratio \"+investment],data[\"Bear Sharpe Ratio \"+investment],0.25,0.75)\n",
    "    data[\"Sharpe-Portfolio 0:1 \"+investment]=Portfolio(data[\"Bull Sharpe Ratio \"+investment],data[\"Bear Sharpe Ratio \"+investment],0,1)\n",
    "    \n",
    "    # Finding the best strategy using Sharpe ratio results\n",
    "    data[\"Sharpe-Portfolio Highest_Return \"+investment], data[\"Sharpe-Portfolio Best_Strategy \"+investment] = Best_Strategy(\n",
    "    data[\"Sharpe-Portfolio 1:0 \"+investment],data[\"Sharpe-Portfolio 0.75:0.25 \"+investment], \n",
    "    data[\"Sharpe-Portfolio 0.67:0.33 \"+investment], data[\"Sharpe-Portfolio 0.5:0.5 \"+investment],\n",
    "    data[\"Sharpe-Portfolio 0.33:0.67 \"+investment],data[\"Sharpe-Portfolio 0.25:0.75 \"+investment], \n",
    "    data[\"Sharpe-Portfolio 0:1 \"+investment])\n",
    "    \n",
    "    # Calculating the return of each strategy using using Sortino ratio results\n",
    "    data[\"Sortino-Portfolio 1:0 \"+investment]=Portfolio(data[\"Bull Sortino Ratio \"+investment],data[\"Bear Sortino Ratio \"+investment],1,0)\n",
    "    data[\"Sortino-Portfolio 0.75:0.25 \"+investment]=Portfolio(data[\"Bull Sortino Ratio \"+investment],data[\"Bear Sortino Ratio \"+investment],0.75,0.25)\n",
    "    data[\"Sortino-Portfolio 0.67:0.33 \"+investment]=Portfolio(data[\"Bull Sortino Ratio \"+investment],data[\"Bear Sortino Ratio \"+investment],0.67,0.33)\n",
    "    data[\"Sortino-Portfolio 0.5:0.5 \"+investment]=Portfolio(data[\"Bull Sortino Ratio \"+investment],data[\"Bear Sortino Ratio \"+investment],0.5,0.5)\n",
    "    data[\"Sortino-Portfolio 0.33:0.67 \"+investment]=Portfolio(data[\"Bull Sortino Ratio \"+investment],data[\"Bear Sortino Ratio \"+investment],0.33,0.67)\n",
    "    data[\"Sortino-Portfolio 0.25:0.75 \"+investment]=Portfolio(data[\"Bull Sortino Ratio \"+investment],data[\"Bear Sortino Ratio \"+investment],0.25,0.75)\n",
    "    data[\"Sortino-Portfolio 0:1 \"+investment]=Portfolio(data[\"Bull Sortino Ratio \"+investment],data[\"Bear Sortino Ratio \"+investment],0,1)\n",
    "    \n",
    "    # Finding the best strategy using Sortino ratio results\n",
    "    data[\"Sortino-Portfolio Highest_Return \"+investment], data[\"Sortino-Portfolio Best_Strategy \"+investment] = Best_Strategy(\n",
    "    data[\"Sortino-Portfolio 1:0 \"+investment],data[\"Sortino-Portfolio 0.75:0.25 \"+investment], \n",
    "    data[\"Sortino-Portfolio 0.67:0.33 \"+investment], data[\"Sortino-Portfolio 0.5:0.5 \"+investment],\n",
    "    data[\"Sortino-Portfolio 0.33:0.67 \"+investment],data[\"Sortino-Portfolio 0.25:0.75 \"+investment], \n",
    "    data[\"Sortino-Portfolio 0:1 \"+investment])\n",
    "    \n",
    "    # Calculating the return of each strategy using expected VaR results\n",
    "    data[\"EVaR-Portfolio 1:0 \"+investment]=Portfolio(data[\"Bull Expected VaR \"+investment],data[\"Bear Expected VaR \"+investment],1,0)\n",
    "    data[\"EVaR-Portfolio 0.75:0.25 \"+investment]=Portfolio(data[\"Bull Expected VaR \"+investment],data[\"Bear Expected VaR \"+investment],0.75,0.25)\n",
    "    data[\"EVaR-Portfolio 0.67:0.33 \"+investment]=Portfolio(data[\"Bull Expected VaR \"+investment],data[\"Bear Expected VaR \"+investment],0.67,0.33)\n",
    "    data[\"EVaR-Portfolio 0.5:0.5 \"+investment]=Portfolio(data[\"Bull Expected VaR \"+investment],data[\"Bear Expected VaR \"+investment],0.5,0.5)\n",
    "    data[\"EVaR-Portfolio 0.33:0.67 \"+investment]=Portfolio(data[\"Bull Expected VaR \"+investment],data[\"Bear Expected VaR \"+investment],0.33,0.67)\n",
    "    data[\"EVaR-Portfolio 0.25:0.75 \"+investment]=Portfolio(data[\"Bull Expected VaR \"+investment],data[\"Bear Expected VaR \"+investment],0.25,0.75)\n",
    "    data[\"EVaR-Portfolio 0:1 \"+investment]=Portfolio(data[\"Bull Expected VaR \"+investment],data[\"Bear Expected VaR \"+investment],0,1)\n",
    "    \n",
    "    # Finding the best strategy using expected VaR results\n",
    "    data[\"EVaR-Portfolio Highest_Return \"+investment], data[\"EVaR-Portfolio Best_Strategy \"+investment] = Best_Strategy(\n",
    "    data[\"EVaR-Portfolio 1:0 \"+investment],data[\"EVaR-Portfolio 0.75:0.25 \"+investment], \n",
    "    data[\"EVaR-Portfolio 0.67:0.33 \"+investment], data[\"EVaR-Portfolio 0.5:0.5 \"+investment],\n",
    "    data[\"EVaR-Portfolio 0.33:0.67 \"+investment],data[\"EVaR-Portfolio 0.25:0.75 \"+investment], \n",
    "    data[\"EVaR-Portfolio 0:1 \"+investment])"
   ]
  },
  {
   "cell_type": "markdown",
   "metadata": {},
   "source": [
    "### Creating two datasets: quarterly analysis and annual analysis"
   ]
  },
  {
   "cell_type": "code",
   "execution_count": 17,
   "metadata": {},
   "outputs": [],
   "source": [
    "data_quarter=data.copy()\n",
    "data_yearly=data.copy()"
   ]
  },
  {
   "cell_type": "markdown",
   "metadata": {},
   "source": [
    "### Calculating all portfolios using longing and shorting"
   ]
  },
  {
   "cell_type": "code",
   "execution_count": 18,
   "metadata": {},
   "outputs": [],
   "source": [
    "Main_Function(data_quarter, \"Quarter\", \"Long\")\n",
    "Main_Function(data_yearly, \"Year\", \"Long\")"
   ]
  },
  {
   "cell_type": "code",
   "execution_count": 19,
   "metadata": {},
   "outputs": [],
   "source": [
    "Main_Function(data_quarter, \"Quarter\", \"Short\")\n",
    "Main_Function(data_yearly, \"Year\", \"Short\")"
   ]
  },
  {
   "cell_type": "markdown",
   "metadata": {},
   "source": [
    "#### Calculating the trend of the prices"
   ]
  },
  {
   "cell_type": "code",
   "execution_count": 20,
   "metadata": {},
   "outputs": [],
   "source": [
    "def Trend (daily_return, period, starting, ending):\n",
    "    Partial_Data=[]\n",
    "    Trend=[]\n",
    "    Trend_Dummy=[]\n",
    "    for i in range (len(daily_return)):\n",
    "        if daily_return[i]==\".\":\n",
    "            Trend.append(\".\")\n",
    "        elif i == len(daily_return)-1:\n",
    "            Partial_Data.append(daily_return[i])\n",
    "            Last_Days_Return_Starting = Partial_Data[len(Partial_Data)-starting:]\n",
    "            Last_Days_Return_Ending = Partial_Data[len(Partial_Data)-ending:]\n",
    "            Trend.append(np.mean(Last_Days_Return_Ending)-np.mean(Last_Days_Return_Starting))\n",
    "        elif period[i]==period[i+1]:\n",
    "            Partial_Data.append(daily_return[i])\n",
    "            Trend.append(\".\")\n",
    "        else:\n",
    "            Partial_Data.append(daily_return[i])\n",
    "            Last_Days_Return_Starting = Partial_Data[len(Partial_Data)-starting:]\n",
    "            Last_Days_Return_Ending = Partial_Data[len(Partial_Data)-ending:]\n",
    "            Trend.append(np.mean(Last_Days_Return_Ending)-np.mean(Last_Days_Return_Starting))\n",
    "            Partial_Data=[]\n",
    "    for i in range (len(Trend)):\n",
    "        if Trend[i]>=0:\n",
    "            Trend_Dummy[i]=1\n",
    "        else:\n",
    "            Trend_Dummy[i]=0\n",
    "    return Trend_Dummy"
   ]
  },
  {
   "cell_type": "code",
   "execution_count": 21,
   "metadata": {},
   "outputs": [],
   "source": [
    "data_quarter[\"Bull Trend\"]=Trend(data_quarter[\"Bull Return Long\"],data[\"Quarter\"],12,33)\n",
    "data_quarter[\"Bear Trend\"]=Trend(data_quarter[\"Bear Return Long\"],data[\"Quarter\"],12,33)\n",
    "data_quarter[\"Index Trend\"]=Trend(data_quarter[\"Index Return\"],data[\"Quarter\"],12,33)"
   ]
  },
  {
   "cell_type": "code",
   "execution_count": 22,
   "metadata": {},
   "outputs": [],
   "source": [
    "data_yearly[\"Bull Trend\"]=Trend(data_yearly[\"Bull Return Long\"],data[\"Year\"],43,152)\n",
    "data_yearly[\"Bear Trend\"]=Trend(data_yearly[\"Bear Return Long\"],data[\"Year\"],43,152)\n",
    "data_yearly[\"Index Trend\"]=Trend(data_yearly[\"Index Return\"],data[\"Year\"],43,152)"
   ]
  },
  {
   "cell_type": "markdown",
   "metadata": {},
   "source": [
    "#### Calculating the volatility"
   ]
  },
  {
   "cell_type": "code",
   "execution_count": 23,
   "metadata": {},
   "outputs": [],
   "source": [
    "def Volatility (daily_return, period):\n",
    "    Partial_Data=[]\n",
    "    Volatility=[]\n",
    "    for i in range (len(daily_return)):\n",
    "        if daily_return[i]==\".\":\n",
    "            Volatility.append(\".\")\n",
    "        elif i == len(daily_return)-1:\n",
    "            Partial_Data.append(daily_return[i])\n",
    "            Volatility.append(np.std(Partial_Data))\n",
    "        elif period[i]==period[i+1]:\n",
    "            Partial_Data.append(daily_return[i])\n",
    "            Volatility.append(\".\")\n",
    "        else:\n",
    "            Partial_Data.append(daily_return[i])\n",
    "            Volatility.append(np.std(Partial_Data))\n",
    "            Partial_Data=[]\n",
    "    return Volatility"
   ]
  },
  {
   "cell_type": "code",
   "execution_count": 24,
   "metadata": {},
   "outputs": [],
   "source": [
    "data_quarter[\"Bull Volatility\"]=Volatility(data_quarter[\"Bull Return Long\"],data[\"Quarter\"])\n",
    "data_quarter[\"Bear Volatility\"]=Volatility(data_quarter[\"Bear Return Long\"],data[\"Quarter\"])\n",
    "data_quarter[\"Index Volatility\"]=Volatility(data_quarter[\"Index Return\"],data[\"Quarter\"])"
   ]
  },
  {
   "cell_type": "code",
   "execution_count": 25,
   "metadata": {},
   "outputs": [],
   "source": [
    "data_yearly[\"Bull Volatility\"]=Volatility(data_yearly[\"Bull Return Long\"],data[\"Year\"])\n",
    "data_yearly[\"Bear Volatility\"]=Volatility(data_yearly[\"Bear Return Long\"],data[\"Year\"])\n",
    "data_yearly[\"Index Volatility\"]=Volatility(data_yearly[\"Index Return\"],data[\"Year\"])"
   ]
  },
  {
   "cell_type": "markdown",
   "metadata": {},
   "source": [
    "#### Calculating the beta of each LETF"
   ]
  },
  {
   "cell_type": "code",
   "execution_count": 26,
   "metadata": {},
   "outputs": [],
   "source": [
    "def Beta (daily_return_stock, daily_return_index, period):\n",
    "    Partial_Data_stock=[]\n",
    "    Partial_Data_index=[]\n",
    "    Beta=[]\n",
    "    for i in range (len(daily_return_stock)):\n",
    "        if daily_return_stock[i]==\".\":\n",
    "            Beta.append(\".\")\n",
    "        elif i == len(daily_return_stock)-1:\n",
    "            Partial_Data_stock.append(daily_return_stock[i])\n",
    "            Partial_Data_index.append(daily_return_index[i])\n",
    "            Corr=st.pearsonr(Partial_Data_stock,Partial_Data_index)\n",
    "            Beta.append(Corr[0])\n",
    "        elif period[i]==period[i+1]:\n",
    "            Partial_Data_stock.append(daily_return_stock[i])\n",
    "            Partial_Data_index.append(daily_return_index[i])\n",
    "            Beta.append(\".\")\n",
    "        else:\n",
    "            Partial_Data_stock.append(daily_return_stock[i])\n",
    "            Partial_Data_index.append(daily_return_index[i])\n",
    "            Corr=st.pearsonr(Partial_Data_stock,Partial_Data_index)\n",
    "            Beta.append(Corr[0])\n",
    "            Partial_Data_stock=[]\n",
    "            Partial_Data_index=[]\n",
    "    return Beta"
   ]
  },
  {
   "cell_type": "code",
   "execution_count": 27,
   "metadata": {},
   "outputs": [],
   "source": [
    "data_quarter[\"Bull Beta Price\"]=Beta(data_quarter[\"Bull Price\"],data_quarter[\"Index Price\"], data_quarter[\"Quarter\"])\n",
    "data_quarter[\"Bear Beta Price\"]=Beta(data_quarter[\"Bear Price\"],data_quarter[\"Index Price\"], data_quarter[\"Quarter\"])\n",
    "data_quarter[\"Bull Beta Return\"]=Beta(data_quarter[\"Bull Return Long\"],data_quarter[\"Index Return\"], data_quarter[\"Quarter\"])\n",
    "data_quarter[\"Bear Beta Return\"]=Beta(data_quarter[\"Bear Return Long\"],data_quarter[\"Index Return\"], data_quarter[\"Quarter\"])"
   ]
  },
  {
   "cell_type": "code",
   "execution_count": 28,
   "metadata": {},
   "outputs": [],
   "source": [
    "data_yearly[\"Bull Beta Price\"]=Beta(data_yearly[\"Bull Price\"],data_yearly[\"Index Price\"], data_yearly[\"Year\"])\n",
    "data_yearly[\"Bear Beta Price\"]=Beta(data_yearly[\"Bear Price\"],data_yearly[\"Index Price\"], data_yearly[\"Year\"])\n",
    "data_yearly[\"Bull Beta Return\"]=Beta(data_yearly[\"Bull Return Long\"],data_yearly[\"Index Return\"], data_yearly[\"Year\"])\n",
    "data_yearly[\"Bear Beta Return\"]=Beta(data_yearly[\"Bear Return Long\"],data_yearly[\"Index Return\"], data_yearly[\"Year\"])"
   ]
  },
  {
   "cell_type": "markdown",
   "metadata": {},
   "source": [
    "#### Transforming daily data into quarterly and annual data"
   ]
  },
  {
   "cell_type": "code",
   "execution_count": 29,
   "metadata": {},
   "outputs": [],
   "source": [
    "def periodical_average (daily_return, period):\n",
    "    Partial_Data=[]\n",
    "    periodical_average=[]\n",
    "    for i in range (len(daily_return)):\n",
    "        if daily_return[i]==\".\":\n",
    "            periodical_average.append(\".\")\n",
    "        elif i == len(daily_return)-1:\n",
    "            Partial_Data.append(daily_return[i])\n",
    "            periodical_average.append(np.mean(Partial_Data))\n",
    "        elif period[i]==period[i+1]:\n",
    "            Partial_Data.append(daily_return[i])\n",
    "            periodical_average.append(\".\")\n",
    "        else:\n",
    "            Partial_Data.append(daily_return[i])\n",
    "            periodical_average.append(np.mean(Partial_Data))\n",
    "            Partial_Data=[]\n",
    "    return periodical_average"
   ]
  },
  {
   "cell_type": "markdown",
   "metadata": {},
   "source": [
    "###### Transforming price"
   ]
  },
  {
   "cell_type": "code",
   "execution_count": 30,
   "metadata": {},
   "outputs": [],
   "source": [
    "data_quarter[\"Bull Ave Price\"]=periodical_average(data_quarter[\"Bull Price\"],data_quarter[\"Quarter\"])\n",
    "data_quarter[\"Bear Ave Price\"]=periodical_average(data_quarter[\"Bear Price\"],data_quarter[\"Quarter\"])\n",
    "data_quarter[\"Index Ave Price\"]=periodical_average(data_quarter[\"Index Price\"],data_quarter[\"Quarter\"])"
   ]
  },
  {
   "cell_type": "code",
   "execution_count": 31,
   "metadata": {},
   "outputs": [],
   "source": [
    "data_yearly[\"Bull Ave Price\"]=periodical_average(data_yearly[\"Bull Price\"],data_yearly[\"Year\"])\n",
    "data_yearly[\"Bear Ave Price\"]=periodical_average(data_yearly[\"Bear Price\"],data_yearly[\"Year\"])\n",
    "data_yearly[\"Index Ave Price\"]=periodical_average(data_yearly[\"Index Price\"],data_yearly[\"Year\"])"
   ]
  },
  {
   "cell_type": "markdown",
   "metadata": {},
   "source": [
    "###### Transforming return"
   ]
  },
  {
   "cell_type": "code",
   "execution_count": 32,
   "metadata": {},
   "outputs": [],
   "source": [
    "data_quarter[\"Bull Ave Return\"]=periodical_average(data_quarter[\"Bull Return Long\"],data_quarter[\"Quarter\"])\n",
    "data_quarter[\"Bear Ave Return\"]=periodical_average(data_quarter[\"Bear Return Long\"],data_quarter[\"Quarter\"])\n",
    "data_quarter[\"Index Ave Return\"]=periodical_average(data_quarter[\"Index Return\"],data_quarter[\"Quarter\"])"
   ]
  },
  {
   "cell_type": "code",
   "execution_count": 33,
   "metadata": {},
   "outputs": [],
   "source": [
    "data_yearly[\"Bull Ave Return\"]=periodical_average(data_yearly[\"Bull Return Long\"],data_yearly[\"Year\"])\n",
    "data_yearly[\"Bear Ave Return\"]=periodical_average(data_yearly[\"Bear Return Long\"],data_yearly[\"Year\"])\n",
    "data_yearly[\"Index Ave Return\"]=periodical_average(data_yearly[\"Index Return\"],data_yearly[\"Year\"])"
   ]
  },
  {
   "cell_type": "markdown",
   "metadata": {},
   "source": [
    "###### Transforming volume"
   ]
  },
  {
   "cell_type": "code",
   "execution_count": 34,
   "metadata": {},
   "outputs": [],
   "source": [
    "data_quarter[\"Bull Ave Volume\"]=periodical_average(data_quarter[\"Bull Volume\"],data_quarter[\"Quarter\"])\n",
    "data_quarter[\"Bear Ave Volume\"]=periodical_average(data_quarter[\"Bear Volume\"],data_quarter[\"Quarter\"])\n",
    "data_quarter[\"Index Ave Volume\"]=periodical_average(data_quarter[\"Index Volume\"],data_quarter[\"Quarter\"])"
   ]
  },
  {
   "cell_type": "code",
   "execution_count": 35,
   "metadata": {},
   "outputs": [],
   "source": [
    "data_yearly[\"Bull Ave Volume\"]=periodical_average(data_yearly[\"Bull Volume\"],data_yearly[\"Year\"])\n",
    "data_yearly[\"Bear Ave Volume\"]=periodical_average(data_yearly[\"Bear Volume\"],data_yearly[\"Year\"])\n",
    "data_yearly[\"Index Ave Volume\"]=periodical_average(data_yearly[\"Index Volume\"],data_yearly[\"Year\"])"
   ]
  },
  {
   "cell_type": "markdown",
   "metadata": {},
   "source": [
    "###### Transforming NAV"
   ]
  },
  {
   "cell_type": "code",
   "execution_count": 36,
   "metadata": {},
   "outputs": [],
   "source": [
    "data_quarter[\"Bull Ave NAV\"]=periodical_average(data_quarter[\"Bull NAV\"],data_quarter[\"Quarter\"])\n",
    "data_quarter[\"Bear Ave NAV\"]=periodical_average(data_quarter[\"Bear NAV\"],data_quarter[\"Quarter\"])"
   ]
  },
  {
   "cell_type": "code",
   "execution_count": 37,
   "metadata": {},
   "outputs": [],
   "source": [
    "data_yearly[\"Bull Ave NAV\"]=periodical_average(data_yearly[\"Bull NAV\"],data_yearly[\"Year\"])\n",
    "data_yearly[\"Bear Ave NAV\"]=periodical_average(data_yearly[\"Bear NAV\"],data_yearly[\"Year\"])"
   ]
  },
  {
   "cell_type": "markdown",
   "metadata": {},
   "source": [
    "###### Transforming market capitalization"
   ]
  },
  {
   "cell_type": "code",
   "execution_count": 38,
   "metadata": {},
   "outputs": [],
   "source": [
    "data_quarter[\"Bull Ave MCap\"]=periodical_average(data_quarter[\"Bull Market Cap\"],data_quarter[\"Quarter\"])\n",
    "data_quarter[\"Bear Ave MCap\"]=periodical_average(data_quarter[\"Bear Market Cap\"],data_quarter[\"Quarter\"])\n",
    "data_quarter[\"Index Ave MCap\"]=periodical_average(data_quarter[\"Index Market Cap\"],data_quarter[\"Quarter\"])"
   ]
  },
  {
   "cell_type": "code",
   "execution_count": 39,
   "metadata": {},
   "outputs": [],
   "source": [
    "data_yearly[\"Bull Ave MCap\"]=periodical_average(data_yearly[\"Bull Market Cap\"],data_yearly[\"Year\"])\n",
    "data_yearly[\"Bear Ave MCap\"]=periodical_average(data_yearly[\"Bear Market Cap\"],data_yearly[\"Year\"])\n",
    "data_yearly[\"Index Ave MCap\"]=periodical_average(data_yearly[\"Index Market Cap\"],data_yearly[\"Year\"])"
   ]
  },
  {
   "cell_type": "markdown",
   "metadata": {},
   "source": [
    "###### Transforming bid ask spread"
   ]
  },
  {
   "cell_type": "code",
   "execution_count": 40,
   "metadata": {},
   "outputs": [],
   "source": [
    "data_quarter[\"Bull Ave Spread\"]=periodical_average(data_quarter[\"Bull Bid Ask Spread\"],data_quarter[\"Quarter\"])\n",
    "data_quarter[\"Bear Ave Spread\"]=periodical_average(data_quarter[\"Bear Bid Ask Spread\"],data_quarter[\"Quarter\"])"
   ]
  },
  {
   "cell_type": "code",
   "execution_count": 41,
   "metadata": {},
   "outputs": [],
   "source": [
    "data_yearly[\"Bull Ave Spread\"]=periodical_average(data_yearly[\"Bull Bid Ask Spread\"],data_yearly[\"Year\"])\n",
    "data_yearly[\"Bear Ave Spread\"]=periodical_average(data_yearly[\"Bear Bid Ask Spread\"],data_yearly[\"Year\"])"
   ]
  },
  {
   "cell_type": "markdown",
   "metadata": {},
   "source": [
    "###### Transforming turnover"
   ]
  },
  {
   "cell_type": "code",
   "execution_count": 42,
   "metadata": {},
   "outputs": [],
   "source": [
    "data_quarter[\"Bull Ave Turnover\"]=periodical_average(data_quarter[\"Bull Turnover\"],data_quarter[\"Quarter\"])\n",
    "data_quarter[\"Bear Ave Turnover\"]=periodical_average(data_quarter[\"Bear Turnover\"],data_quarter[\"Quarter\"])"
   ]
  },
  {
   "cell_type": "code",
   "execution_count": 43,
   "metadata": {},
   "outputs": [],
   "source": [
    "data_yearly[\"Bull Ave Turnover\"]=periodical_average(data_yearly[\"Bull Turnover\"],data_yearly[\"Year\"])\n",
    "data_yearly[\"Bear Ave Turnover\"]=periodical_average(data_yearly[\"Bear Turnover\"],data_yearly[\"Year\"])"
   ]
  },
  {
   "cell_type": "markdown",
   "metadata": {},
   "source": [
    "#### Calculating price to NAV ratio"
   ]
  },
  {
   "cell_type": "code",
   "execution_count": 44,
   "metadata": {},
   "outputs": [],
   "source": [
    "data_quarter[\"Bull Price To Nav\"]=Division(data_quarter[\"Bull Price\"],data_quarter[\"Bull NAV\"])\n",
    "data_quarter[\"Bear Price To Nav\"]=Division(data_quarter[\"Bear Price\"],data_quarter[\"Bear NAV\"])"
   ]
  },
  {
   "cell_type": "code",
   "execution_count": 45,
   "metadata": {},
   "outputs": [],
   "source": [
    "data_yearly[\"Bull Price To Nav\"]=Division(data_yearly[\"Bull Price\"],data_yearly[\"Bull NAV\"])\n",
    "data_yearly[\"Bear Price To Nav\"]=Division(data_yearly[\"Bear Price\"],data_yearly[\"Bear NAV\"])"
   ]
  },
  {
   "cell_type": "markdown",
   "metadata": {},
   "source": [
    "#### Transforming price to NAV"
   ]
  },
  {
   "cell_type": "code",
   "execution_count": 46,
   "metadata": {},
   "outputs": [],
   "source": [
    "data_quarter[\"Bull Ave PTNAV\"]=periodical_average(data_quarter[\"Bull Price To Nav\"],data_quarter[\"Quarter\"])\n",
    "data_quarter[\"Bear Ave PTNAV\"]=periodical_average(data_quarter[\"Bear Price To Nav\"],data_quarter[\"Quarter\"])"
   ]
  },
  {
   "cell_type": "code",
   "execution_count": 47,
   "metadata": {},
   "outputs": [],
   "source": [
    "data_yearly[\"Bull Ave PTNAV\"]=periodical_average(data_yearly[\"Bull Price To Nav\"],data_yearly[\"Year\"])\n",
    "data_yearly[\"Bear Ave PTNAV\"]=periodical_average(data_yearly[\"Bear Price To Nav\"],data_yearly[\"Year\"])"
   ]
  },
  {
   "cell_type": "markdown",
   "metadata": {},
   "source": [
    "#### Defining market situation"
   ]
  },
  {
   "cell_type": "code",
   "execution_count": 48,
   "metadata": {},
   "outputs": [],
   "source": [
    "def Market_Situation (dataset, daily_return, period, subperiod):\n",
    "    dataset=dataset.assign(subperiod_average=periodical_average(daily_return, subperiod))\n",
    "    dataset=Remove_Character(dataset, dataset[\"subperiod_average\"],\".\")\n",
    "    Market=[]\n",
    "    for i in range (len(dataset[\"subperiod_average\"])):\n",
    "        Market.append(\".\")\n",
    "    for i in range (len(dataset[\"subperiod_average\"])):\n",
    "        if period == \"Quarter\":\n",
    "            if i == 0 or dataset[period][i] != dataset[period][i-1]:\n",
    "                if dataset[\"subperiod_average\"][i]<0 and dataset[\"subperiod_average\"][i+1]<0 and dataset[\"subperiod_average\"][i+2]<0:\n",
    "                    Market[i+2]=\"Bear\"\n",
    "                elif dataset[\"subperiod_average\"][i]>0 and dataset[\"subperiod_average\"][i+1]>0 and dataset[\"subperiod_average\"][i+2]>0:\n",
    "                    Market[i+2]=\"Bull\"\n",
    "                else:\n",
    "                    Market[i+2]=\"Inconsistant\"\n",
    "        if period == \"Year\":\n",
    "            if i == 0 or dataset[period][i] != dataset[period][i-1]:\n",
    "                if dataset[\"subperiod_average\"][i]<0 and dataset[\"subperiod_average\"][i+1]<0 and dataset[\"subperiod_average\"][i+2]<0 and dataset[\"subperiod_average\"][i+3]<0:\n",
    "                    Market[i+3]=\"Bear\"\n",
    "                elif dataset[\"subperiod_average\"][i]>0 and dataset[\"subperiod_average\"][i+1]>0 and dataset[\"subperiod_average\"][i+2]>0 and dataset[\"subperiod_average\"][i+3]>0:\n",
    "                    Market[i+3]=\"Bull\"\n",
    "                else:\n",
    "                    Market[i+3]=\"Inconsistant\"\n",
    "    dataset=dataset.assign(Market_situation=Market)\n",
    "    return dataset"
   ]
  },
  {
   "cell_type": "code",
   "execution_count": 49,
   "metadata": {},
   "outputs": [],
   "source": [
    "data_quarter=Market_Situation(data_quarter,data_quarter[\"Index Return\"],\"Quarter\",data_quarter[\"Month\"])\n",
    "data_yearly=Market_Situation(data_yearly,data_yearly[\"Index Return\"],\"Year\",data_yearly[\"Quarter\"])"
   ]
  },
  {
   "cell_type": "markdown",
   "metadata": {},
   "source": [
    "### Calculating a dummy variable for dependent variable (First layer)"
   ]
  },
  {
   "cell_type": "code",
   "execution_count": 50,
   "metadata": {},
   "outputs": [],
   "source": [
    "def First_Dependent_Variable (first_benchmark,second_benchmark,first_index,second_index):\n",
    "    dependent_variable=[]\n",
    "    for i in range (len(first_benchmark)):\n",
    "        if first_benchmark[i] > first_index[i] and second_benchmark[i] > second_index[i]:\n",
    "            dependent_variable.append(1)\n",
    "        elif first_benchmark[i] <= first_index[i] or second_benchmark[i] <= second_index[i]:\n",
    "            dependent_variable.append(0)\n",
    "        else:\n",
    "            dependent_variable.append(\".\")\n",
    "    return dependent_variable"
   ]
  },
  {
   "cell_type": "code",
   "execution_count": 51,
   "metadata": {},
   "outputs": [],
   "source": [
    "data_quarter[\"Long Dummy Y Stock/LETF\"]=First_Dependent_Variable(data_quarter[\"Sharpe-Portfolio Highest_Return Long\"],\n",
    "                                                    data_quarter[\"Sortino-Portfolio Highest_Return Long\"], \n",
    "                                                    data_quarter[\"Index Sharpe\"], data_quarter[\"Index Sortino\"])\n",
    "data_yearly[\"Long Dummy Y Stock/LETF\"]=First_Dependent_Variable(data_yearly[\"Sharpe-Portfolio Highest_Return Long\"],\n",
    "                                                    data_yearly[\"Sortino-Portfolio Highest_Return Long\"],\n",
    "                                                    data_yearly[\"Index Sharpe\"], data_yearly[\"Index Sortino\"])"
   ]
  },
  {
   "cell_type": "code",
   "execution_count": 52,
   "metadata": {},
   "outputs": [],
   "source": [
    "data_quarter[\"Short Dummy Y Stock/LETF\"]=First_Dependent_Variable(data_quarter[\"Sharpe-Portfolio Highest_Return Short\"],\n",
    "                                                    data_quarter[\"Sortino-Portfolio Highest_Return Short\"],\n",
    "                                                    data_quarter[\"Index Sharpe\"], data_quarter[\"Index Sortino\"])\n",
    "data_yearly[\"Short Dummy Y Stock/LETF\"]=First_Dependent_Variable(data_yearly[\"Sharpe-Portfolio Highest_Return Short\"],\n",
    "                                                    data_yearly[\"Sortino-Portfolio Highest_Return Short\"],\n",
    "                                                    data_yearly[\"Index Sharpe\"], data_yearly[\"Index Sortino\"])"
   ]
  },
  {
   "cell_type": "markdown",
   "metadata": {},
   "source": [
    "### Calculating a dummy variable for dependent variable (second layer)"
   ]
  },
  {
   "cell_type": "code",
   "execution_count": 53,
   "metadata": {},
   "outputs": [],
   "source": [
    "def Second_Dependent_Variable (first_benchmark,second_benchmark,first_strategy,second_strategy):\n",
    "    dependent_variable=[]\n",
    "    for i in range (len(first_benchmark)):\n",
    "        if first_benchmark[i] == second_benchmark[i] == first_strategy:\n",
    "            dependent_variable.append(0)\n",
    "        elif first_benchmark[i] == second_benchmark[i] == second_strategy:\n",
    "            dependent_variable.append(1)\n",
    "        else:\n",
    "            dependent_variable.append(\".\")\n",
    "    return dependent_variable"
   ]
  },
  {
   "cell_type": "code",
   "execution_count": 54,
   "metadata": {},
   "outputs": [],
   "source": [
    "data_quarter[\"Long Dummy Y Bull/Bear\"]=Second_Dependent_Variable(data_quarter[\"Sharpe-Portfolio Best_Strategy Long\"],\n",
    "                                                      data_quarter[\"Sortino-Portfolio Best_Strategy Long\"],\"1:0\",\"0:1\")\n",
    "data_yearly[\"Long Dummy Y Bull/Bear\"]=Second_Dependent_Variable(data_yearly[\"Sharpe-Portfolio Best_Strategy Long\"],\n",
    "                                                      data_yearly[\"Sortino-Portfolio Best_Strategy Long\"],\"1:0\",\"0:1\")"
   ]
  },
  {
   "cell_type": "code",
   "execution_count": 55,
   "metadata": {},
   "outputs": [],
   "source": [
    "data_quarter[\"Short Dummy Y Bull/Bear\"]=Second_Dependent_Variable(data_quarter[\"Sharpe-Portfolio Best_Strategy Short\"],\n",
    "                                                      data_quarter[\"Sortino-Portfolio Best_Strategy Short\"],\"1:0\",\"0:1\")\n",
    "data_yearly[\"Short Dummy Y Bull/Bear\"]=Second_Dependent_Variable(data_yearly[\"Sharpe-Portfolio Best_Strategy Short\"],\n",
    "                                                      data_yearly[\"Sortino-Portfolio Best_Strategy Short\"],\"1:0\",\"0:1\")"
   ]
  },
  {
   "cell_type": "markdown",
   "metadata": {},
   "source": [
    "#### Removing empty observations"
   ]
  },
  {
   "cell_type": "code",
   "execution_count": 56,
   "metadata": {},
   "outputs": [],
   "source": [
    "data_quarter=Remove_Character(data_quarter, data_quarter[\"Bull Sharpe Ratio Long\"], \".\")\n",
    "data_yearly=Remove_Character(data_yearly, data_yearly[\"Bull Sharpe Ratio Long\"], \".\")"
   ]
  },
  {
   "cell_type": "markdown",
   "metadata": {},
   "source": [
    "### Creating a one lag dependent variable"
   ]
  },
  {
   "cell_type": "code",
   "execution_count": 57,
   "metadata": {},
   "outputs": [],
   "source": [
    "def Lag_Dependent_Variable (ticker, variable):\n",
    "    Lag_Dependent_Variable = []\n",
    "    for i in range (len(variable)):\n",
    "        if i == len(variable)-1:\n",
    "            Lag_Dependent_Variable.append(\".\")\n",
    "        elif ticker[i]==ticker[i+1]:\n",
    "            Lag_Dependent_Variable.append(variable[i+1])\n",
    "        else:\n",
    "            Lag_Dependent_Variable.append(\".\")\n",
    "    return Lag_Dependent_Variable"
   ]
  },
  {
   "cell_type": "code",
   "execution_count": 58,
   "metadata": {},
   "outputs": [],
   "source": [
    "data_quarter[\"Long Lag Dummy Y Stock/LETF\"]= Lag_Dependent_Variable(data_quarter[\"Bull Ticker\"], \n",
    "                                                                   data_quarter[\"Long Dummy Y Stock/LETF\"])\n",
    "data_quarter[\"Short Lag Dummy Y Stock/LETF\"]=Lag_Dependent_Variable(data_quarter[\"Bull Ticker\"], \n",
    "                                                                   data_quarter[\"Short Dummy Y Stock/LETF\"])"
   ]
  },
  {
   "cell_type": "code",
   "execution_count": 59,
   "metadata": {},
   "outputs": [],
   "source": [
    "data_yearly[\"Long Lag Dummy Y Stock/LETF\"]=Lag_Dependent_Variable(data_yearly[\"Bull Ticker\"], \n",
    "                                                                 data_yearly[\"Long Dummy Y Stock/LETF\"])\n",
    "data_yearly[\"Short Lag Dummy Y Stock/LETF\"]=Lag_Dependent_Variable(data_yearly[\"Bull Ticker\"], \n",
    "                                                                  data_yearly[\"Short Dummy Y Stock/LETF\"])"
   ]
  },
  {
   "cell_type": "code",
   "execution_count": 60,
   "metadata": {},
   "outputs": [],
   "source": [
    "data_quarter[\"Long Lag Dummy Y Bull/Bear\"]= Lag_Dependent_Variable(data_quarter[\"Bull Ticker\"], \n",
    "                                                                   data_quarter[\"Long Dummy Y Bull/Bear\"])\n",
    "data_quarter[\"Short Lag Dummy Y Bull/Bear\"]=Lag_Dependent_Variable(data_quarter[\"Bull Ticker\"], \n",
    "                                                                   data_quarter[\"Short Dummy Y Bull/Bear\"])"
   ]
  },
  {
   "cell_type": "code",
   "execution_count": 61,
   "metadata": {},
   "outputs": [],
   "source": [
    "data_yearly[\"Long Lag Dummy Y Bull/Bear\"]=Lag_Dependent_Variable(data_yearly[\"Bull Ticker\"], \n",
    "                                                                 data_yearly[\"Long Dummy Y Bull/Bear\"])\n",
    "data_yearly[\"Short Lag Dummy Y Bull/Bear\"]=Lag_Dependent_Variable(data_yearly[\"Bull Ticker\"], \n",
    "                                                                  data_yearly[\"Short Dummy Y Bull/Bear\"])"
   ]
  },
  {
   "cell_type": "code",
   "execution_count": 62,
   "metadata": {},
   "outputs": [],
   "source": [
    "del data_quarter[\"level_0\"]\n",
    "del data_yearly[\"level_0\"]\n",
    "del data_quarter[\"index\"]\n",
    "del data_yearly[\"index\"]"
   ]
  },
  {
   "cell_type": "markdown",
   "metadata": {},
   "source": [
    "### Saving the datasets"
   ]
  },
  {
   "cell_type": "code",
   "execution_count": 63,
   "metadata": {},
   "outputs": [],
   "source": [
    "data_quarter.to_excel(r\"D:\\Elahe\\MSF\\Thesis\\Datasets\\Quarter1.xlsx\")\n",
    "data_yearly.to_excel(r\"D:\\Elahe\\MSF\\Thesis\\Datasets\\Year1.xlsx\")"
   ]
  },
  {
   "cell_type": "markdown",
   "metadata": {},
   "source": [
    "### Frequency of best strategies based on different measurments for quarter"
   ]
  },
  {
   "cell_type": "code",
   "execution_count": 64,
   "metadata": {},
   "outputs": [
    {
     "data": {
      "text/plain": [
       "1:0    1105\n",
       "0:1     479\n",
       "Name: CuRe-Portfolio Best_Strategy Long, dtype: int64"
      ]
     },
     "execution_count": 64,
     "metadata": {},
     "output_type": "execute_result"
    }
   ],
   "source": [
    "data_quarter[\"CuRe-Portfolio Best_Strategy Long\"].value_counts()"
   ]
  },
  {
   "cell_type": "code",
   "execution_count": 65,
   "metadata": {},
   "outputs": [
    {
     "data": {
      "text/plain": [
       "1:0    1106\n",
       "0:1     478\n",
       "Name: Sharpe-Portfolio Best_Strategy Long, dtype: int64"
      ]
     },
     "execution_count": 65,
     "metadata": {},
     "output_type": "execute_result"
    }
   ],
   "source": [
    "data_quarter[\"Sharpe-Portfolio Best_Strategy Long\"].value_counts()"
   ]
  },
  {
   "cell_type": "code",
   "execution_count": 66,
   "metadata": {},
   "outputs": [
    {
     "data": {
      "text/plain": [
       "1:0    1107\n",
       "0:1     477\n",
       "Name: Sortino-Portfolio Best_Strategy Long, dtype: int64"
      ]
     },
     "execution_count": 66,
     "metadata": {},
     "output_type": "execute_result"
    }
   ],
   "source": [
    "data_quarter[\"Sortino-Portfolio Best_Strategy Long\"].value_counts()"
   ]
  },
  {
   "cell_type": "code",
   "execution_count": 67,
   "metadata": {},
   "outputs": [
    {
     "data": {
      "text/plain": [
       "0:1    857\n",
       "1:0    727\n",
       "Name: EVaR-Portfolio Best_Strategy Long, dtype: int64"
      ]
     },
     "execution_count": 67,
     "metadata": {},
     "output_type": "execute_result"
    }
   ],
   "source": [
    "data_quarter[\"EVaR-Portfolio Best_Strategy Long\"].value_counts()"
   ]
  },
  {
   "cell_type": "code",
   "execution_count": 68,
   "metadata": {},
   "outputs": [
    {
     "data": {
      "text/plain": [
       "0:1    1105\n",
       "1:0     479\n",
       "Name: CuRe-Portfolio Best_Strategy Short, dtype: int64"
      ]
     },
     "execution_count": 68,
     "metadata": {},
     "output_type": "execute_result"
    }
   ],
   "source": [
    "data_quarter[\"CuRe-Portfolio Best_Strategy Short\"].value_counts()"
   ]
  },
  {
   "cell_type": "code",
   "execution_count": 69,
   "metadata": {},
   "outputs": [
    {
     "data": {
      "text/plain": [
       "0:1    1107\n",
       "1:0     477\n",
       "Name: Sharpe-Portfolio Best_Strategy Short, dtype: int64"
      ]
     },
     "execution_count": 69,
     "metadata": {},
     "output_type": "execute_result"
    }
   ],
   "source": [
    "data_quarter[\"Sharpe-Portfolio Best_Strategy Short\"].value_counts()"
   ]
  },
  {
   "cell_type": "code",
   "execution_count": 70,
   "metadata": {},
   "outputs": [
    {
     "data": {
      "text/plain": [
       "0:1    1108\n",
       "1:0     476\n",
       "Name: Sortino-Portfolio Best_Strategy Short, dtype: int64"
      ]
     },
     "execution_count": 70,
     "metadata": {},
     "output_type": "execute_result"
    }
   ],
   "source": [
    "data_quarter[\"Sortino-Portfolio Best_Strategy Short\"].value_counts()"
   ]
  },
  {
   "cell_type": "code",
   "execution_count": 71,
   "metadata": {},
   "outputs": [
    {
     "data": {
      "text/plain": [
       "1:0    864\n",
       "0:1    720\n",
       "Name: EVaR-Portfolio Best_Strategy Short, dtype: int64"
      ]
     },
     "execution_count": 71,
     "metadata": {},
     "output_type": "execute_result"
    }
   ],
   "source": [
    "data_quarter[\"EVaR-Portfolio Best_Strategy Short\"].value_counts()"
   ]
  },
  {
   "cell_type": "markdown",
   "metadata": {},
   "source": [
    "### Frequency of best strategies based on different measurments for year"
   ]
  },
  {
   "cell_type": "code",
   "execution_count": 72,
   "metadata": {},
   "outputs": [
    {
     "data": {
      "text/plain": [
       "1:0    294\n",
       "0:1    102\n",
       "Name: CuRe-Portfolio Best_Strategy Long, dtype: int64"
      ]
     },
     "execution_count": 72,
     "metadata": {},
     "output_type": "execute_result"
    }
   ],
   "source": [
    "data_yearly[\"CuRe-Portfolio Best_Strategy Long\"].value_counts()"
   ]
  },
  {
   "cell_type": "code",
   "execution_count": 73,
   "metadata": {},
   "outputs": [
    {
     "data": {
      "text/plain": [
       "1:0    293\n",
       "0:1    103\n",
       "Name: Sharpe-Portfolio Best_Strategy Long, dtype: int64"
      ]
     },
     "execution_count": 73,
     "metadata": {},
     "output_type": "execute_result"
    }
   ],
   "source": [
    "data_yearly[\"Sharpe-Portfolio Best_Strategy Long\"].value_counts()"
   ]
  },
  {
   "cell_type": "code",
   "execution_count": 74,
   "metadata": {},
   "outputs": [
    {
     "data": {
      "text/plain": [
       "1:0    294\n",
       "0:1    102\n",
       "Name: Sortino-Portfolio Best_Strategy Long, dtype: int64"
      ]
     },
     "execution_count": 74,
     "metadata": {},
     "output_type": "execute_result"
    }
   ],
   "source": [
    "data_yearly[\"Sortino-Portfolio Best_Strategy Long\"].value_counts()"
   ]
  },
  {
   "cell_type": "code",
   "execution_count": 75,
   "metadata": {},
   "outputs": [
    {
     "data": {
      "text/plain": [
       "0:1    245\n",
       "1:0    151\n",
       "Name: EVaR-Portfolio Best_Strategy Long, dtype: int64"
      ]
     },
     "execution_count": 75,
     "metadata": {},
     "output_type": "execute_result"
    }
   ],
   "source": [
    "data_yearly[\"EVaR-Portfolio Best_Strategy Long\"].value_counts()"
   ]
  },
  {
   "cell_type": "code",
   "execution_count": 76,
   "metadata": {},
   "outputs": [
    {
     "data": {
      "text/plain": [
       "0:1    294\n",
       "1:0    102\n",
       "Name: CuRe-Portfolio Best_Strategy Short, dtype: int64"
      ]
     },
     "execution_count": 76,
     "metadata": {},
     "output_type": "execute_result"
    }
   ],
   "source": [
    "data_yearly[\"CuRe-Portfolio Best_Strategy Short\"].value_counts()"
   ]
  },
  {
   "cell_type": "code",
   "execution_count": 77,
   "metadata": {},
   "outputs": [
    {
     "data": {
      "text/plain": [
       "0:1    294\n",
       "1:0    102\n",
       "Name: Sharpe-Portfolio Best_Strategy Short, dtype: int64"
      ]
     },
     "execution_count": 77,
     "metadata": {},
     "output_type": "execute_result"
    }
   ],
   "source": [
    "data_yearly[\"Sharpe-Portfolio Best_Strategy Short\"].value_counts()"
   ]
  },
  {
   "cell_type": "code",
   "execution_count": 78,
   "metadata": {},
   "outputs": [
    {
     "data": {
      "text/plain": [
       "0:1    294\n",
       "1:0    102\n",
       "Name: Sortino-Portfolio Best_Strategy Short, dtype: int64"
      ]
     },
     "execution_count": 78,
     "metadata": {},
     "output_type": "execute_result"
    }
   ],
   "source": [
    "data_yearly[\"Sortino-Portfolio Best_Strategy Short\"].value_counts()"
   ]
  },
  {
   "cell_type": "code",
   "execution_count": 79,
   "metadata": {
    "scrolled": false
   },
   "outputs": [
    {
     "data": {
      "text/plain": [
       "1:0    251\n",
       "0:1    145\n",
       "Name: EVaR-Portfolio Best_Strategy Short, dtype: int64"
      ]
     },
     "execution_count": 79,
     "metadata": {},
     "output_type": "execute_result"
    }
   ],
   "source": [
    "data_yearly[\"EVaR-Portfolio Best_Strategy Short\"].value_counts()"
   ]
  }
 ],
 "metadata": {
  "kernelspec": {
   "display_name": "Python 3",
   "language": "python",
   "name": "python3"
  },
  "language_info": {
   "codemirror_mode": {
    "name": "ipython",
    "version": 3
   },
   "file_extension": ".py",
   "mimetype": "text/x-python",
   "name": "python",
   "nbconvert_exporter": "python",
   "pygments_lexer": "ipython3",
   "version": "3.8.5"
  }
 },
 "nbformat": 4,
 "nbformat_minor": 4
}
