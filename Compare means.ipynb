{
 "cells": [
  {
   "cell_type": "markdown",
   "metadata": {},
   "source": [
    "### Importing the required libraries and dataset"
   ]
  },
  {
   "cell_type": "code",
   "execution_count": 1,
   "metadata": {},
   "outputs": [],
   "source": [
    "import pandas as pd\n",
    "import numpy as np\n",
    "import scipy.stats as st"
   ]
  },
  {
   "cell_type": "code",
   "execution_count": 2,
   "metadata": {},
   "outputs": [],
   "source": [
    "data_quarter=pd.read_excel(r\"D:\\Elahe\\MSF\\Thesis\\Datasets\\Quarter.xlsx\")\n",
    "data_yearly=pd.read_excel(r\"D:\\Elahe\\MSF\\Thesis\\Datasets\\Year.xlsx\")"
   ]
  },
  {
   "cell_type": "markdown",
   "metadata": {},
   "source": [
    "#### Comparing the mean of returns"
   ]
  },
  {
   "cell_type": "code",
   "execution_count": 3,
   "metadata": {},
   "outputs": [],
   "source": [
    "def print_portfolios_compare_means (dataset, measurment, investment):\n",
    "    Name = measurment +\"-Portfolio\"\n",
    "    print (\"Mean of strategy 1:0 is: \" + str(np.mean(dataset[Name +\" 1:0 \"+investment])),\n",
    "           st.ttest_ind(dataset[Name +\" 1:0 \"+investment].to_numpy(), dataset[\"Index \" + measurment].to_numpy(), equal_var=False),\n",
    "           \"\",\n",
    "           \n",
    "           \"Mean of strategy 0.75:0.25 is: \" + str(np.mean(dataset[Name + \" 0.75:0.25 \"+investment])),\n",
    "           st.ttest_ind(dataset[Name + \" 0.75:0.25 \"+investment].to_numpy(), dataset[\"Index \" + measurment].to_numpy(), equal_var=False),\n",
    "           \"\",\n",
    "           \n",
    "           \"Mean of strategy 0.67:0.33 is: \" + str(np.mean(dataset[Name + \" 0.67:0.33 \"+investment])),\n",
    "           st.ttest_ind(dataset[Name + \" 0.67:0.33 \"+investment].to_numpy(), dataset[\"Index \" + measurment].to_numpy(), equal_var=False),\n",
    "           \"\",\n",
    "           \n",
    "           \"Mean of strategy 0.5:0.5 is: \" + str(np.mean(dataset[Name + \" 0.5:0.5 \"+investment])),\n",
    "           st.ttest_ind(dataset[Name + \" 0.5:0.5 \"+investment].to_numpy(), dataset[\"Index \" + measurment].to_numpy(), equal_var=False),\n",
    "           \"\",\n",
    "           \n",
    "           \"Mean of strategy 0.33:0.67 is: \" + str(np.mean(dataset[Name + \" 0.33:0.67 \"+investment])),\n",
    "           st.ttest_ind(dataset[Name + \" 0.33:0.67 \"+investment].to_numpy(), dataset[\"Index \" + measurment].to_numpy(), equal_var=False),\n",
    "           \"\",\n",
    "           \n",
    "           \"Mean of strategy 0.25:0.75 is: \" + str(np.mean(dataset[Name + \" 0.25:0.75 \"+investment])),\n",
    "           st.ttest_ind(dataset[Name + \" 0.25:0.75 \"+investment].to_numpy(), dataset[\"Index \" + measurment].to_numpy(), equal_var=False),\n",
    "           \"\",\n",
    "           \n",
    "           \"Mean of strategy 0:1 is: \" + str(np.mean(dataset[Name + \" 0:1 \"+investment])),\n",
    "           st.ttest_ind(dataset[Name + \" 0:1 \"+investment].to_numpy(), dataset[\"Index \" + measurment].to_numpy(), equal_var=False),\n",
    "           sep='\\n'\n",
    "          )"
   ]
  },
  {
   "cell_type": "markdown",
   "metadata": {},
   "source": [
    "### Comparing the means of different strategies with index"
   ]
  },
  {
   "cell_type": "markdown",
   "metadata": {},
   "source": [
    "#### Longing the LETFS for quarterly data"
   ]
  },
  {
   "cell_type": "code",
   "execution_count": 4,
   "metadata": {},
   "outputs": [
    {
     "name": "stdout",
     "output_type": "stream",
     "text": [
      "Mean of strategy 1:0 is: 0.05575511760155314\n",
      "Ttest_indResult(statistic=4.860754086934279, pvalue=1.2554520875245891e-06)\n",
      "\n",
      "Mean of strategy 0.75:0.25 is: 0.02420172790005024\n",
      "Ttest_indResult(statistic=0.059398804612029704, pvalue=0.9526384937620311)\n",
      "\n",
      "Mean of strategy 0.67:0.33 is: 0.0141046431955693\n",
      "Ttest_indResult(statistic=-2.7559188549648317, pvalue=0.005886624755365175)\n",
      "\n",
      "Mean of strategy 0.5:0.5 is: -0.007351661801452713\n",
      "Ttest_indResult(statistic=-10.90540333652054, pvalue=4.81926163276984e-27)\n",
      "\n",
      "Mean of strategy 0.33:0.67 is: -0.028807966798474745\n",
      "Ttest_indResult(statistic=-15.80112499394998, pvalue=4.0831618485752806e-54)\n",
      "\n",
      "Mean of strategy 0.25:0.75 is: -0.03890505150295561\n",
      "Ttest_indResult(statistic=-16.179944313606274, pvalue=1.4133356174550746e-56)\n",
      "\n",
      "Mean of strategy 0:1 is: -0.07045844120445859\n",
      "Ttest_indResult(statistic=-15.30849471855374, pvalue=2.463820515021412e-50)\n"
     ]
    }
   ],
   "source": [
    "print_portfolios_compare_means(data_quarter, \"CuRe\", \"Long\")"
   ]
  },
  {
   "cell_type": "code",
   "execution_count": 5,
   "metadata": {},
   "outputs": [
    {
     "name": "stdout",
     "output_type": "stream",
     "text": [
      "Mean of strategy 1:0 is: 0.05326205291164419\n",
      "Ttest_indResult(statistic=0.5002875665182986, pvalue=0.6169077345338825)\n",
      "\n",
      "Mean of strategy 0.75:0.25 is: 0.024693744647635123\n",
      "Ttest_indResult(statistic=-7.678853483071644, pvalue=2.351207891796174e-14)\n",
      "\n",
      "Mean of strategy 0.67:0.33 is: 0.015551886003152254\n",
      "Ttest_indResult(statistic=-10.935920975829616, pvalue=4.697840789536779e-27)\n",
      "\n",
      "Mean of strategy 0.5:0.5 is: -0.003874563616373936\n",
      "Ttest_indResult(statistic=-17.847996283915037, pvalue=4.455556537792197e-65)\n",
      "\n",
      "Mean of strategy 0.33:0.67 is: -0.02330101323590011\n",
      "Ttest_indResult(statistic=-22.876815189538483, pvalue=9.038819824006168e-103)\n",
      "\n",
      "Mean of strategy 0.25:0.75 is: -0.03244287188038308\n",
      "Ttest_indResult(statistic=-24.279161433739937, pvalue=3.1833784728104744e-116)\n",
      "\n",
      "Mean of strategy 0:1 is: -0.061011180144392094\n",
      "Ttest_indResult(statistic=-25.80165975775792, pvalue=2.7978687786086367e-133)\n"
     ]
    }
   ],
   "source": [
    "print_portfolios_compare_means(data_quarter, \"Sharpe\", \"Long\")"
   ]
  },
  {
   "cell_type": "code",
   "execution_count": 6,
   "metadata": {},
   "outputs": [
    {
     "name": "stdout",
     "output_type": "stream",
     "text": [
      "Mean of strategy 1:0 is: 0.06256021862680335\n",
      "Ttest_indResult(statistic=0.5853096657586313, pvalue=0.5583816607547976)\n",
      "\n",
      "Mean of strategy 0.75:0.25 is: 0.03309313085923287\n",
      "Ttest_indResult(statistic=-7.119863327400868, pvalue=1.4209385532849075e-12)\n",
      "\n",
      "Mean of strategy 0.67:0.33 is: 0.023663662773610306\n",
      "Ttest_indResult(statistic=-10.178823230995928, pvalue=9.025351709959393e-24)\n",
      "\n",
      "Mean of strategy 0.5:0.5 is: 0.0036260430916622947\n",
      "Ttest_indResult(statistic=-16.76428579646305, pvalue=2.2070278412002817e-58)\n",
      "\n",
      "Mean of strategy 0.33:0.67 is: -0.016411576590285665\n",
      "Ttest_indResult(statistic=-21.797307990540926, pvalue=2.2353659534329327e-94)\n",
      "\n",
      "Mean of strategy 0.25:0.75 is: -0.025841044675908188\n",
      "Ttest_indResult(statistic=-23.295579866394565, pvalue=8.172146275663411e-108)\n",
      "\n",
      "Mean of strategy 0:1 is: -0.055308132443478784\n",
      "Ttest_indResult(statistic=-25.156873253010378, pvalue=2.4370633892135188e-127)\n"
     ]
    }
   ],
   "source": [
    "print_portfolios_compare_means(data_quarter, \"Sortino\", \"Long\")"
   ]
  },
  {
   "cell_type": "code",
   "execution_count": 7,
   "metadata": {
    "scrolled": false
   },
   "outputs": [
    {
     "name": "stdout",
     "output_type": "stream",
     "text": [
      "Mean of strategy 1:0 is: -0.060301277347313546\n",
      "Ttest_indResult(statistic=-28.892203603246625, pvalue=2.7662142734934115e-154)\n",
      "\n",
      "Mean of strategy 0.75:0.25 is: -0.05972591422222465\n",
      "Ttest_indResult(statistic=-29.623059419353698, pvalue=2.0905991969794173e-161)\n",
      "\n",
      "Mean of strategy 0.67:0.33 is: -0.059541798022196335\n",
      "Ttest_indResult(statistic=-29.80308763836184, pvalue=3.311046177410269e-163)\n",
      "\n",
      "Mean of strategy 0.5:0.5 is: -0.05915055109713591\n",
      "Ttest_indResult(statistic=-30.07978600890975, pvalue=4.7766699145575503e-166)\n",
      "\n",
      "Mean of strategy 0.33:0.67 is: -0.058759304172075276\n",
      "Ttest_indResult(statistic=-30.193267722635802, pvalue=2.483737451993576e-167)\n",
      "\n",
      "Mean of strategy 0.25:0.75 is: -0.05857518797204701\n",
      "Ttest_indResult(statistic=-30.184785259809342, pvalue=2.4568284841935196e-167)\n",
      "\n",
      "Mean of strategy 0:1 is: -0.057999824846958016\n",
      "Ttest_indResult(statistic=-29.88800403020553, pvalue=1.0181683358560176e-164)\n"
     ]
    }
   ],
   "source": [
    "print_portfolios_compare_means(data_quarter, \"EVaR\", \"Long\")"
   ]
  },
  {
   "cell_type": "markdown",
   "metadata": {},
   "source": [
    "#### Longing LETF for yearly dara"
   ]
  },
  {
   "cell_type": "code",
   "execution_count": 8,
   "metadata": {},
   "outputs": [
    {
     "name": "stdout",
     "output_type": "stream",
     "text": [
      "Mean of strategy 1:0 is: 0.20483813581886395\n",
      "Ttest_indResult(statistic=4.322698434019511, pvalue=1.8516524059881283e-05)\n",
      "\n",
      "Mean of strategy 0.75:0.25 is: 0.08896187446997146\n",
      "Ttest_indResult(statistic=-0.2916814612164948, pvalue=0.7706215560680627)\n",
      "\n",
      "Mean of strategy 0.67:0.33 is: 0.05188147083832594\n",
      "Ttest_indResult(statistic=-2.697913357450218, pvalue=0.007138103316213148)\n",
      "\n",
      "Mean of strategy 0.5:0.5 is: -0.02691438687892094\n",
      "Ttest_indResult(statistic=-9.73728569181216, pvalue=3.4238163261284045e-21)\n",
      "\n",
      "Mean of strategy 0.33:0.67 is: -0.10571024459616775\n",
      "Ttest_indResult(statistic=-16.564889655966518, pvalue=1.2720502580790837e-52)\n",
      "\n",
      "Mean of strategy 0.25:0.75 is: -0.14279064822781337\n",
      "Ttest_indResult(statistic=-18.19056126699963, pvalue=7.013866564512205e-62)\n",
      "\n",
      "Mean of strategy 0:1 is: -0.25866690957670596\n",
      "Ttest_indResult(statistic=-18.54826815313577, pvalue=1.4950881110516823e-61)\n"
     ]
    }
   ],
   "source": [
    "print_portfolios_compare_means(data_yearly, \"CuRe\", \"Long\")"
   ]
  },
  {
   "cell_type": "code",
   "execution_count": 9,
   "metadata": {},
   "outputs": [
    {
     "name": "stdout",
     "output_type": "stream",
     "text": [
      "Mean of strategy 1:0 is: 0.0410466146388047\n",
      "Ttest_indResult(statistic=0.5132292626665711, pvalue=0.607935917098072)\n",
      "\n",
      "Mean of strategy 0.75:0.25 is: 0.018649431475222376\n",
      "Ttest_indResult(statistic=-5.501104034790269, pvalue=5.679301046280229e-08)\n",
      "\n",
      "Mean of strategy 0.67:0.33 is: 0.011482332862876048\n",
      "Ttest_indResult(statistic=-7.903344946852999, pvalue=1.8544751570741716e-14)\n",
      "\n",
      "Mean of strategy 0.5:0.5 is: -0.0037477516883599286\n",
      "Ttest_indResult(statistic=-13.008664942452937, pvalue=1.89382578293964e-32)\n",
      "\n",
      "Mean of strategy 0.33:0.67 is: -0.018977836239595928\n",
      "Ttest_indResult(statistic=-16.723265027313737, pvalue=6.4174355645312325e-50)\n",
      "\n",
      "Mean of strategy 0.25:0.75 is: -0.026144934851942234\n",
      "Ttest_indResult(statistic=-17.758756643249246, pvalue=1.1029860764867226e-56)\n",
      "\n",
      "Mean of strategy 0:1 is: -0.04854211801552459\n",
      "Ttest_indResult(statistic=-18.888964911927573, pvalue=7.59468407772762e-66)\n"
     ]
    }
   ],
   "source": [
    "print_portfolios_compare_means(data_yearly, \"Sharpe\", \"Long\")"
   ]
  },
  {
   "cell_type": "code",
   "execution_count": 10,
   "metadata": {},
   "outputs": [
    {
     "name": "stdout",
     "output_type": "stream",
     "text": [
      "Mean of strategy 1:0 is: 0.041861286227901015\n",
      "Ttest_indResult(statistic=0.5568112091322756, pvalue=0.5778157999595079)\n",
      "\n",
      "Mean of strategy 0.75:0.25 is: 0.0189500496601851\n",
      "Ttest_indResult(statistic=-5.517140808922691, pvalue=5.182249771769981e-08)\n",
      "\n",
      "Mean of strategy 0.67:0.33 is: 0.011618453958515993\n",
      "Ttest_indResult(statistic=-7.9546058572369756, pvalue=1.2598306575174244e-14)\n",
      "\n",
      "Mean of strategy 0.5:0.5 is: -0.0039611869075308415\n",
      "Ttest_indResult(statistic=-13.124718826972831, pvalue=5.5732068702299446e-33)\n",
      "\n",
      "Mean of strategy 0.33:0.67 is: -0.019540827773577688\n",
      "Ttest_indResult(statistic=-16.829814332358552, pvalue=1.2034357902904057e-50)\n",
      "\n",
      "Mean of strategy 0.25:0.75 is: -0.02687242347524676\n",
      "Ttest_indResult(statistic=-17.837738644110694, pvalue=2.398301186112854e-57)\n",
      "\n",
      "Mean of strategy 0:1 is: -0.04978366004296274\n",
      "Ttest_indResult(statistic=-18.876360821419457, pvalue=9.241984454529231e-66)\n"
     ]
    }
   ],
   "source": [
    "print_portfolios_compare_means(data_yearly, \"Sortino\", \"Long\")"
   ]
  },
  {
   "cell_type": "code",
   "execution_count": 11,
   "metadata": {},
   "outputs": [
    {
     "name": "stdout",
     "output_type": "stream",
     "text": [
      "Mean of strategy 1:0 is: -0.06481149831797682\n",
      "Ttest_indResult(statistic=-18.018144778905356, pvalue=1.6347814105061527e-56)\n",
      "\n",
      "Mean of strategy 0.75:0.25 is: -0.06390108231206307\n",
      "Ttest_indResult(statistic=-17.901771539090426, pvalue=4.618941927841467e-56)\n",
      "\n",
      "Mean of strategy 0.67:0.33 is: -0.06360974919017064\n",
      "Ttest_indResult(statistic=-17.852338682805794, pvalue=7.428984249372406e-56)\n",
      "\n",
      "Mean of strategy 0.5:0.5 is: -0.06299066630614913\n",
      "Ttest_indResult(statistic=-17.72670362904532, pvalue=2.5981925179011325e-55)\n",
      "\n",
      "Mean of strategy 0.33:0.67 is: -0.06237158342212785\n",
      "Ttest_indResult(statistic=-17.572198286370647, pvalue=1.2763909812936451e-54)\n",
      "\n",
      "Mean of strategy 0.25:0.75 is: -0.06208025030023535\n",
      "Ttest_indResult(statistic=-17.489269682114227, pvalue=3.044232167070719e-54)\n",
      "\n",
      "Mean of strategy 0:1 is: -0.06116983429432153\n",
      "Ttest_indResult(statistic=-17.187345655661137, pvalue=7.591525533058824e-53)\n"
     ]
    }
   ],
   "source": [
    "print_portfolios_compare_means(data_yearly, \"EVaR\", \"Long\")"
   ]
  },
  {
   "cell_type": "markdown",
   "metadata": {},
   "source": [
    "#### Shorting LETF for quarterly data"
   ]
  },
  {
   "cell_type": "code",
   "execution_count": 12,
   "metadata": {},
   "outputs": [
    {
     "name": "stdout",
     "output_type": "stream",
     "text": [
      "Mean of strategy 1:0 is: -0.05575511760155314\n",
      "Ttest_indResult(statistic=-12.183101693924561, pvalue=4.771070900706742e-33)\n",
      "\n",
      "Mean of strategy 0.75:0.25 is: -0.02420172790005024\n",
      "Ttest_indResult(statistic=-11.518623866679373, pvalue=4.6339582491596416e-30)\n",
      "\n",
      "Mean of strategy 0.67:0.33 is: -0.0141046431955693\n",
      "Ttest_indResult(statistic=-10.649552482865099, pvalue=4.859597011191549e-26)\n",
      "\n",
      "Mean of strategy 0.5:0.5 is: 0.007351661801452713\n",
      "Ttest_indResult(statistic=-5.7833672198501604, pvalue=8.302831594695176e-09)\n",
      "\n",
      "Mean of strategy 0.33:0.67 is: 0.028807966798474745\n",
      "Ttest_indResult(statistic=1.4538584543598534, pvalue=0.14608863500913408)\n",
      "\n",
      "Mean of strategy 0.25:0.75 is: 0.03890505150295561\n",
      "Ttest_indResult(statistic=3.8485965861753697, pvalue=0.00012120937870683489)\n",
      "\n",
      "Mean of strategy 0:1 is: 0.07045844120445859\n",
      "Ttest_indResult(statistic=7.54060181774403, pvalue=6.810137630922305e-14)\n"
     ]
    }
   ],
   "source": [
    "print_portfolios_compare_means(data_quarter, \"CuRe\", \"Short\")"
   ]
  },
  {
   "cell_type": "code",
   "execution_count": 13,
   "metadata": {},
   "outputs": [
    {
     "name": "stdout",
     "output_type": "stream",
     "text": [
      "Mean of strategy 1:0 is: -0.05606004484855203\n",
      "Ttest_indResult(statistic=-24.646332592155183, pvalue=9.616812157023379e-123)\n",
      "\n",
      "Mean of strategy 0.75:0.25 is: -0.027489999575351788\n",
      "Ttest_indResult(statistic=-22.824185325252113, pvalue=3.2777115719544206e-104)\n",
      "\n",
      "Mean of strategy 0.67:0.33 is: -0.0183475850879278\n",
      "Ttest_indResult(statistic=-21.33996863149499, pvalue=5.631195068843454e-91)\n",
      "\n",
      "Mean of strategy 0.5:0.5 is: 0.0010800456978482921\n",
      "Ttest_indResult(statistic=-16.23216109457055, pvalue=6.063636957511112e-55)\n",
      "\n",
      "Mean of strategy 0.33:0.67 is: 0.020507676483624376\n",
      "Ttest_indResult(statistic=-9.409569018507584, pvalue=1.357173578409526e-20)\n",
      "\n",
      "Mean of strategy 0.25:0.75 is: 0.02965009097104837\n",
      "Ttest_indResult(statistic=-6.236867703953669, pvalue=5.290471113553849e-10)\n",
      "\n",
      "Mean of strategy 0:1 is: 0.05822013624424843\n",
      "Ttest_indResult(statistic=1.6429497117585776, pvalue=0.10049365385612)\n"
     ]
    }
   ],
   "source": [
    "print_portfolios_compare_means(data_quarter, \"Sharpe\", \"Short\")"
   ]
  },
  {
   "cell_type": "code",
   "execution_count": 14,
   "metadata": {},
   "outputs": [
    {
     "name": "stdout",
     "output_type": "stream",
     "text": [
      "Mean of strategy 1:0 is: -0.04939211958848218\n",
      "Ttest_indResult(statistic=-23.70629928098863, pvalue=2.104315562192939e-114)\n",
      "\n",
      "Mean of strategy 0.75:0.25 is: -0.019385025876854235\n",
      "Ttest_indResult(statistic=-21.467756096907163, pvalue=2.6188716791529054e-93)\n",
      "\n",
      "Mean of strategy 0.67:0.33 is: -0.009782755889133268\n",
      "Ttest_indResult(statistic=-19.817915745032256, pvalue=7.893263391989923e-80)\n",
      "\n",
      "Mean of strategy 0.5:0.5 is: 0.010622067834773784\n",
      "Ttest_indResult(statistic=-14.51689991293848, pvalue=3.860700191432651e-45)\n",
      "\n",
      "Mean of strategy 0.33:0.67 is: 0.03102689155868083\n",
      "Ttest_indResult(statistic=-7.93282901041203, pvalue=3.389737550179055e-15)\n",
      "\n",
      "Mean of strategy 0.25:0.75 is: 0.04062916154640177\n",
      "Ttest_indResult(statistic=-4.98003267831247, pvalue=6.780217963801237e-07)\n",
      "\n",
      "Mean of strategy 0:1 is: 0.07063625525802981\n",
      "Ttest_indResult(statistic=2.2249800998615146, pvalue=0.026153923774607978)\n"
     ]
    }
   ],
   "source": [
    "print_portfolios_compare_means(data_quarter, \"Sortino\", \"Short\")"
   ]
  },
  {
   "cell_type": "code",
   "execution_count": 15,
   "metadata": {},
   "outputs": [
    {
     "name": "stdout",
     "output_type": "stream",
     "text": [
      "Mean of strategy 1:0 is: -0.057741183992288565\n",
      "Ttest_indResult(statistic=-29.949699992498065, pvalue=1.913963740794916e-165)\n",
      "\n",
      "Mean of strategy 0.75:0.25 is: -0.05833876345487882\n",
      "Ttest_indResult(statistic=-30.266155163939086, pvalue=3.021777307255086e-168)\n",
      "\n",
      "Mean of strategy 0.67:0.33 is: -0.05852998888290765\n",
      "Ttest_indResult(statistic=-30.274462703094816, pvalue=3.1069807010462497e-168)\n",
      "\n",
      "Mean of strategy 0.5:0.5 is: -0.05893634291746904\n",
      "Ttest_indResult(statistic=-30.151164994012852, pvalue=7.725476478822762e-167)\n",
      "\n",
      "Mean of strategy 0.33:0.67 is: -0.05934269695203049\n",
      "Ttest_indResult(statistic=-29.85387016946399, pvalue=8.844350009184273e-164)\n",
      "\n",
      "Mean of strategy 0.25:0.75 is: -0.05953392238005924\n",
      "Ttest_indResult(statistic=-29.66127645821991, pvalue=7.521169192893992e-162)\n",
      "\n",
      "Mean of strategy 0:1 is: -0.06013150184264967\n",
      "Ttest_indResult(statistic=-28.883756446254335, pvalue=2.8948959172967463e-154)\n"
     ]
    }
   ],
   "source": [
    "print_portfolios_compare_means(data_quarter, \"EVaR\", \"Short\")"
   ]
  },
  {
   "cell_type": "markdown",
   "metadata": {},
   "source": [
    "#### Shorting LETF for year data"
   ]
  },
  {
   "cell_type": "code",
   "execution_count": 16,
   "metadata": {},
   "outputs": [
    {
     "name": "stdout",
     "output_type": "stream",
     "text": [
      "Mean of strategy 1:0 is: -0.20483813581886395\n",
      "Ttest_indResult(statistic=-11.676615905873298, pvalue=4.20655577867194e-28)\n",
      "\n",
      "Mean of strategy 0.75:0.25 is: -0.08896187446997146\n",
      "Ttest_indResult(statistic=-10.291438687412661, pvalue=3.828599475845245e-23)\n",
      "\n",
      "Mean of strategy 0.67:0.33 is: -0.05188147083832594\n",
      "Ttest_indResult(statistic=-9.320621341359052, pvalue=1.3319441821659637e-19)\n",
      "\n",
      "Mean of strategy 0.5:0.5 is: 0.02691438687892094\n",
      "Ttest_indResult(statistic=-5.407864179638801, pvalue=8.55392597504175e-08)\n",
      "\n",
      "Mean of strategy 0.33:0.67 is: 0.10571024459616775\n",
      "Ttest_indResult(statistic=0.9579907997549009, pvalue=0.33838182164077324)\n",
      "\n",
      "Mean of strategy 0.25:0.75 is: 0.14279064822781337\n",
      "Ttest_indResult(statistic=3.734113528418015, pvalue=0.00020212109872658866)\n",
      "\n",
      "Mean of strategy 0:1 is: 0.25866690957670596\n",
      "Ttest_indResult(statistic=8.648840980439044, pvalue=4.353983542646459e-17)\n"
     ]
    }
   ],
   "source": [
    "print_portfolios_compare_means(data_yearly, \"CuRe\", \"Short\")"
   ]
  },
  {
   "cell_type": "code",
   "execution_count": 17,
   "metadata": {},
   "outputs": [
    {
     "name": "stdout",
     "output_type": "stream",
     "text": [
      "Mean of strategy 1:0 is: -0.043638217967375055\n",
      "Ttest_indResult(statistic=-17.829317918696468, pvalue=6.323388459053542e-60)\n",
      "\n",
      "Mean of strategy 0.75:0.25 is: -0.02124120261780497\n",
      "Ttest_indResult(statistic=-16.409537609065417, pvalue=5.222470428251391e-50)\n",
      "\n",
      "Mean of strategy 0.67:0.33 is: -0.014074157705942537\n",
      "Ttest_indResult(statistic=-15.29171145414766, pvalue=2.1427145150284303e-43)\n",
      "\n",
      "Mean of strategy 0.5:0.5 is: 0.0011558127317651407\n",
      "Ttest_indResult(statistic=-11.49169325685909, pvalue=1.3969969014377435e-26)\n",
      "\n",
      "Mean of strategy 0.33:0.67 is: 0.016385783169472805\n",
      "Ttest_indResult(statistic=-6.468775530518654, pvalue=2.4153883962473553e-10)\n",
      "\n",
      "Mean of strategy 0.25:0.75 is: 0.023552828081335256\n",
      "Ttest_indResult(statistic=-4.148232991094586, pvalue=3.8524532269881476e-05)\n",
      "\n",
      "Mean of strategy 0:1 is: 0.045949843430905336\n",
      "Ttest_indResult(statistic=1.5760379870903498, pvalue=0.11542149203888812)\n"
     ]
    }
   ],
   "source": [
    "print_portfolios_compare_means(data_yearly, \"Sharpe\", \"Short\")"
   ]
  },
  {
   "cell_type": "code",
   "execution_count": 18,
   "metadata": {},
   "outputs": [
    {
     "name": "stdout",
     "output_type": "stream",
     "text": [
      "Mean of strategy 1:0 is: -0.04411451154417636\n",
      "Ttest_indResult(statistic=-17.7058869314302, pvalue=3.097474754458888e-59)\n",
      "\n",
      "Mean of strategy 0.75:0.25 is: -0.02108756659434843\n",
      "Ttest_indResult(statistic=-16.332562137222485, pvalue=9.349477990493703e-50)\n",
      "\n",
      "Mean of strategy 0.67:0.33 is: -0.013718944210403516\n",
      "Ttest_indResult(statistic=-15.206069310103876, pvalue=4.235890989746918e-43)\n",
      "\n",
      "Mean of strategy 0.5:0.5 is: 0.001939378355479447\n",
      "Ttest_indResult(statistic=-11.317190869298443, pvalue=5.705855307376535e-26)\n",
      "\n",
      "Mean of strategy 0.33:0.67 is: 0.017597700921362397\n",
      "Ttest_indResult(statistic=-6.184892011773046, pvalue=1.289703471334694e-09)\n",
      "\n",
      "Mean of strategy 0.25:0.75 is: 0.024966323305307323\n",
      "Ttest_indResult(statistic=-3.841830409546738, pvalue=0.00013509734936012076)\n",
      "\n",
      "Mean of strategy 0:1 is: 0.04799326825513521\n",
      "Ttest_indResult(statistic=1.8396913928531242, pvalue=0.06619336403164056)\n"
     ]
    }
   ],
   "source": [
    "print_portfolios_compare_means(data_yearly, \"Sortino\", \"Short\")"
   ]
  },
  {
   "cell_type": "code",
   "execution_count": 19,
   "metadata": {
    "scrolled": true
   },
   "outputs": [
    {
     "name": "stdout",
     "output_type": "stream",
     "text": [
      "Mean of strategy 1:0 is: -0.060938786024271455\n",
      "Ttest_indResult(statistic=-17.232655346013527, pvalue=4.0690854182769713e-53)\n",
      "\n",
      "Mean of strategy 0.75:0.25 is: -0.06181824617043642\n",
      "Ttest_indResult(statistic=-17.501695037624483, pvalue=2.3736072586986708e-54)\n",
      "\n",
      "Mean of strategy 0.67:0.33 is: -0.062099673417209136\n",
      "Ttest_indResult(statistic=-17.573339231541812, pvalue=1.133206525737936e-54)\n",
      "\n",
      "Mean of strategy 0.5:0.5 is: -0.06269770631660122\n",
      "Ttest_indResult(statistic=-17.702854318038217, pvalue=3.079001077108184e-55)\n",
      "\n",
      "Mean of strategy 0.33:0.67 is: -0.0632957392159934\n",
      "Ttest_indResult(statistic=-17.802388611165053, pvalue=1.1912262400824419e-55)\n",
      "\n",
      "Mean of strategy 0.25:0.75 is: -0.06357716646276612\n",
      "Ttest_indResult(statistic=-17.839248150455155, pvalue=8.567742353952536e-56)\n",
      "\n",
      "Mean of strategy 0:1 is: -0.06445662660893098\n",
      "Ttest_indResult(statistic=-17.915589024874354, pvalue=4.815579781444023e-56)\n"
     ]
    }
   ],
   "source": [
    "print_portfolios_compare_means(data_yearly, \"EVaR\", \"Short\")"
   ]
  }
 ],
 "metadata": {
  "kernelspec": {
   "display_name": "Python 3",
   "language": "python",
   "name": "python3"
  },
  "language_info": {
   "codemirror_mode": {
    "name": "ipython",
    "version": 3
   },
   "file_extension": ".py",
   "mimetype": "text/x-python",
   "name": "python",
   "nbconvert_exporter": "python",
   "pygments_lexer": "ipython3",
   "version": "3.8.5"
  }
 },
 "nbformat": 4,
 "nbformat_minor": 4
}
