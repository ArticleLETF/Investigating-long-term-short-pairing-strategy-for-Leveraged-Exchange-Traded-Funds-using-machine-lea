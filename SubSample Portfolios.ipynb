{
 "cells": [
  {
   "cell_type": "markdown",
   "metadata": {},
   "source": [
    "### Importing the required libraries and dataset"
   ]
  },
  {
   "cell_type": "code",
   "execution_count": 1,
   "metadata": {},
   "outputs": [],
   "source": [
    "import pandas as pd\n",
    "import numpy as np\n",
    "import scipy.stats as st"
   ]
  },
  {
   "cell_type": "code",
   "execution_count": 2,
   "metadata": {},
   "outputs": [],
   "source": [
    "data_quarter=pd.read_excel(r\"D:\\Elahe\\MSF\\Thesis\\Datasets\\Quarter.xlsx\")\n",
    "data_yearly=pd.read_excel(r\"D:\\Elahe\\MSF\\Thesis\\Datasets\\Year.xlsx\")"
   ]
  },
  {
   "cell_type": "markdown",
   "metadata": {},
   "source": [
    "### Subsample"
   ]
  },
  {
   "cell_type": "code",
   "execution_count": 3,
   "metadata": {},
   "outputs": [],
   "source": [
    "def Subset (dataset, separator, separate_value):\n",
    "    remove_rows=[]\n",
    "    for i in range (len(separator)):\n",
    "        if separator[i]!=separate_value:\n",
    "            remove_rows.append(i)\n",
    "    dataset=dataset.drop(remove_rows)\n",
    "    dataset=dataset.reset_index()\n",
    "    return dataset"
   ]
  },
  {
   "cell_type": "markdown",
   "metadata": {},
   "source": [
    "#### Subsample for different leverage times"
   ]
  },
  {
   "cell_type": "code",
   "execution_count": 4,
   "metadata": {},
   "outputs": [],
   "source": [
    "two_x_quarter=Subset(data_quarter,data_quarter[\"Leveraged\"],\"2x\")\n",
    "three_x_quarter=Subset(data_quarter,data_quarter[\"Leveraged\"],\"3x\")"
   ]
  },
  {
   "cell_type": "code",
   "execution_count": 5,
   "metadata": {},
   "outputs": [],
   "source": [
    "two_x_year=Subset(data_yearly,data_yearly[\"Leveraged\"],\"2x\")\n",
    "three_x_year=Subset(data_yearly,data_yearly[\"Leveraged\"],\"3x\")"
   ]
  },
  {
   "cell_type": "markdown",
   "metadata": {},
   "source": [
    "#### Subsample for different asset class"
   ]
  },
  {
   "cell_type": "code",
   "execution_count": 6,
   "metadata": {},
   "outputs": [],
   "source": [
    "Equity_Quarter=Subset(data_quarter,data_quarter[\"Asset_Class\"],\"Equity\")\n",
    "Commodity_Quarter=Subset(data_quarter,data_quarter[\"Asset_Class\"],\"Commodity\")\n",
    "Foreign_Equity_Quarter=Subset(data_quarter,data_quarter[\"Asset_Class\"],\"Foreign Equity\")\n",
    "Currency_Quarter=Subset(data_quarter,data_quarter[\"Asset_Class\"],\"Currency\")\n",
    "Real_Estate_Quarter=Subset(data_quarter,data_quarter[\"Asset_Class\"],\"Real Estate\")"
   ]
  },
  {
   "cell_type": "code",
   "execution_count": 7,
   "metadata": {},
   "outputs": [],
   "source": [
    "Equity_Year=Subset(data_yearly,data_yearly[\"Asset_Class\"],\"Equity\")\n",
    "Commodity_Year=Subset(data_yearly,data_yearly[\"Asset_Class\"],\"Commodity\")\n",
    "Foreign_Equity_Year=Subset(data_yearly,data_yearly[\"Asset_Class\"],\"Foreign Equity\")\n",
    "Currency_Year=Subset(data_yearly,data_yearly[\"Asset_Class\"],\"Currency\")\n",
    "Real_Estate_Year=Subset(data_yearly,data_yearly[\"Asset_Class\"],\"Real Estate\")"
   ]
  },
  {
   "cell_type": "markdown",
   "metadata": {},
   "source": [
    "#### Subsample for different market situation"
   ]
  },
  {
   "cell_type": "code",
   "execution_count": 8,
   "metadata": {},
   "outputs": [],
   "source": [
    "Bull_Market_Quarter=Subset(data_quarter,data_quarter[\"Market_situation\"],\"Bull\")\n",
    "Bear_Market_Quarter=Subset(data_quarter,data_quarter[\"Market_situation\"],\"Bear\")"
   ]
  },
  {
   "cell_type": "code",
   "execution_count": 9,
   "metadata": {},
   "outputs": [],
   "source": [
    "Bull_Market_Year=Subset(data_yearly,data_yearly[\"Market_situation\"],\"Bull\")\n",
    "Bear_Market_Year=Subset(data_yearly,data_yearly[\"Market_situation\"],\"Bear\")"
   ]
  },
  {
   "cell_type": "markdown",
   "metadata": {},
   "source": [
    "### Saving the datasets"
   ]
  },
  {
   "cell_type": "code",
   "execution_count": 10,
   "metadata": {},
   "outputs": [],
   "source": [
    "Equity_Quarter.to_excel(r\"D:\\Elahe\\MSF\\Thesis\\Datasets\\Subsample Datasets\\Equity_Quarter.xlsx\")\n",
    "Commodity_Quarter.to_excel(r\"D:\\Elahe\\MSF\\Thesis\\Datasets\\Subsample Datasets\\Commodity_Quarter.xlsx\")\n",
    "Foreign_Equity_Quarter.to_excel(r\"D:\\Elahe\\MSF\\Thesis\\Datasets\\Subsample Datasets\\Foreign_Equity_Quarter.xlsx\")\n",
    "Currency_Quarter.to_excel(r\"D:\\Elahe\\MSF\\Thesis\\Datasets\\Subsample Datasets\\Currency_Quarter.xlsx\")\n",
    "Real_Estate_Quarter.to_excel(r\"D:\\Elahe\\MSF\\Thesis\\Datasets\\Subsample Datasets\\Real_Estate_Quarter.xlsx\")"
   ]
  },
  {
   "cell_type": "code",
   "execution_count": 11,
   "metadata": {},
   "outputs": [],
   "source": [
    "Equity_Year.to_excel(r\"D:\\Elahe\\MSF\\Thesis\\Datasets\\Subsample Datasets\\Equity_Year.xlsx\")\n",
    "Commodity_Year.to_excel(r\"D:\\Elahe\\MSF\\Thesis\\Datasets\\Subsample Datasets\\Commodity_Year.xlsx\")\n",
    "Foreign_Equity_Year.to_excel(r\"D:\\Elahe\\MSF\\Thesis\\Datasets\\Subsample Datasets\\Foreign_Equity_Year.xlsx\")\n",
    "Currency_Year.to_excel(r\"D:\\Elahe\\MSF\\Thesis\\Datasets\\Subsample Datasets\\Currency_Year.xlsx\")\n",
    "Real_Estate_Year.to_excel(r\"D:\\Elahe\\MSF\\Thesis\\Datasets\\Subsample Datasets\\Real_Estate_Year.xlsx\")"
   ]
  },
  {
   "cell_type": "code",
   "execution_count": 12,
   "metadata": {},
   "outputs": [],
   "source": [
    "Bull_Market_Quarter.to_excel(r\"D:\\Elahe\\MSF\\Thesis\\Datasets\\Subsample Datasets\\Bull_Market_Quarter.xlsx\")\n",
    "Bear_Market_Quarter.to_excel(r\"D:\\Elahe\\MSF\\Thesis\\Datasets\\Subsample Datasets\\Bear_Market_Quarter.xlsx\")"
   ]
  },
  {
   "cell_type": "code",
   "execution_count": 13,
   "metadata": {},
   "outputs": [],
   "source": [
    "Bull_Market_Year.to_excel(r\"D:\\Elahe\\MSF\\Thesis\\Datasets\\Subsample Datasets\\Bull_Market_Year.xlsx\")\n",
    "Bear_Market_Year.to_excel(r\"D:\\Elahe\\MSF\\Thesis\\Datasets\\Subsample Datasets\\Bear_Market_Year.xlsx\")"
   ]
  },
  {
   "cell_type": "code",
   "execution_count": 14,
   "metadata": {},
   "outputs": [],
   "source": [
    "two_x_quarter.to_excel(r\"D:\\Elahe\\MSF\\Thesis\\Datasets\\Subsample Datasets\\Two_X_Quarter.xlsx\")\n",
    "three_x_quarter.to_excel(r\"D:\\Elahe\\MSF\\Thesis\\Datasets\\Subsample Datasets\\Three_X_Quarter.xlsx\")"
   ]
  },
  {
   "cell_type": "code",
   "execution_count": 15,
   "metadata": {},
   "outputs": [],
   "source": [
    "two_x_year.to_excel(r\"D:\\Elahe\\MSF\\Thesis\\Datasets\\Subsample Datasets\\Two_X_Year.xlsx\")\n",
    "three_x_year.to_excel(r\"D:\\Elahe\\MSF\\Thesis\\Datasets\\Subsample Datasets\\Three_X_Year.xlsx\")"
   ]
  },
  {
   "cell_type": "markdown",
   "metadata": {},
   "source": [
    "### Printing the mean of datasets and compare means"
   ]
  },
  {
   "cell_type": "code",
   "execution_count": 10,
   "metadata": {},
   "outputs": [],
   "source": [
    "def print_portfolios_mean_return (dataset, measurment, investment):\n",
    "    Name = measurment +\"-Portfolio\"\n",
    "    print (np.mean(dataset[Name +\" 1:0 \"+investment]), \n",
    "           np.mean(dataset[Name + \" 0.75:0.25 \"+investment]),\n",
    "           np.mean(dataset[Name + \" 0.67:0.33 \"+investment]),\n",
    "           np.mean(dataset[Name + \" 0.5:0.5 \"+investment]),\n",
    "           np.mean(dataset[Name + \" 0.33:0.67 \"+investment]),\n",
    "           np.mean(dataset[Name + \" 0.25:0.75 \"+investment]),\n",
    "           np.mean(dataset[Name + \" 0:1 \"+investment]),\n",
    "           sep='\\n')"
   ]
  },
  {
   "cell_type": "code",
   "execution_count": 11,
   "metadata": {},
   "outputs": [],
   "source": [
    "def subsample_print_quarter (measurment, investment):\n",
    "    print (\"Equity:\")\n",
    "    print_portfolios_mean_return(Equity_Quarter, measurment, investment)\n",
    "    print(\"\")\n",
    "    print (\"Foreign Equity:\")\n",
    "    print_portfolios_mean_return(Foreign_Equity_Quarter, measurment, investment)\n",
    "    print(\"\")\n",
    "    print (\"Real Estate:\")\n",
    "    print_portfolios_mean_return(Real_Estate_Quarter, measurment, investment)\n",
    "    print(\"\")\n",
    "    print (\"Commodity:\")\n",
    "    print_portfolios_mean_return(Commodity_Quarter, measurment, investment)\n",
    "    print(\"\")\n",
    "    print (\"Currency:\")\n",
    "    print_portfolios_mean_return(Currency_Quarter, measurment, investment)"
   ]
  },
  {
   "cell_type": "code",
   "execution_count": 12,
   "metadata": {},
   "outputs": [],
   "source": [
    "def subsample_print_year (measurment, investment):\n",
    "    print (\"Equity:\")\n",
    "    print_portfolios_mean_return(Equity_Year, measurment, investment)\n",
    "    print(\"\")\n",
    "    print (\"Foreign Equity:\")\n",
    "    print_portfolios_mean_return(Foreign_Equity_Year, measurment, investment)\n",
    "    print(\"\")\n",
    "    print (\"Real Estate:\")\n",
    "    print_portfolios_mean_return(Real_Estate_Year, measurment, investment)\n",
    "    print(\"\")\n",
    "    print (\"Commodity:\")\n",
    "    print_portfolios_mean_return(Commodity_Year, measurment, investment)\n",
    "    print(\"\")\n",
    "    print (\"Currency:\")\n",
    "    print_portfolios_mean_return(Currency_Year, measurment, investment)"
   ]
  },
  {
   "cell_type": "code",
   "execution_count": 13,
   "metadata": {},
   "outputs": [],
   "source": [
    "def print_portfolios_compare_means (dataset, measurment, investment):\n",
    "    Name = measurment +\"-Portfolio\"\n",
    "    print (\"Mean of strategy 1:0 is: \" + str(np.mean(dataset[Name +\" 1:0 \"+investment])),\n",
    "           st.ttest_ind(dataset[Name +\" 1:0 \"+investment].to_numpy(), dataset[\"Index \" + measurment].to_numpy(), equal_var=False),\n",
    "           \"\",\n",
    "           \n",
    "           \"Mean of strategy 0.75:0.25 is: \" + str(np.mean(dataset[Name + \" 0.75:0.25 \"+investment])),\n",
    "           st.ttest_ind(dataset[Name + \" 0.75:0.25 \"+investment].to_numpy(), dataset[\"Index \" + measurment].to_numpy(), equal_var=False),\n",
    "           \"\",\n",
    "           \n",
    "           \"Mean of strategy 0.67:0.33 is: \" + str(np.mean(dataset[Name + \" 0.67:0.33 \"+investment])),\n",
    "           st.ttest_ind(dataset[Name + \" 0.67:0.33 \"+investment].to_numpy(), dataset[\"Index \" + measurment].to_numpy(), equal_var=False),\n",
    "           \"\",\n",
    "           \n",
    "           \"Mean of strategy 0.5:0.5 is: \" + str(np.mean(dataset[Name + \" 0.5:0.5 \"+investment])),\n",
    "           st.ttest_ind(dataset[Name + \" 0.5:0.5 \"+investment].to_numpy(), dataset[\"Index \" + measurment].to_numpy(), equal_var=False),\n",
    "           \"\",\n",
    "           \n",
    "           \"Mean of strategy 0.33:0.67 is: \" + str(np.mean(dataset[Name + \" 0.33:0.67 \"+investment])),\n",
    "           st.ttest_ind(dataset[Name + \" 0.33:0.67 \"+investment].to_numpy(), dataset[\"Index \" + measurment].to_numpy(), equal_var=False),\n",
    "           \"\",\n",
    "           \n",
    "           \"Mean of strategy 0.25:0.75 is: \" + str(np.mean(dataset[Name + \" 0.25:0.75 \"+investment])),\n",
    "           st.ttest_ind(dataset[Name + \" 0.25:0.75 \"+investment].to_numpy(), dataset[\"Index \" + measurment].to_numpy(), equal_var=False),\n",
    "           \"\",\n",
    "           \n",
    "           \"Mean of strategy 0:1 is: \" + str(np.mean(dataset[Name + \" 0:1 \"+investment])),\n",
    "           st.ttest_ind(dataset[Name + \" 0:1 \"+investment].to_numpy(), dataset[\"Index \" + measurment].to_numpy(), equal_var=False),\n",
    "           sep='\\n'\n",
    "          )"
   ]
  },
  {
   "cell_type": "markdown",
   "metadata": {},
   "source": [
    "### Different underlying assets"
   ]
  },
  {
   "cell_type": "code",
   "execution_count": 45,
   "metadata": {},
   "outputs": [
    {
     "name": "stdout",
     "output_type": "stream",
     "text": [
      "Equity:\n",
      "-0.08880668655301302 -0.04181195311243893 -0.026773638411455164 0.005182780328135347 0.03713919906772582 0.05217751376870951 0.09917224720928378\n",
      "\n",
      "Foreign Equity:\n",
      "-0.037319529811593526 -0.011803021729320315 -0.003637739142992888 0.013713486352952898 0.031064711848898665 0.039229994435226116 0.06474650251749926\n",
      "\n",
      "Real Estate:\n",
      "-0.037391136939882844 -0.013441912750146189 -0.005778161009430462 0.010507311439590465 0.02679278388861139 0.034456535629327115 0.05840575981906377\n",
      "\n",
      "Commodity:\n",
      "0.013300139148514198 0.011980908810757794 0.011558755102675762 0.0106616784730014 0.009764601843327052 0.009342448135244997 0.00802321779748861\n",
      "\n",
      "Currency:\n",
      "0.014023482302534973 0.007373894510959723 0.0052460264176556375 0.0007243067193844711 -0.003797412978886696 -0.005925281072190776 -0.012574868863766023\n"
     ]
    }
   ],
   "source": [
    "subsample_print_quarter(\"CuRe\", \"Short\")"
   ]
  },
  {
   "cell_type": "code",
   "execution_count": 46,
   "metadata": {
    "scrolled": true
   },
   "outputs": [
    {
     "name": "stdout",
     "output_type": "stream",
     "text": [
      "Equity:\n",
      "-0.34901180188581354 -0.17616896163434798 -0.12085925275387904 -0.003326121382882558 0.11420700998811402 0.16951671886858297 0.34235955912004834\n",
      "\n",
      "Foreign Equity:\n",
      "-0.12466560838691468 -0.032214081637347805 -0.0026295930774863966 0.06023744511221908 0.12310448330192457 0.1526889718617859 0.24514049861135268\n",
      "\n",
      "Real Estate:\n",
      "-0.13904637392572522 -0.0476077682675866 -0.018347414456982254 0.04383083739055201 0.1060090892380863 0.13526944304869065 0.22670804870682926\n",
      "\n",
      "Commodity:\n",
      "0.10796596050099122 0.10322879071462476 0.10171289638298744 0.09849162092825821 0.095270345473529 0.09375445114189168 0.0890172813555252\n",
      "\n",
      "Currency:\n",
      "0.05789964777412601 0.03166087044486441 0.023264461699500708 0.005422093115602812 -0.01242027546829507 -0.020816684213658787 -0.047055461542920396\n"
     ]
    }
   ],
   "source": [
    "subsample_print_year(\"CuRe\", \"Short\")"
   ]
  },
  {
   "cell_type": "code",
   "execution_count": 59,
   "metadata": {
    "scrolled": true
   },
   "outputs": [
    {
     "name": "stdout",
     "output_type": "stream",
     "text": [
      "Mean of strategy 1:0 is: -0.037391136939882844\n",
      "Ttest_indResult(statistic=-1.8807439637845385, pvalue=0.06573018555258825)\n",
      "\n",
      "Mean of strategy 0.75:0.25 is: -0.013441912750146189\n",
      "Ttest_indResult(statistic=-1.532418295595936, pvalue=0.1299818042936959)\n",
      "\n",
      "Mean of strategy 0.67:0.33 is: -0.005778161009430462\n",
      "Ttest_indResult(statistic=-1.283812664732547, pvalue=0.20358584385341633)\n",
      "\n",
      "Mean of strategy 0.5:0.5 is: 0.010507311439590465\n",
      "Ttest_indResult(statistic=-0.3143571630454956, pvalue=0.7548521523801742)\n",
      "\n",
      "Mean of strategy 0.33:0.67 is: 0.02679278388861139\n",
      "Ttest_indResult(statistic=0.8945277473366915, pvalue=0.3750586732034119)\n",
      "\n",
      "Mean of strategy 0.25:0.75 is: 0.034456535629327115\n",
      "Ttest_indResult(statistic=1.2779210546092468, pvalue=0.2056817307507341)\n",
      "\n",
      "Mean of strategy 0:1 is: 0.05840575981906377\n",
      "Ttest_indResult(statistic=1.815664333527565, pvalue=0.07475786358894279)\n"
     ]
    }
   ],
   "source": [
    "print_portfolios_compare_means(Real_Estate_Quarter,\"CuRe\", \"Short\")"
   ]
  },
  {
   "cell_type": "code",
   "execution_count": 62,
   "metadata": {},
   "outputs": [
    {
     "name": "stdout",
     "output_type": "stream",
     "text": [
      "Mean of strategy 1:0 is: -0.13904637392572522\n",
      "Ttest_indResult(statistic=-1.792645054093655, pvalue=0.10151354396300076)\n",
      "\n",
      "Mean of strategy 0.75:0.25 is: -0.0476077682675866\n",
      "Ttest_indResult(statistic=-1.2964810862605742, pvalue=0.21693350990668134)\n",
      "\n",
      "Mean of strategy 0.67:0.33 is: -0.018347414456982254\n",
      "Ttest_indResult(statistic=-1.0325538261745313, pvalue=0.31870339347994237)\n",
      "\n",
      "Mean of strategy 0.5:0.5 is: 0.04383083739055201\n",
      "Ttest_indResult(statistic=-0.18296322757648187, pvalue=0.857136718084212)\n",
      "\n",
      "Mean of strategy 0.33:0.67 is: 0.1060090892380863\n",
      "Ttest_indResult(statistic=1.0475164898132585, pvalue=0.31242613048638623)\n",
      "\n",
      "Mean of strategy 0.25:0.75 is: 0.13526944304869065\n",
      "Ttest_indResult(statistic=1.6130916804614968, pvalue=0.12826633523201897)\n",
      "\n",
      "Mean of strategy 0:1 is: 0.22670804870682926\n",
      "Ttest_indResult(statistic=2.610518062460865, pvalue=0.019549567410209173)\n"
     ]
    }
   ],
   "source": [
    "print_portfolios_compare_means(Real_Estate_Year,\"CuRe\", \"Short\")"
   ]
  },
  {
   "cell_type": "code",
   "execution_count": 47,
   "metadata": {},
   "outputs": [
    {
     "name": "stdout",
     "output_type": "stream",
     "text": [
      "Equity:\n",
      "-0.0820274248751363 -0.0405384142941736 -0.02726193090826557 0.0009505962867890227 0.029163123481843644 0.04243960686775164 0.08392861744871424\n",
      "\n",
      "Foreign Equity:\n",
      "-0.042636096961005045 -0.02011683113864537 -0.012910666075490256 0.0024024346837143444 0.017715535442918942 0.02492170050607405 0.04744096632843373\n",
      "\n",
      "Real Estate:\n",
      "-0.05955870809666708 -0.028840014957653315 -0.01901003315316891 0.0018786781813604537 0.02276738951588982 0.03259737132037423 0.063316064459388\n",
      "\n",
      "Commodity:\n",
      "-0.003493543037405846 -0.001103962908758148 -0.000339297267590883 0.0012856172198895553 0.002910531707369992 0.003675197348537256 0.006064777477184956\n",
      "\n",
      "Currency:\n",
      "0.018125570155225392 0.007821292854378955 0.004523924118108095 -0.0024829844464674873 -0.009489893011043075 -0.012787261747313929 -0.023091539048160387\n"
     ]
    }
   ],
   "source": [
    "subsample_print_quarter(\"Sharpe\", \"Short\")"
   ]
  },
  {
   "cell_type": "code",
   "execution_count": 48,
   "metadata": {
    "scrolled": false
   },
   "outputs": [
    {
     "name": "stdout",
     "output_type": "stream",
     "text": [
      "Equity:\n",
      "-0.06444851971258914 -0.031664287371771904 -0.021173333022710395 0.001119944969045337 0.023413222960801068 0.03390417730986257 0.06668840965067982\n",
      "\n",
      "Foreign Equity:\n",
      "-0.03223487867077516 -0.015118854699008043 -0.009641727028042571 0.0019971692727590654 0.013636065573560707 0.019113193244526178 0.036229217216293276\n",
      "\n",
      "Real Estate:\n",
      "-0.048768647844473635 -0.02344566664842106 -0.015342312665684239 0.0018773145476315134 0.019096941760947266 0.027200295743684086 0.052523276939736664\n",
      "\n",
      "Commodity:\n",
      "-0.0020189081882480728 -0.00032479152447597177 0.0002173258079311008 0.001369325139296128 0.0025213244706611573 0.0030634418030682283 0.004757558466840328\n",
      "\n",
      "Currency:\n",
      "0.017212743269558777 0.007518328876775264 0.004416116271084544 -0.0021760855160082426 -0.008768287303101028 -0.011870499908791752 -0.02156491430157527\n"
     ]
    }
   ],
   "source": [
    "subsample_print_year(\"Sharpe\", \"Short\")"
   ]
  },
  {
   "cell_type": "code",
   "execution_count": 71,
   "metadata": {},
   "outputs": [
    {
     "name": "stdout",
     "output_type": "stream",
     "text": [
      "Mean of strategy 1:0 is: -0.05955870809666708\n",
      "Ttest_indResult(statistic=-3.8478339442274905, pvalue=0.00026064780908156696)\n",
      "\n",
      "Mean of strategy 0.75:0.25 is: -0.028840014957653315\n",
      "Ttest_indResult(statistic=-3.4480376331054328, pvalue=0.0011132087681092388)\n",
      "\n",
      "Mean of strategy 0.67:0.33 is: -0.01901003315316891\n",
      "Ttest_indResult(statistic=-3.162035264317276, pvalue=0.002837004296775662)\n",
      "\n",
      "Mean of strategy 0.5:0.5 is: 0.0018786781813604537\n",
      "Ttest_indResult(statistic=-2.2209999163797685, pvalue=0.03289637716220089)\n",
      "\n",
      "Mean of strategy 0.33:0.67 is: 0.02276738951588982\n",
      "Ttest_indResult(statistic=-1.0218578028590306, pvalue=0.312492748965693)\n",
      "\n",
      "Mean of strategy 0.25:0.75 is: 0.03259737132037423\n",
      "Ttest_indResult(statistic=-0.4857648707944395, pvalue=0.6291542965229882)\n",
      "\n",
      "Mean of strategy 0:1 is: 0.063316064459388\n",
      "Ttest_indResult(statistic=0.7828010796089687, pvalue=0.4363879998688619)\n"
     ]
    }
   ],
   "source": [
    "print_portfolios_compare_means(Real_Estate_Quarter,\"Sharpe\", \"Short\")"
   ]
  },
  {
   "cell_type": "code",
   "execution_count": 72,
   "metadata": {},
   "outputs": [
    {
     "name": "stdout",
     "output_type": "stream",
     "text": [
      "Mean of strategy 1:0 is: -0.048768647844473635\n",
      "Ttest_indResult(statistic=-3.067604777097934, pvalue=0.0073987982329745015)\n",
      "\n",
      "Mean of strategy 0.75:0.25 is: -0.02344566664842106\n",
      "Ttest_indResult(statistic=-2.7495458943035196, pvalue=0.01731761339179723)\n",
      "\n",
      "Mean of strategy 0.67:0.33 is: -0.015342312665684239\n",
      "Ttest_indResult(statistic=-2.5147897204293033, pvalue=0.030436836117951786)\n",
      "\n",
      "Mean of strategy 0.5:0.5 is: 0.0018773145476315134\n",
      "Ttest_indResult(statistic=-1.7323151771902277, pvalue=0.12113544293688266)\n",
      "\n",
      "Mean of strategy 0.33:0.67 is: 0.019096941760947266\n",
      "Ttest_indResult(statistic=-0.7420323273524755, pvalue=0.4746903547073882)\n",
      "\n",
      "Mean of strategy 0.25:0.75 is: 0.027200295743684086\n",
      "Ttest_indResult(statistic=-0.30705325143464285, pvalue=0.7638723936218632)\n",
      "\n",
      "Mean of strategy 0:1 is: 0.052523276939736664\n",
      "Ttest_indResult(statistic=0.6989066504855835, pvalue=0.49472048963046933)\n"
     ]
    }
   ],
   "source": [
    "print_portfolios_compare_means(Real_Estate_Year,\"Sharpe\", \"Short\")"
   ]
  },
  {
   "cell_type": "code",
   "execution_count": 49,
   "metadata": {},
   "outputs": [
    {
     "name": "stdout",
     "output_type": "stream",
     "text": [
      "Equity:\n",
      "-0.07756331048275777 -0.033533186941053526 -0.019443547407708123 0.010496936600650819 0.040437420609009754 0.05452706014235516 0.09855718368405941\n",
      "\n",
      "Foreign Equity:\n",
      "-0.03669087284283647 -0.013713411696824848 -0.006360624130101132 0.00926404944918677 0.02488872302847466 0.03224151059519839 0.05521897174120998\n",
      "\n",
      "Real Estate:\n",
      "-0.05460683219603558 -0.0233784158473929 -0.013385322615827236 0.007850000501249779 0.02908532361832679 0.03907841684989244 0.07030683319853513\n",
      "\n",
      "Commodity:\n",
      "0.00727959502705498 0.009389596959289028 0.010064797577603935 0.011499598891523086 0.01293440020544223 0.013609600823757133 0.015719602755991175\n",
      "\n",
      "Currency:\n",
      "0.03890797669303118 0.026431478270527338 0.02243899877532611 0.013954979848023472 0.005470960920720854 0.0014784814255196196 -0.010998016996984234\n"
     ]
    }
   ],
   "source": [
    "subsample_print_quarter(\"Sortino\", \"Short\")"
   ]
  },
  {
   "cell_type": "code",
   "execution_count": 50,
   "metadata": {
    "scrolled": true
   },
   "outputs": [
    {
     "name": "stdout",
     "output_type": "stream",
     "text": [
      "Equity:\n",
      "-0.06591657079505818 -0.03210464486427307 -0.021284828566421825 0.0017072810665120582 0.024699390699445954 0.0355192069972972 0.06933113292808225\n",
      "\n",
      "Foreign Equity:\n",
      "-0.031420918038253975 -0.01405828813812078 -0.008502246570078165 0.0033043417620124025 0.015110930094102972 0.020666971662145595 0.03802960156227879\n",
      "\n",
      "Real Estate:\n",
      "-0.05044733729780043 -0.024670784948767756 -0.016422288197077303 0.0011057674002649155 0.018633822997607134 0.026882319749297588 0.052658872098330256\n",
      "\n",
      "Commodity:\n",
      "-0.0013508617129101399 0.0003352314215357356 0.0008747812245584137 0.0020213245559816055 0.0031678678874048002 0.0037074176904274793 0.005393510824873353\n",
      "\n",
      "Currency:\n",
      "0.021464500131472344 0.0111962554330274 0.007910417129525022 0.0009280107345824627 -0.0060543956603600945 -0.009340233963862472 -0.01960847866230741\n"
     ]
    }
   ],
   "source": [
    "subsample_print_year(\"Sortino\", \"Short\")"
   ]
  },
  {
   "cell_type": "code",
   "execution_count": 84,
   "metadata": {},
   "outputs": [
    {
     "name": "stdout",
     "output_type": "stream",
     "text": [
      "Mean of strategy 1:0 is: -0.05460683219603558\n",
      "Ttest_indResult(statistic=-3.78007355870149, pvalue=0.00032652736887887196)\n",
      "\n",
      "Mean of strategy 0.75:0.25 is: -0.0233784158473929\n",
      "Ttest_indResult(statistic=-3.33245483586758, pvalue=0.0016119194401930652)\n",
      "\n",
      "Mean of strategy 0.67:0.33 is: -0.013385322615827236\n",
      "Ttest_indResult(statistic=-3.027642958710672, pvalue=0.004174838082990401)\n",
      "\n",
      "Mean of strategy 0.5:0.5 is: 0.007850000501249779\n",
      "Ttest_indResult(statistic=-2.0702769023036844, pvalue=0.045648619472501595)\n",
      "\n",
      "Mean of strategy 0.33:0.67 is: 0.02908532361832679\n",
      "Ttest_indResult(statistic=-0.9106590142352866, pvalue=0.36720166856195)\n",
      "\n",
      "Mean of strategy 0.25:0.75 is: 0.03907841684989244\n",
      "Ttest_indResult(statistic=-0.40365778918473466, pvalue=0.6880218935254262)\n",
      "\n",
      "Mean of strategy 0:1 is: 0.07030683319853513\n",
      "Ttest_indResult(statistic=0.7899999938019305, pvalue=0.43220885336579895)\n"
     ]
    }
   ],
   "source": [
    "print_portfolios_compare_means(Real_Estate_Quarter,\"Sortino\", \"Short\")"
   ]
  },
  {
   "cell_type": "code",
   "execution_count": 85,
   "metadata": {
    "scrolled": true
   },
   "outputs": [
    {
     "name": "stdout",
     "output_type": "stream",
     "text": [
      "Mean of strategy 1:0 is: -0.05044733729780043\n",
      "Ttest_indResult(statistic=-3.0847486165104265, pvalue=0.0072208517782957685)\n",
      "\n",
      "Mean of strategy 0.75:0.25 is: -0.024670784948767756\n",
      "Ttest_indResult(statistic=-2.7996666406569064, pvalue=0.015178690573240387)\n",
      "\n",
      "Mean of strategy 0.67:0.33 is: -0.016422288197077303\n",
      "Ttest_indResult(statistic=-2.5731581303330633, pvalue=0.026702963895992596)\n",
      "\n",
      "Mean of strategy 0.5:0.5 is: 0.0011057674002649155\n",
      "Ttest_indResult(statistic=-1.781879918247979, pvalue=0.11194148545573869)\n",
      "\n",
      "Mean of strategy 0.33:0.67 is: 0.018633822997607134\n",
      "Ttest_indResult(statistic=-0.7503411727255482, pvalue=0.4697117211456294)\n",
      "\n",
      "Mean of strategy 0.25:0.75 is: 0.026882319749297588\n",
      "Ttest_indResult(statistic=-0.2975032066561043, pvalue=0.7709033277820196)\n",
      "\n",
      "Mean of strategy 0:1 is: 0.052658872098330256\n",
      "Ttest_indResult(statistic=0.7329098302821893, pvalue=0.4743698317641125)\n"
     ]
    }
   ],
   "source": [
    "print_portfolios_compare_means(Real_Estate_Year,\"Sortino\", \"Short\")"
   ]
  },
  {
   "cell_type": "code",
   "execution_count": 92,
   "metadata": {},
   "outputs": [],
   "source": [
    "def subsample_allmeasurment_average (dataset, investment):\n",
    "    print (\"CuRe:\")\n",
    "    print_portfolios_mean_return(dataset, \"CuRe\", investment)\n",
    "    print(\"\")\n",
    "    print (\"Sharpe Ratio:\")\n",
    "    print_portfolios_mean_return(dataset, \"Sharpe\", investment)\n",
    "    print(\"\")\n",
    "    print (\"Sortino:\")\n",
    "    print_portfolios_mean_return(dataset, \"Sortino\", investment)"
   ]
  },
  {
   "cell_type": "markdown",
   "metadata": {},
   "source": [
    "### Market Situation"
   ]
  },
  {
   "cell_type": "code",
   "execution_count": 93,
   "metadata": {},
   "outputs": [
    {
     "name": "stdout",
     "output_type": "stream",
     "text": [
      "CuRe:\n",
      "-0.2667738394198171\n",
      "-0.14168701147534793\n",
      "-0.10165922653311771\n",
      "-0.01660018353087853\n",
      "0.06845885947136063\n",
      "0.10848664441359078\n",
      "0.23357347235806017\n",
      "\n",
      "Sharpe Ratio:\n",
      "-0.1798256225717727\n",
      "-0.08910329937575412\n",
      "-0.060072155953028256\n",
      "0.0016190238202642758\n",
      "0.06331020359355682\n",
      "0.09234134701628272\n",
      "0.18306367021230135\n",
      "\n",
      "Sortino:\n",
      "-0.17022564109447103\n",
      "-0.0735680514352359\n",
      "-0.042637622744280713\n",
      "0.023089538223999156\n",
      "0.08881669919227905\n",
      "0.11974712788323424\n",
      "0.21640471754246932\n"
     ]
    }
   ],
   "source": [
    "subsample_allmeasurment_average(Bull_Market_Quarter, \"Short\")"
   ]
  },
  {
   "cell_type": "code",
   "execution_count": 94,
   "metadata": {},
   "outputs": [
    {
     "name": "stdout",
     "output_type": "stream",
     "text": [
      "CuRe:\n",
      "-0.7092336909792374\n",
      "-0.414955579631145\n",
      "-0.3207865839997553\n",
      "-0.12067746828305238\n",
      "0.07943164743365061\n",
      "0.17360064306504036\n",
      "0.46787875441313276\n",
      "\n",
      "Sharpe Ratio:\n",
      "-0.11649823093479604\n",
      "-0.05782233264321996\n",
      "-0.03904604518991561\n",
      "0.0008535656483561227\n",
      "0.04075317648662787\n",
      "0.05952946393993222\n",
      "0.11820536223150833\n",
      "\n",
      "Sortino:\n",
      "-0.11826860090645719\n",
      "-0.05757640986652318\n",
      "-0.03815490873374427\n",
      "0.0031157811734108666\n",
      "0.044386471080566016\n",
      "0.06380797221334492\n",
      "0.12450016325327888\n"
     ]
    }
   ],
   "source": [
    "subsample_allmeasurment_average(Bull_Market_Year, \"Short\")"
   ]
  },
  {
   "cell_type": "code",
   "execution_count": 14,
   "metadata": {},
   "outputs": [
    {
     "name": "stdout",
     "output_type": "stream",
     "text": [
      "Mean of strategy 1:0 is: -0.1798256225717727\n",
      "Ttest_indResult(statistic=-60.51826377074935, pvalue=1.1357251107384624e-289)\n",
      "\n",
      "Mean of strategy 0.75:0.25 is: -0.08910329937575412\n",
      "Ttest_indResult(statistic=-57.63760152046942, pvalue=2.5108967513868323e-241)\n",
      "\n",
      "Mean of strategy 0.67:0.33 is: -0.060072155953028256\n",
      "Ttest_indResult(statistic=-54.59323842013666, pvalue=1.0873854642619857e-208)\n",
      "\n",
      "Mean of strategy 0.5:0.5 is: 0.0016190238202642758\n",
      "Ttest_indResult(statistic=-43.11697513522317, pvalue=3.8974925818266075e-150)\n",
      "\n",
      "Mean of strategy 0.33:0.67 is: 0.06331020359355682\n",
      "Ttest_indResult(statistic=-26.814770874102763, pvalue=6.776784714591442e-97)\n",
      "\n",
      "Mean of strategy 0.25:0.75 is: 0.09234134701628272\n",
      "Ttest_indResult(statistic=-19.06331606408988, pvalue=7.199105514565081e-63)\n",
      "\n",
      "Mean of strategy 0:1 is: 0.18306367021230135\n",
      "Ttest_indResult(statistic=0.3826778521861972, pvalue=0.7020677126280744)\n"
     ]
    }
   ],
   "source": [
    "print_portfolios_compare_means(Bull_Market_Quarter,\"Sharpe\", \"Short\")"
   ]
  },
  {
   "cell_type": "code",
   "execution_count": 15,
   "metadata": {},
   "outputs": [
    {
     "name": "stdout",
     "output_type": "stream",
     "text": [
      "Mean of strategy 1:0 is: -0.11649823093479604\n",
      "Ttest_indResult(statistic=-39.15921693195387, pvalue=7.0288272778672635e-96)\n",
      "\n",
      "Mean of strategy 0.75:0.25 is: -0.05782233264321996\n",
      "Ttest_indResult(statistic=-37.253294674685144, pvalue=3.6043232448621096e-81)\n",
      "\n",
      "Mean of strategy 0.67:0.33 is: -0.03904604518991561\n",
      "Ttest_indResult(statistic=-35.25592990984379, pvalue=4.677066576911081e-70)\n",
      "\n",
      "Mean of strategy 0.5:0.5 is: 0.0008535656483561227\n",
      "Ttest_indResult(statistic=-27.653441221557898, pvalue=1.543680935354514e-50)\n",
      "\n",
      "Mean of strategy 0.33:0.67 is: 0.04075317648662787\n",
      "Ttest_indResult(statistic=-16.76449946302614, pvalue=3.5718336050253346e-34)\n",
      "\n",
      "Mean of strategy 0.25:0.75 is: 0.05952946393993222\n",
      "Ttest_indResult(statistic=-11.593783318724963, pvalue=1.0029207416808388e-22)\n",
      "\n",
      "Mean of strategy 0:1 is: 0.11820536223150833\n",
      "Ttest_indResult(statistic=1.255381532933547, pvalue=0.21079307144829992)\n"
     ]
    }
   ],
   "source": [
    "print_portfolios_compare_means(Bull_Market_Year,\"Sharpe\", \"Short\")"
   ]
  },
  {
   "cell_type": "markdown",
   "metadata": {},
   "source": [
    "### 2x vs 3x"
   ]
  },
  {
   "cell_type": "code",
   "execution_count": 120,
   "metadata": {},
   "outputs": [
    {
     "name": "stdout",
     "output_type": "stream",
     "text": [
      "CuRe:\n",
      "-0.045035591687821556\n",
      "-0.019728986463511667\n",
      "-0.011630872791732473\n",
      "0.0055776187607982355\n",
      "0.02278611031332899\n",
      "0.030884223985108143\n",
      "0.056190829209418036\n",
      "\n",
      "Sharpe Ratio:\n",
      "-0.054978974328193965\n",
      "-0.027203186934212333\n",
      "-0.01831493496813823\n",
      "0.0005726004597692759\n",
      "0.019460135887676783\n",
      "0.028348387853750885\n",
      "0.05612417524773251\n",
      "\n",
      "Sortino:\n",
      "-0.048079537179240656\n",
      "-0.018567220663897006\n",
      "-0.009123279378987036\n",
      "0.010945095851446696\n",
      "0.03101347108188042\n",
      "0.04045741236679041\n",
      "0.06996972888213403\n"
     ]
    }
   ],
   "source": [
    "subsample_allmeasurment_average(two_x_quarter, \"Short\")"
   ]
  },
  {
   "cell_type": "code",
   "execution_count": 121,
   "metadata": {},
   "outputs": [
    {
     "name": "stdout",
     "output_type": "stream",
     "text": [
      "CuRe:\n",
      "-0.17430530839824274\n",
      "-0.07729518158048612\n",
      "-0.046251940998804086\n",
      "0.019714945237270343\n",
      "0.08568183147334481\n",
      "0.11672507205502697\n",
      "0.21373519887278333\n",
      "\n",
      "Sharpe Ratio:\n",
      "-0.042931632162729196\n",
      "-0.021092315764466015\n",
      "-0.01410373451702179\n",
      "0.0007470006337971732\n",
      "0.015597735784616144\n",
      "0.022586317032060356\n",
      "0.044425633430323554\n",
      "\n",
      "Sortino:\n",
      "-0.04325508154015659\n",
      "-0.020613375161041704\n",
      "-0.013368029119724956\n",
      "0.0020283312180731446\n",
      "0.017424691555871258\n",
      "0.024670037597188006\n",
      "0.04731174397630283\n"
     ]
    }
   ],
   "source": [
    "subsample_allmeasurment_average(two_x_year, \"Short\")"
   ]
  },
  {
   "cell_type": "code",
   "execution_count": 122,
   "metadata": {},
   "outputs": [
    {
     "name": "stdout",
     "output_type": "stream",
     "text": [
      "CuRe:\n",
      "-0.07616191878547184\n",
      "-0.03271650233849768\n",
      "-0.018813969075465974\n",
      "0.010728914108476468\n",
      "0.04027179729241886\n",
      "0.054174330555450574\n",
      "0.09761974700242483\n",
      "\n",
      "Sharpe Ratio:\n",
      "-0.058118082802122224\n",
      "-0.02803600586255806\n",
      "-0.018409741241897513\n",
      "0.002046071077006124\n",
      "0.022501883395909774\n",
      "0.032128148016570296\n",
      "0.062210224956134465\n",
      "\n",
      "Sortino:\n",
      "-0.051890887582371675\n",
      "-0.02094188468966903\n",
      "-0.011038203764004226\n",
      "0.010007118203033514\n",
      "0.031052440170071284\n",
      "0.04095612109573612\n",
      "0.07190512398843875\n"
     ]
    }
   ],
   "source": [
    "subsample_allmeasurment_average(three_x_quarter, \"Short\")"
   ]
  },
  {
   "cell_type": "code",
   "execution_count": 123,
   "metadata": {},
   "outputs": [
    {
     "name": "stdout",
     "output_type": "stream",
     "text": [
      "CuRe:\n",
      "-0.2629635924640467\n",
      "-0.11117180093365837\n",
      "-0.06259842764393415\n",
      "0.04061999059672989\n",
      "0.14383840883739396\n",
      "0.1924117821271183\n",
      "0.34420357365750637\n",
      "\n",
      "Sharpe Ratio:\n",
      "-0.04498334798066384\n",
      "-0.021524639071939102\n",
      "-0.014017852221147181\n",
      "0.0019340698367856437\n",
      "0.017885991894718477\n",
      "0.025392778745510384\n",
      "0.04885148765423514\n",
      "\n",
      "Sortino:\n",
      "-0.04575061162590279\n",
      "-0.021990286582199002\n",
      "-0.014386982568213783\n",
      "0.001770038461504782\n",
      "0.017927059491223356\n",
      "0.025530363505208556\n",
      "0.04929068854891234\n"
     ]
    }
   ],
   "source": [
    "subsample_allmeasurment_average(three_x_year, \"Short\")"
   ]
  },
  {
   "cell_type": "code",
   "execution_count": 134,
   "metadata": {},
   "outputs": [
    {
     "name": "stdout",
     "output_type": "stream",
     "text": [
      "Mean of strategy 1:0 is: -0.051890887582371675\n",
      "Ttest_indResult(statistic=-15.00858618073022, pvalue=2.281268933298371e-46)\n",
      "\n",
      "Mean of strategy 0.75:0.25 is: -0.02094188468966903\n",
      "Ttest_indResult(statistic=-13.679839421453213, pvalue=2.715000539640525e-38)\n",
      "\n",
      "Mean of strategy 0.67:0.33 is: -0.011038203764004226\n",
      "Ttest_indResult(statistic=-12.698982001532395, pvalue=3.376653082582529e-33)\n",
      "\n",
      "Mean of strategy 0.5:0.5 is: 0.010007118203033514\n",
      "Ttest_indResult(statistic=-9.523032749478427, pvalue=4.825159060667371e-20)\n",
      "\n",
      "Mean of strategy 0.33:0.67 is: 0.031052440170071284\n",
      "Ttest_indResult(statistic=-5.49196159484531, pvalue=5.556959812907614e-08)\n",
      "\n",
      "Mean of strategy 0.25:0.75 is: 0.04095612109573612\n",
      "Ttest_indResult(statistic=-3.6470963557667386, pvalue=0.0002817713293168095)\n",
      "\n",
      "Mean of strategy 0:1 is: 0.07190512398843875\n",
      "Ttest_indResult(statistic=0.94989174994817, pvalue=0.34238019814649356)\n"
     ]
    }
   ],
   "source": [
    "print_portfolios_compare_means(three_x_quarter,\"Sortino\", \"Short\")"
   ]
  },
  {
   "cell_type": "code",
   "execution_count": 135,
   "metadata": {},
   "outputs": [
    {
     "name": "stdout",
     "output_type": "stream",
     "text": [
      "Mean of strategy 1:0 is: -0.04575061162590279\n",
      "Ttest_indResult(statistic=-11.197749721762047, pvalue=3.958985166039896e-24)\n",
      "\n",
      "Mean of strategy 0.75:0.25 is: -0.021990286582199002\n",
      "Ttest_indResult(statistic=-10.382016901668322, pvalue=1.6798223256607866e-20)\n",
      "\n",
      "Mean of strategy 0.67:0.33 is: -0.014386982568213783\n",
      "Ttest_indResult(statistic=-9.712274431044712, pvalue=5.470423211393138e-18)\n",
      "\n",
      "Mean of strategy 0.5:0.5 is: 0.001770038461504782\n",
      "Ttest_indResult(statistic=-7.387712864737422, pvalue=1.3629537359518922e-11)\n",
      "\n",
      "Mean of strategy 0.33:0.67 is: 0.017927059491223356\n",
      "Ttest_indResult(statistic=-4.25701339735518, pvalue=3.467952996208621e-05)\n",
      "\n",
      "Mean of strategy 0.25:0.75 is: 0.025530363505208556\n",
      "Ttest_indResult(statistic=-2.7976107947449176, pvalue=0.005659277783785876)\n",
      "\n",
      "Mean of strategy 0:1 is: 0.04929068854891234\n",
      "Ttest_indResult(statistic=0.8210852616426985, pvalue=0.4123274838273424)\n"
     ]
    }
   ],
   "source": [
    "print_portfolios_compare_means(three_x_year,\"Sortino\", \"Short\")"
   ]
  },
  {
   "cell_type": "code",
   "execution_count": null,
   "metadata": {},
   "outputs": [],
   "source": [
    "subsample_allmeasurment_average(Bear_Market_Quarter, \"Long\")"
   ]
  },
  {
   "cell_type": "code",
   "execution_count": null,
   "metadata": {
    "scrolled": true
   },
   "outputs": [],
   "source": [
    "subsample_allmeasurment_average(Bull_Market_Quarter, \"Short\")"
   ]
  },
  {
   "cell_type": "code",
   "execution_count": null,
   "metadata": {},
   "outputs": [],
   "source": [
    "subsample_allmeasurment_average(Bear_Market_Quarter, \"Short\")"
   ]
  },
  {
   "cell_type": "code",
   "execution_count": null,
   "metadata": {},
   "outputs": [],
   "source": [
    "subsample_allmeasurment_average(Bull_Market_Year, \"Long\")"
   ]
  },
  {
   "cell_type": "code",
   "execution_count": null,
   "metadata": {},
   "outputs": [],
   "source": [
    "subsample_allmeasurment_average(Bear_Market_Year, \"Long\")"
   ]
  },
  {
   "cell_type": "code",
   "execution_count": null,
   "metadata": {},
   "outputs": [],
   "source": [
    "subsample_allmeasurment_average(Bull_Market_Year, \"Short\")"
   ]
  },
  {
   "cell_type": "code",
   "execution_count": null,
   "metadata": {
    "scrolled": true
   },
   "outputs": [],
   "source": [
    "subsample_allmeasurment_average(Bear_Market_Year, \"Short\")"
   ]
  },
  {
   "cell_type": "markdown",
   "metadata": {},
   "source": [
    "#### Different leverage times"
   ]
  },
  {
   "cell_type": "markdown",
   "metadata": {},
   "source": [
    "#### Comparing the means"
   ]
  },
  {
   "cell_type": "code",
   "execution_count": null,
   "metadata": {},
   "outputs": [],
   "source": [
    "print_portfolios_compare_means(Two_X_Quarter, \"CuRe\", \"Short\")"
   ]
  },
  {
   "cell_type": "code",
   "execution_count": null,
   "metadata": {},
   "outputs": [],
   "source": [
    "print_portfolios_compare_means(Three_X_Quarter, \"CuRe\", \"Short\")"
   ]
  },
  {
   "cell_type": "code",
   "execution_count": null,
   "metadata": {},
   "outputs": [],
   "source": [
    "print_portfolios_compare_means(Two_X_Year, \"CuRe\", \"Short\")"
   ]
  },
  {
   "cell_type": "code",
   "execution_count": null,
   "metadata": {},
   "outputs": [],
   "source": [
    "print_portfolios_compare_means(Three_X_Year, \"CuRe\", \"Short\")"
   ]
  }
 ],
 "metadata": {
  "kernelspec": {
   "display_name": "Python 3",
   "language": "python",
   "name": "python3"
  },
  "language_info": {
   "codemirror_mode": {
    "name": "ipython",
    "version": 3
   },
   "file_extension": ".py",
   "mimetype": "text/x-python",
   "name": "python",
   "nbconvert_exporter": "python",
   "pygments_lexer": "ipython3",
   "version": "3.8.5"
  }
 },
 "nbformat": 4,
 "nbformat_minor": 4
}
